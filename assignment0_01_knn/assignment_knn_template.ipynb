{
 "cells": [
  {
   "cell_type": "code",
   "execution_count": 1,
   "metadata": {},
   "outputs": [],
   "source": [
    "NAME = \"Juan Carlos\"\n",
    "COLLABORATORS = \"\""
   ]
  },
  {
   "cell_type": "code",
   "execution_count": 2,
   "metadata": {},
   "outputs": [],
   "source": [
    "import sys\n",
    "\n",
    "import numpy as np\n",
    "import unittest\n",
    "import time\n",
    "\n",
    "import collections\n",
    "#import pickleg\n",
    "import io"
   ]
  },
  {
   "cell_type": "code",
   "execution_count": 8,
   "metadata": {},
   "outputs": [],
   "source": [
    "from sklearn import datasets\n",
    "dataset = datasets.load_digits()\n",
    "# First 100 images will be used for testing. This dataset is not sorted by the labels, so it's ok\n",
    "# to do the split this way.\n",
    "# Please be careful when you split your data into train and test in general.\n",
    "test_border = 100\n",
    "X_train, y_train = dataset.data[test_border:], dataset.target[test_border:]\n",
    "X_test, y_test = dataset.data[:test_border], dataset.target[:test_border]\n",
    "\n",
    "\n",
    "num_test = X_test.shape[0]"
   ]
  },
  {
   "cell_type": "code",
   "execution_count": 1,
   "metadata": {},
   "outputs": [],
   "source": [
    "class KNearestNeighbor:\n",
    "     from math import dist\n",
    "import numpy as np\n",
    "\"\"\"\n",
    "Credits: the original code belongs to Stanford CS231n course assignment1. Source link: http://cs231n.github.io/assignments2019/assignment1/\n",
    "\"\"\"\n",
    "\n",
    "class KNearestNeighbor:\n",
    "    \"\"\" a kNN classifier with L2 distance \"\"\"\n",
    "\n",
    "    def __init__(self):\n",
    "        pass\n",
    "\n",
    "    def fit(self, X, y):\n",
    "        \"\"\"\n",
    "        Train the classifier. For k-nearest neighbors this is just\n",
    "        memorizing the training data.\n",
    "        Inputs:\n",
    "        - X: A numpy array of shape (num_train, D) containing the training data\n",
    "          consisting of num_train samples each of dimension D.\n",
    "        - y: A numpy array of shape (N,) containing the training labels, where\n",
    "             y[i] is the label for X[i].\n",
    "        \"\"\"\n",
    "        self.X_train = X\n",
    "        self.y_train = y\n",
    "\n",
    "    def predict(self, X, k=1, num_loops=0):\n",
    "        \"\"\"\n",
    "        Predict labels for test data using this classifier.\n",
    "        Inputs:\n",
    "        - X: A numpy array of shape (num_test, D) containing test data consisting\n",
    "             of num_test samples each of dimension D.\n",
    "        - k: The number of nearest neighbors that vote for the predicted labels.\n",
    "        - num_loops: Determines which implementation to use to compute distances\n",
    "          between training points and testing points.\n",
    "        Returns:\n",
    "        - y: A numpy array of shape (num_test,) containing predicted labels for the\n",
    "          test data, where y[i] is the predicted label for the test point X[i].\n",
    "        \"\"\"\n",
    "        if num_loops == 0:\n",
    "            dists = self.compute_distances_no_loops(X)\n",
    "        elif num_loops == 1:\n",
    "            dists = self.compute_distances_one_loop(X)\n",
    "        elif num_loops == 2:\n",
    "            dists = self.compute_distances_two_loops(X)\n",
    "        else:\n",
    "            raise ValueError('Invalid value %d for num_loops' % num_loops)\n",
    "\n",
    "        return self.predict_labels(dists, k=k)\n",
    "\n",
    "    def compute_distances_two_loops(self, X):\n",
    "        \"\"\"\n",
    "        Compute the distance between each test point in X and each training point\n",
    "        in self.X_train using a nested loop over both the training data and the\n",
    "        test data.\n",
    "        Inputs:\n",
    "        - X: A numpy array of shape (num_test, D) containing test data.\n",
    "        Returns:\n",
    "        - dists: A numpy array of shape (num_test, num_train) where dists[i, j]\n",
    "          is the Euclidean distance between the ith test point and the jth training\n",
    "          point.\n",
    "        \"\"\"\n",
    "        num_test = X.shape[0]\n",
    "        num_train = self.X_train.shape[0]\n",
    "        dists = np.zeros((num_test, num_train))\n",
    "        for i in range(num_test):\n",
    "            for j in range(num_train):\n",
    "                #####################################################################\n",
    "                # TODO:                                                             #\n",
    "                # Compute the l2 distance between the ith test point and the jth    #\n",
    "                # training point, and store the result in dists[i, j]. You should   #\n",
    "                # not use a loop over dimension, nor use np.linalg.norm().          #\n",
    "                #####################################################################\n",
    "                # *****START OF YOUR CODE (DO NOT DELETE/MODIFY THIS LINE)*****\n",
    "                dists[i, j] = np.sqrt(np.sum( np.square(X[i] - self.X_train[j]) ))\n",
    "                # *****END OF YOUR CODE (DO NOT DELETE/MODIFY THIS LINE)*****\n",
    "        return dists\n",
    "\n",
    "    def compute_distances_one_loop(self, X):\n",
    "        \"\"\"\n",
    "        Compute the distance between each test point in X and each training point\n",
    "        in self.X_train using a single loop over the test data.\n",
    "        Input / Output: Same as compute_distances_two_loops\n",
    "        \"\"\"\n",
    "        num_test = X.shape[0]\n",
    "        num_train = self.X_train.shape[0]\n",
    "        dists = np.zeros((num_test, num_train))\n",
    "        for i in range(num_test):\n",
    "            #######################################################################\n",
    "            # TODO:                                                               #\n",
    "            # Compute the l2 distance between the ith test point and all training #\n",
    "            # points, and store the result in dists[i, :].                        #\n",
    "            # Do not use np.linalg.norm().                                        #\n",
    "            #######################################################################\n",
    "            # *****START OF YOUR CODE (DO NOT DELETE/MODIFY THIS LINE)*****\n",
    "            dists[i, :] = np.sqrt(np.sum( np.square(self.X_train - X[i]), axis=1))\n",
    "            # *****END OF YOUR CODE (DO NOT DELETE/MODIFY THIS LINE)*****\n",
    "        return dists\n",
    "\n",
    "    def compute_distances_no_loops(self, X):\n",
    "        \"\"\"\n",
    "        Compute the distance between each test point in X and each training point\n",
    "        in self.X_train using no explicit loops.\n",
    "        Input / Output: Same as compute_distances_two_loops\n",
    "        \"\"\"\n",
    "        num_test = X.shape[0]\n",
    "        num_train = self.X_train.shape[0]\n",
    "        dists = np.zeros((num_test, num_train))\n",
    "        #########################################################################\n",
    "        # TODO:                                                                 #\n",
    "        # Compute the l2 distance between all test points and all training      #\n",
    "        # points without using any explicit loops, and store the result in      #\n",
    "        # dists.                                                                #\n",
    "        #                                                                       #\n",
    "        # You should implement this function using only basic array operations; #\n",
    "        # in particular you should not use functions from scipy,                #\n",
    "        # nor use np.linalg.norm().                                             #\n",
    "        #                                                                       #\n",
    "        # HINT: Try to formulate the l2 distance using matrix multiplication    #\n",
    "        #       and two broadcast sums.                                         #\n",
    "        #########################################################################\n",
    "        # *****START OF YOUR CODE (DO NOT DELETE/MODIFY THIS LINE)*****\n",
    "        X_norms = np.sum(np.square(X) , axis = 1, keepdims = True)\n",
    "        X_train_norms = np.sum(np.square(self.X_train), axis = 1)\n",
    "        cross = X.dot(self.X_train.T)\n",
    "        dists = np.sqrt(np.add(X_norms, X_train_norms) - 2.0*cross )\n",
    "        # *****END OF YOUR CODE (DO NOT DELETE/MODIFY THIS LINE)*****\n",
    "        return dists\n",
    "\n",
    "    def predict_labels(self, dists, k=1):\n",
    "        \"\"\"\n",
    "        Given a matrix of distances between test points and training points,\n",
    "        predict a label for each test point.\n",
    "        Inputs:\n",
    "        - dists: A numpy array of shape (num_test, num_train) where dists[i, j]\n",
    "          gives the distance betwen the ith test point and the jth training point.\n",
    "        Returns:\n",
    "        - y: A numpy array of shape (num_test,) containing predicted labels for the\n",
    "          test data, where y[i] is the predicted label for the test point X[i].\n",
    "        \"\"\"\n",
    "        num_test = dists.shape[0]\n",
    "        y_pred = np.zeros(num_test)\n",
    "        for i in range(num_test):\n",
    "            # A list of length k storing the labels of the k nearest neighbors to\n",
    "            # the ith test point.\n",
    "            #########################################################################\n",
    "            # TODO:                                                                 #\n",
    "            # Use the distance matrix to find the k nearest neighbors of the ith    #\n",
    "            # testing point, and use self.y_train to find the labels of these       #\n",
    "            # neighbors. Store these labels in closest_y.                           #\n",
    "            # Hint: Look up the function numpy.argsort.                             #\n",
    "            #########################################################################\n",
    "            # *****START OF YOUR CODE (DO NOT DELETE/MODIFY THIS LINE)*****\n",
    "            \n",
    "            closest_y = self.y_train[dists[i].argsort()[:k]]\n",
    "\n",
    "            # *****END OF YOUR CODE (DO NOT DELETE/MODIFY THIS LINE)*****\n",
    "            #########################################################################\n",
    "            # TODO:                                                                 #\n",
    "            # Now that you have found the labels of the k nearest neighbors, you    #\n",
    "            # need to find the most common label in the list closest_y of labels.   #\n",
    "            # Store this label in y_pred[i]. Break ties by choosing the smaller     #\n",
    "            # label.                                                                #\n",
    "            #########################################################################\n",
    "            # *****START OF YOUR CODE (DO NOT DELETE/MODIFY THIS LINE)*****\n",
    "            y_count = np.bincount(closest_y) \n",
    "            max_count = max(y_count)\n",
    "            for y in closest_y:\n",
    "                if(np.sum(closest_y == y) == max_count):\n",
    "                    y_pred[i] = y\n",
    "                    break   \n",
    "\n",
    "            # *****END OF YOUR CODE (DO NOT DELETE/MODIFY THIS LINE)*****\n",
    "\n",
    "        return y_pred\n",
    "#raise NotImplementedError()"
   ]
  },
  {
   "cell_type": "markdown",
   "metadata": {},
   "source": [
    "Test 1: Two loops (0.05 points)"
   ]
  },
  {
   "cell_type": "code",
   "execution_count": 2,
   "metadata": {},
   "outputs": [],
   "source": [
    "# do not change this cell\n",
    "knn_test = KNearestNeighbor()"
   ]
  },
  {
   "cell_type": "code",
   "execution_count": 3,
   "metadata": {},
   "outputs": [
    {
     "ename": "NameError",
     "evalue": "name 'X_train' is not defined",
     "output_type": "error",
     "traceback": [
      "\u001b[0;31m---------------------------------------------------------------------------\u001b[0m",
      "\u001b[0;31mNameError\u001b[0m                                 Traceback (most recent call last)",
      "\u001b[1;32m/home/jctuesta/Documents/ML/ML_Homework/assignment0_01_knn/assignment_knn_template.ipynb Cell 7\u001b[0m in \u001b[0;36m<cell line: 10>\u001b[0;34m()\u001b[0m\n\u001b[1;32m      <a href='vscode-notebook-cell:/home/jctuesta/Documents/ML/ML_Homework/assignment0_01_knn/assignment_knn_template.ipynb#W6sZmlsZQ%3D%3D?line=6'>7</a>\u001b[0m     toc \u001b[39m=\u001b[39m time\u001b[39m.\u001b[39mtime()\n\u001b[1;32m      <a href='vscode-notebook-cell:/home/jctuesta/Documents/ML/ML_Homework/assignment0_01_knn/assignment_knn_template.ipynb#W6sZmlsZQ%3D%3D?line=7'>8</a>\u001b[0m     \u001b[39mreturn\u001b[39;00m toc \u001b[39m-\u001b[39m tic, output\n\u001b[0;32m---> <a href='vscode-notebook-cell:/home/jctuesta/Documents/ML/ML_Homework/assignment0_01_knn/assignment_knn_template.ipynb#W6sZmlsZQ%3D%3D?line=9'>10</a>\u001b[0m knn_test\u001b[39m.\u001b[39mfit(X_train, y_train)\n\u001b[1;32m     <a href='vscode-notebook-cell:/home/jctuesta/Documents/ML/ML_Homework/assignment0_01_knn/assignment_knn_template.ipynb#W6sZmlsZQ%3D%3D?line=10'>11</a>\u001b[0m real_distances \u001b[39m=\u001b[39m knn_test\u001b[39m.\u001b[39mcompute_distances_two_loops(X_train)\n\u001b[1;32m     <a href='vscode-notebook-cell:/home/jctuesta/Documents/ML/ML_Homework/assignment0_01_knn/assignment_knn_template.ipynb#W6sZmlsZQ%3D%3D?line=12'>13</a>\u001b[0m np\u001b[39m.\u001b[39mrandom\u001b[39m.\u001b[39mseed(\u001b[39m42\u001b[39m)\n",
      "\u001b[0;31mNameError\u001b[0m: name 'X_train' is not defined"
     ]
    }
   ],
   "source": [
    "def time_function(f, *args):\n",
    "    \"\"\"\n",
    "    Call a function f with args and return the time (in seconds) that it took to execute.\n",
    "    \"\"\"\n",
    "    tic = time.time()\n",
    "    output = f(*args)\n",
    "    toc = time.time()\n",
    "    return toc - tic, output\n",
    "\n",
    "knn_test.fit(X_train, y_train)\n",
    "real_distances = knn_test.compute_distances_two_loops(X_train)\n",
    "\n",
    "np.random.seed(42)\n",
    "two_loop_time, out_2_loops = time_function(knn_test.compute_distances_two_loops, X_test)\n",
    "assert np.allclose(real_distances, out_2_loops, atol=1e-6)"
   ]
  },
  {
   "cell_type": "markdown",
   "metadata": {},
   "source": [
    "Test 2: One loop (0.1 points)"
   ]
  },
  {
   "cell_type": "code",
   "execution_count": 4,
   "metadata": {},
   "outputs": [
    {
     "ename": "NameError",
     "evalue": "name 'X_test' is not defined",
     "output_type": "error",
     "traceback": [
      "\u001b[0;31m---------------------------------------------------------------------------\u001b[0m",
      "\u001b[0;31mNameError\u001b[0m                                 Traceback (most recent call last)",
      "\u001b[1;32m/home/jctuesta/Documents/ML/ML_Homework/assignment0_01_knn/assignment_knn_template.ipynb Cell 9\u001b[0m in \u001b[0;36m<cell line: 2>\u001b[0;34m()\u001b[0m\n\u001b[1;32m      <a href='vscode-notebook-cell:/home/jctuesta/Documents/ML/ML_Homework/assignment0_01_knn/assignment_knn_template.ipynb#X11sZmlsZQ%3D%3D?line=0'>1</a>\u001b[0m np\u001b[39m.\u001b[39mrandom\u001b[39m.\u001b[39mseed(\u001b[39m42\u001b[39m)\n\u001b[0;32m----> <a href='vscode-notebook-cell:/home/jctuesta/Documents/ML/ML_Homework/assignment0_01_knn/assignment_knn_template.ipynb#X11sZmlsZQ%3D%3D?line=1'>2</a>\u001b[0m one_loop_time, out_1_loops \u001b[39m=\u001b[39m time_function(knn_test\u001b[39m.\u001b[39mcompute_distances_one_loop, X_test)\n\u001b[1;32m      <a href='vscode-notebook-cell:/home/jctuesta/Documents/ML/ML_Homework/assignment0_01_knn/assignment_knn_template.ipynb#X11sZmlsZQ%3D%3D?line=2'>3</a>\u001b[0m \u001b[39massert\u001b[39;00m np\u001b[39m.\u001b[39mallclose(real_distances, out_1_loops, atol\u001b[39m=\u001b[39m\u001b[39m1e-6\u001b[39m)\n",
      "\u001b[0;31mNameError\u001b[0m: name 'X_test' is not defined"
     ]
    }
   ],
   "source": [
    "np.random.seed(42)\n",
    "one_loop_time, out_1_loops = time_function(knn_test.compute_distances_one_loop, X_test)\n",
    "assert np.allclose(real_distances, out_1_loops, atol=1e-6)"
   ]
  },
  {
   "cell_type": "markdown",
   "metadata": {},
   "source": [
    "Test 3: No loops (0.4 points)"
   ]
  },
  {
   "cell_type": "code",
   "execution_count": 5,
   "metadata": {},
   "outputs": [
    {
     "ename": "NameError",
     "evalue": "name 'X_test' is not defined",
     "output_type": "error",
     "traceback": [
      "\u001b[0;31m---------------------------------------------------------------------------\u001b[0m",
      "\u001b[0;31mNameError\u001b[0m                                 Traceback (most recent call last)",
      "\u001b[1;32m/home/jctuesta/Documents/ML/ML_Homework/assignment0_01_knn/assignment_knn_template.ipynb Cell 11\u001b[0m in \u001b[0;36m<cell line: 2>\u001b[0;34m()\u001b[0m\n\u001b[1;32m      <a href='vscode-notebook-cell:/home/jctuesta/Documents/ML/ML_Homework/assignment0_01_knn/assignment_knn_template.ipynb#X13sZmlsZQ%3D%3D?line=0'>1</a>\u001b[0m np\u001b[39m.\u001b[39mrandom\u001b[39m.\u001b[39mseed(\u001b[39m42\u001b[39m)\n\u001b[0;32m----> <a href='vscode-notebook-cell:/home/jctuesta/Documents/ML/ML_Homework/assignment0_01_knn/assignment_knn_template.ipynb#X13sZmlsZQ%3D%3D?line=1'>2</a>\u001b[0m no_loop_time, out_no_loops \u001b[39m=\u001b[39m time_function(knn_test\u001b[39m.\u001b[39mcompute_distances_no_loops, X_test)\n\u001b[1;32m      <a href='vscode-notebook-cell:/home/jctuesta/Documents/ML/ML_Homework/assignment0_01_knn/assignment_knn_template.ipynb#X13sZmlsZQ%3D%3D?line=2'>3</a>\u001b[0m \u001b[39massert\u001b[39;00m np\u001b[39m.\u001b[39mallclose(real_distances, out_no_loops, atol\u001b[39m=\u001b[39m\u001b[39m1e-6\u001b[39m)\n",
      "\u001b[0;31mNameError\u001b[0m: name 'X_test' is not defined"
     ]
    }
   ],
   "source": [
    "np.random.seed(42)\n",
    "no_loop_time, out_no_loops = time_function(knn_test.compute_distances_no_loops, X_test)\n",
    "assert np.allclose(real_distances, out_no_loops, atol=1e-6)"
   ]
  },
  {
   "cell_type": "markdown",
   "metadata": {},
   "source": [
    "Test 4: No loops timing (0.15 points)"
   ]
  },
  {
   "cell_type": "code",
   "execution_count": 6,
   "metadata": {},
   "outputs": [
    {
     "ename": "NameError",
     "evalue": "name 'X_test' is not defined",
     "output_type": "error",
     "traceback": [
      "\u001b[0;31m---------------------------------------------------------------------------\u001b[0m",
      "\u001b[0;31mNameError\u001b[0m                                 Traceback (most recent call last)",
      "\u001b[1;32m/home/jctuesta/Documents/ML/ML_Homework/assignment0_01_knn/assignment_knn_template.ipynb Cell 13\u001b[0m in \u001b[0;36m<cell line: 2>\u001b[0;34m()\u001b[0m\n\u001b[1;32m      <a href='vscode-notebook-cell:/home/jctuesta/Documents/ML/ML_Homework/assignment0_01_knn/assignment_knn_template.ipynb#X15sZmlsZQ%3D%3D?line=0'>1</a>\u001b[0m np\u001b[39m.\u001b[39mrandom\u001b[39m.\u001b[39mseed(\u001b[39m42\u001b[39m)\n\u001b[0;32m----> <a href='vscode-notebook-cell:/home/jctuesta/Documents/ML/ML_Homework/assignment0_01_knn/assignment_knn_template.ipynb#X15sZmlsZQ%3D%3D?line=1'>2</a>\u001b[0m two_loop_time, out_2_loops \u001b[39m=\u001b[39m time_function(knn_test\u001b[39m.\u001b[39mcompute_distances_two_loops, X_test)\n\u001b[1;32m      <a href='vscode-notebook-cell:/home/jctuesta/Documents/ML/ML_Homework/assignment0_01_knn/assignment_knn_template.ipynb#X15sZmlsZQ%3D%3D?line=2'>3</a>\u001b[0m no_loop_time, out_no_loops \u001b[39m=\u001b[39m time_function(knn_test\u001b[39m.\u001b[39mcompute_distances_no_loops, X_test)\n\u001b[1;32m      <a href='vscode-notebook-cell:/home/jctuesta/Documents/ML/ML_Homework/assignment0_01_knn/assignment_knn_template.ipynb#X15sZmlsZQ%3D%3D?line=3'>4</a>\u001b[0m \u001b[39massert\u001b[39;00m np\u001b[39m.\u001b[39mlog(two_loop_time) \u001b[39m-\u001b[39m np\u001b[39m.\u001b[39mlog(no_loop_time) \u001b[39m>\u001b[39m np\u001b[39m.\u001b[39mlog(\u001b[39m50\u001b[39m)\n",
      "\u001b[0;31mNameError\u001b[0m: name 'X_test' is not defined"
     ]
    }
   ],
   "source": [
    "np.random.seed(42)\n",
    "two_loop_time, out_2_loops = time_function(knn_test.compute_distances_two_loops, X_test)\n",
    "no_loop_time, out_no_loops = time_function(knn_test.compute_distances_no_loops, X_test)\n",
    "assert np.log(two_loop_time) - np.log(no_loop_time) > np.log(50)"
   ]
  },
  {
   "cell_type": "markdown",
   "metadata": {},
   "source": [
    "Test 5: Labels prediction (0.3 points)"
   ]
  },
  {
   "cell_type": "code",
   "execution_count": 74,
   "metadata": {},
   "outputs": [
    {
     "ename": "NameError",
     "evalue": "name 'Y_test' is not defined",
     "output_type": "error",
     "traceback": [
      "\u001b[0;31m---------------------------------------------------------------------------\u001b[0m",
      "\u001b[0;31mNameError\u001b[0m                                 Traceback (most recent call last)",
      "\u001b[1;32m/home/jctuesta/Documents/ML/ML_Homework/assignment0_01_knn/assignment_knn_template.ipynb Cell 15\u001b[0m in \u001b[0;36m<cell line: 3>\u001b[0;34m()\u001b[0m\n\u001b[1;32m      <a href='vscode-notebook-cell:/home/jctuesta/Documents/ML/ML_Homework/assignment0_01_knn/assignment_knn_template.ipynb#X25sZmlsZQ%3D%3D?line=4'>5</a>\u001b[0m predicted_labels \u001b[39m=\u001b[39m knn_test\u001b[39m.\u001b[39mpredict(X_test, k\u001b[39m=\u001b[39mk)\n\u001b[1;32m      <a href='vscode-notebook-cell:/home/jctuesta/Documents/ML/ML_Homework/assignment0_01_knn/assignment_knn_template.ipynb#X25sZmlsZQ%3D%3D?line=5'>6</a>\u001b[0m predicted_labels \u001b[39m=\u001b[39m np\u001b[39m.\u001b[39marray(predicted_labels, dtype\u001b[39m=\u001b[39m\u001b[39mint\u001b[39m)\u001b[39m.\u001b[39msqueeze()\n\u001b[0;32m----> <a href='vscode-notebook-cell:/home/jctuesta/Documents/ML/ML_Homework/assignment0_01_knn/assignment_knn_template.ipynb#X25sZmlsZQ%3D%3D?line=6'>7</a>\u001b[0m real_labels \u001b[39m=\u001b[39m np\u001b[39m.\u001b[39marray(knn_test\u001b[39m.\u001b[39mpredict(Y_test, k\u001b[39m=\u001b[39mk), dtype\u001b[39m=\u001b[39m\u001b[39mint\u001b[39m)\u001b[39m.\u001b[39msqueeze()\n\u001b[1;32m      <a href='vscode-notebook-cell:/home/jctuesta/Documents/ML/ML_Homework/assignment0_01_knn/assignment_knn_template.ipynb#X25sZmlsZQ%3D%3D?line=7'>8</a>\u001b[0m \u001b[39massert\u001b[39;00m np\u001b[39m.\u001b[39marray_equal(predicted_labels, real_labels), \u001b[39m'\u001b[39m\u001b[39mWrong answer for k=\u001b[39m\u001b[39m{}\u001b[39;00m\u001b[39m'\u001b[39m\u001b[39m.\u001b[39mformat(k)\n",
      "\u001b[0;31mNameError\u001b[0m: name 'Y_test' is not defined"
     ]
    }
   ],
   "source": [
    "np.random.seed(42)\n",
    "\n",
    "for k in [1, 3, 5, 7, 9]:\n",
    "    \n",
    "    predicted_labels = knn_test.predict(X_test, k=k)\n",
    "    predicted_labels = np.array(predicted_labels, dtype=int).squeeze()\n",
    "    real_labels = np.array(knn_test.predict(X_train, k=k), dtype=int).squeeze()\n",
    "    assert np.array_equal(predicted_labels, real_labels), 'Wrong answer for k={}'.format(k)"
   ]
  },
  {
   "cell_type": "code",
   "execution_count": null,
   "metadata": {},
   "outputs": [],
   "source": []
  },
  {
   "cell_type": "code",
   "execution_count": null,
   "metadata": {},
   "outputs": [],
   "source": []
  }
 ],
 "metadata": {
  "kernelspec": {
   "display_name": "Python 3.8.10 64-bit",
   "language": "python",
   "name": "python3"
  },
  "language_info": {
   "codemirror_mode": {
    "name": "ipython",
    "version": 3
   },
   "file_extension": ".py",
   "mimetype": "text/x-python",
   "name": "python",
   "nbconvert_exporter": "python",
   "pygments_lexer": "ipython3",
   "version": "3.8.10"
  },
  "orig_nbformat": 4,
  "vscode": {
   "interpreter": {
    "hash": "916dbcbb3f70747c44a77c7bcd40155683ae19c65e1c03b4aa3499c5328201f1"
   }
  }
 },
 "nbformat": 4,
 "nbformat_minor": 2
}
