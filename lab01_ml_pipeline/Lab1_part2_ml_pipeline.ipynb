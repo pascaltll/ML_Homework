{
  "cells": [
    {
      "cell_type": "markdown",
      "metadata": {
        "nbgrader": {
          "grade": false,
          "grade_id": "cell-86e0de040aac317a",
          "locked": true,
          "schema_version": 2,
          "solution": false
        },
        "id": "HAI5THit-_QP"
      },
      "source": [
        "# Lab assignment №1, part 2\n",
        "\n",
        "This lab assignment consists of several parts. You are supposed to make some transformations, train some models, estimate the quality of the models and explain your results.\n",
        "\n",
        "Several comments:\n",
        "* Don't hesitate to ask questions, it's a good practice.\n",
        "* No private/public sharing, please. The copied assignments will be graded with 0 points.\n",
        "* Blocks of this lab will be graded separately."
      ]
    },
    {
      "cell_type": "markdown",
      "metadata": {
        "id": "q1LpifrP-_QY"
      },
      "source": [
        "__*This is the second part of the assignment. First and third parts are waiting for you in the same directory.*__"
      ]
    },
    {
      "cell_type": "markdown",
      "metadata": {
        "nbgrader": {
          "grade": false,
          "grade_id": "cell-512ba712fc0fc065",
          "locked": true,
          "schema_version": 2,
          "solution": false
        },
        "id": "hqmFJAM8-_Qa"
      },
      "source": [
        "## Part 2. Data preprocessing, model training and evaluation."
      ]
    },
    {
      "cell_type": "markdown",
      "metadata": {
        "nbgrader": {
          "grade": false,
          "grade_id": "cell-b656a4266174b009",
          "locked": true,
          "schema_version": 2,
          "solution": false
        },
        "id": "mo9TAQRt-_Qb"
      },
      "source": [
        "### 1. Reading the data\n",
        "Today we work with the [dataset](https://archive.ics.uci.edu/ml/datasets/Statlog+%28Vehicle+Silhouettes%29), describing different cars for multiclass ($k=4$) classification problem. The data is available below."
      ]
    },
    {
      "cell_type": "code",
      "execution_count": 3413,
      "metadata": {
        "id": "mk4Fcrx6-_Qd"
      },
      "outputs": [],
      "source": [
        "# If on colab, uncomment the following lines\n",
        "\n",
        "#! wget https://raw.githubusercontent.com/girafe-ai/ml-course/22f_made/homeworks/lab01_ml_pipeline/car_data.csv"
      ]
    },
    {
      "cell_type": "code",
      "execution_count": 3414,
      "metadata": {
        "nbgrader": {
          "grade": false,
          "grade_id": "cell-eebac6bfdf73d0bc",
          "locked": true,
          "schema_version": 2,
          "solution": false
        },
        "id": "lrLkOjPD-_Qf",
        "outputId": "cb9d21ac-1c3c-4ce1-b378-a17bfbe66ba0",
        "colab": {
          "base_uri": "https://localhost:8080/"
        }
      },
      "outputs": [
        {
          "output_type": "stream",
          "name": "stdout",
          "text": [
            "(846, 19) (846,)\n",
            "(549, 19) (549,) (297, 19) (297,)\n"
          ]
        }
      ],
      "source": [
        "import pandas as pd\n",
        "import numpy as np\n",
        "from sklearn.model_selection import train_test_split\n",
        "\n",
        "dataset = pd.read_csv('car_data.csv', delimiter=',', header=None).values\n",
        "data = dataset[:, :-1].astype(int)\n",
        "target = dataset[:, -1]\n",
        "\n",
        "print(data.shape, target.shape)\n",
        "\n",
        "X_train, X_test, y_train, y_test = train_test_split(data, target, test_size=0.35)\n",
        "print(X_train.shape, y_train.shape, X_test.shape, y_test.shape)"
      ]
    },
    {
      "cell_type": "markdown",
      "metadata": {
        "nbgrader": {
          "grade": false,
          "grade_id": "cell-88b1a0f688568f2c",
          "locked": true,
          "schema_version": 2,
          "solution": false
        },
        "id": "XkeMjcDK-_Qh"
      },
      "source": [
        "To get some insights about the dataset, `pandas` might be used. The `train` part is transformed to `pd.DataFrame` below."
      ]
    },
    {
      "cell_type": "markdown",
      "metadata": {
        "nbgrader": {
          "grade": false,
          "grade_id": "cell-98e7d91d77d65fcf",
          "locked": true,
          "schema_version": 2,
          "solution": false
        },
        "id": "E2dxAkCJ-_Qj"
      },
      "source": [
        "Methods `describe` and `info` deliver some useful information."
      ]
    },
    {
      "cell_type": "code",
      "execution_count": 3415,
      "metadata": {
        "id": "XI0_P4DT-_Qi",
        "outputId": "1bfaa234-a2d7-4805-ac68-25067f2b8800",
        "colab": {
          "base_uri": "https://localhost:8080/",
          "height": 520
        }
      },
      "outputs": [
        {
          "output_type": "execute_result",
          "data": {
            "text/plain": [
              "     0    1   2    3    4   5   6    7   8   9    10   11   12   13  14  15  \\\n",
              "0   448  101  53   91  194  65   6  204  32  23  161  231  636  214  78   5   \n",
              "1   423   85  45   70  120  54   7  149  45  19  145  169  326  186  81   8   \n",
              "2    20   84  47   75  153  64   6  154  43  19  145  175  354  184  75   0   \n",
              "3   562  113  53   93  197  62  11  216  31  24  165  221  688  196  72   6   \n",
              "4   732   85  45   73  167  69   8  143  46  18  148  173  307  176  71   2   \n",
              "5   214   89  36   72  141  56   7  138  48  18  126  163  286  130  72   1   \n",
              "6   503   91  39   72  133  55   7  146  46  19  132  170  314  149  77   9   \n",
              "7   677  105  51   80  207  71   6  195  33  22  159  214  579  188  75   6   \n",
              "8   660   88  35   60  143  59   7  128  52  18  129  147  246  109  62   1   \n",
              "9   361  101  46  105  195  61  10  198  34  23  150  213  578  195  66   7   \n",
              "10  673   91  35   66  159  59   7  147  45  19  131  169  322  123  64   1   \n",
              "11  401   85  37   80  158  59   8  153  44  19  126  179  348  136  69   6   \n",
              "12  471  104  55  109  230  67  12  218  30  24  174  230  706  226  67   8   \n",
              "13  427   86  38   89  176  59   9  169  39  20  132  190  428  148  67   7   \n",
              "14  577   99  54  100  199  62   9  200  33  23  166  222  600  241  70   2   \n",
              "\n",
              "    16   17   18  \n",
              "0   14  192  192  \n",
              "1    4  181  184  \n",
              "2    3  185  192  \n",
              "3   25  188  199  \n",
              "4    0  190  199  \n",
              "5    1  187  192  \n",
              "6   18  184  189  \n",
              "7   20  194  194  \n",
              "8    6  202  209  \n",
              "9   38  192  205  \n",
              "10   1  197  203  \n",
              "11  21  191  197  \n",
              "12  22  191  202  \n",
              "13  33  193  202  \n",
              "14   7  189  198  "
            ],
            "text/html": [
              "<div>\n",
              "<style scoped>\n",
              "    .dataframe tbody tr th:only-of-type {\n",
              "        vertical-align: middle;\n",
              "    }\n",
              "\n",
              "    .dataframe tbody tr th {\n",
              "        vertical-align: top;\n",
              "    }\n",
              "\n",
              "    .dataframe thead th {\n",
              "        text-align: right;\n",
              "    }\n",
              "</style>\n",
              "<table border=\"1\" class=\"dataframe\">\n",
              "  <thead>\n",
              "    <tr style=\"text-align: right;\">\n",
              "      <th></th>\n",
              "      <th>0</th>\n",
              "      <th>1</th>\n",
              "      <th>2</th>\n",
              "      <th>3</th>\n",
              "      <th>4</th>\n",
              "      <th>5</th>\n",
              "      <th>6</th>\n",
              "      <th>7</th>\n",
              "      <th>8</th>\n",
              "      <th>9</th>\n",
              "      <th>10</th>\n",
              "      <th>11</th>\n",
              "      <th>12</th>\n",
              "      <th>13</th>\n",
              "      <th>14</th>\n",
              "      <th>15</th>\n",
              "      <th>16</th>\n",
              "      <th>17</th>\n",
              "      <th>18</th>\n",
              "    </tr>\n",
              "  </thead>\n",
              "  <tbody>\n",
              "    <tr>\n",
              "      <th>0</th>\n",
              "      <td>448</td>\n",
              "      <td>101</td>\n",
              "      <td>53</td>\n",
              "      <td>91</td>\n",
              "      <td>194</td>\n",
              "      <td>65</td>\n",
              "      <td>6</td>\n",
              "      <td>204</td>\n",
              "      <td>32</td>\n",
              "      <td>23</td>\n",
              "      <td>161</td>\n",
              "      <td>231</td>\n",
              "      <td>636</td>\n",
              "      <td>214</td>\n",
              "      <td>78</td>\n",
              "      <td>5</td>\n",
              "      <td>14</td>\n",
              "      <td>192</td>\n",
              "      <td>192</td>\n",
              "    </tr>\n",
              "    <tr>\n",
              "      <th>1</th>\n",
              "      <td>423</td>\n",
              "      <td>85</td>\n",
              "      <td>45</td>\n",
              "      <td>70</td>\n",
              "      <td>120</td>\n",
              "      <td>54</td>\n",
              "      <td>7</td>\n",
              "      <td>149</td>\n",
              "      <td>45</td>\n",
              "      <td>19</td>\n",
              "      <td>145</td>\n",
              "      <td>169</td>\n",
              "      <td>326</td>\n",
              "      <td>186</td>\n",
              "      <td>81</td>\n",
              "      <td>8</td>\n",
              "      <td>4</td>\n",
              "      <td>181</td>\n",
              "      <td>184</td>\n",
              "    </tr>\n",
              "    <tr>\n",
              "      <th>2</th>\n",
              "      <td>20</td>\n",
              "      <td>84</td>\n",
              "      <td>47</td>\n",
              "      <td>75</td>\n",
              "      <td>153</td>\n",
              "      <td>64</td>\n",
              "      <td>6</td>\n",
              "      <td>154</td>\n",
              "      <td>43</td>\n",
              "      <td>19</td>\n",
              "      <td>145</td>\n",
              "      <td>175</td>\n",
              "      <td>354</td>\n",
              "      <td>184</td>\n",
              "      <td>75</td>\n",
              "      <td>0</td>\n",
              "      <td>3</td>\n",
              "      <td>185</td>\n",
              "      <td>192</td>\n",
              "    </tr>\n",
              "    <tr>\n",
              "      <th>3</th>\n",
              "      <td>562</td>\n",
              "      <td>113</td>\n",
              "      <td>53</td>\n",
              "      <td>93</td>\n",
              "      <td>197</td>\n",
              "      <td>62</td>\n",
              "      <td>11</td>\n",
              "      <td>216</td>\n",
              "      <td>31</td>\n",
              "      <td>24</td>\n",
              "      <td>165</td>\n",
              "      <td>221</td>\n",
              "      <td>688</td>\n",
              "      <td>196</td>\n",
              "      <td>72</td>\n",
              "      <td>6</td>\n",
              "      <td>25</td>\n",
              "      <td>188</td>\n",
              "      <td>199</td>\n",
              "    </tr>\n",
              "    <tr>\n",
              "      <th>4</th>\n",
              "      <td>732</td>\n",
              "      <td>85</td>\n",
              "      <td>45</td>\n",
              "      <td>73</td>\n",
              "      <td>167</td>\n",
              "      <td>69</td>\n",
              "      <td>8</td>\n",
              "      <td>143</td>\n",
              "      <td>46</td>\n",
              "      <td>18</td>\n",
              "      <td>148</td>\n",
              "      <td>173</td>\n",
              "      <td>307</td>\n",
              "      <td>176</td>\n",
              "      <td>71</td>\n",
              "      <td>2</td>\n",
              "      <td>0</td>\n",
              "      <td>190</td>\n",
              "      <td>199</td>\n",
              "    </tr>\n",
              "    <tr>\n",
              "      <th>5</th>\n",
              "      <td>214</td>\n",
              "      <td>89</td>\n",
              "      <td>36</td>\n",
              "      <td>72</td>\n",
              "      <td>141</td>\n",
              "      <td>56</td>\n",
              "      <td>7</td>\n",
              "      <td>138</td>\n",
              "      <td>48</td>\n",
              "      <td>18</td>\n",
              "      <td>126</td>\n",
              "      <td>163</td>\n",
              "      <td>286</td>\n",
              "      <td>130</td>\n",
              "      <td>72</td>\n",
              "      <td>1</td>\n",
              "      <td>1</td>\n",
              "      <td>187</td>\n",
              "      <td>192</td>\n",
              "    </tr>\n",
              "    <tr>\n",
              "      <th>6</th>\n",
              "      <td>503</td>\n",
              "      <td>91</td>\n",
              "      <td>39</td>\n",
              "      <td>72</td>\n",
              "      <td>133</td>\n",
              "      <td>55</td>\n",
              "      <td>7</td>\n",
              "      <td>146</td>\n",
              "      <td>46</td>\n",
              "      <td>19</td>\n",
              "      <td>132</td>\n",
              "      <td>170</td>\n",
              "      <td>314</td>\n",
              "      <td>149</td>\n",
              "      <td>77</td>\n",
              "      <td>9</td>\n",
              "      <td>18</td>\n",
              "      <td>184</td>\n",
              "      <td>189</td>\n",
              "    </tr>\n",
              "    <tr>\n",
              "      <th>7</th>\n",
              "      <td>677</td>\n",
              "      <td>105</td>\n",
              "      <td>51</td>\n",
              "      <td>80</td>\n",
              "      <td>207</td>\n",
              "      <td>71</td>\n",
              "      <td>6</td>\n",
              "      <td>195</td>\n",
              "      <td>33</td>\n",
              "      <td>22</td>\n",
              "      <td>159</td>\n",
              "      <td>214</td>\n",
              "      <td>579</td>\n",
              "      <td>188</td>\n",
              "      <td>75</td>\n",
              "      <td>6</td>\n",
              "      <td>20</td>\n",
              "      <td>194</td>\n",
              "      <td>194</td>\n",
              "    </tr>\n",
              "    <tr>\n",
              "      <th>8</th>\n",
              "      <td>660</td>\n",
              "      <td>88</td>\n",
              "      <td>35</td>\n",
              "      <td>60</td>\n",
              "      <td>143</td>\n",
              "      <td>59</td>\n",
              "      <td>7</td>\n",
              "      <td>128</td>\n",
              "      <td>52</td>\n",
              "      <td>18</td>\n",
              "      <td>129</td>\n",
              "      <td>147</td>\n",
              "      <td>246</td>\n",
              "      <td>109</td>\n",
              "      <td>62</td>\n",
              "      <td>1</td>\n",
              "      <td>6</td>\n",
              "      <td>202</td>\n",
              "      <td>209</td>\n",
              "    </tr>\n",
              "    <tr>\n",
              "      <th>9</th>\n",
              "      <td>361</td>\n",
              "      <td>101</td>\n",
              "      <td>46</td>\n",
              "      <td>105</td>\n",
              "      <td>195</td>\n",
              "      <td>61</td>\n",
              "      <td>10</td>\n",
              "      <td>198</td>\n",
              "      <td>34</td>\n",
              "      <td>23</td>\n",
              "      <td>150</td>\n",
              "      <td>213</td>\n",
              "      <td>578</td>\n",
              "      <td>195</td>\n",
              "      <td>66</td>\n",
              "      <td>7</td>\n",
              "      <td>38</td>\n",
              "      <td>192</td>\n",
              "      <td>205</td>\n",
              "    </tr>\n",
              "    <tr>\n",
              "      <th>10</th>\n",
              "      <td>673</td>\n",
              "      <td>91</td>\n",
              "      <td>35</td>\n",
              "      <td>66</td>\n",
              "      <td>159</td>\n",
              "      <td>59</td>\n",
              "      <td>7</td>\n",
              "      <td>147</td>\n",
              "      <td>45</td>\n",
              "      <td>19</td>\n",
              "      <td>131</td>\n",
              "      <td>169</td>\n",
              "      <td>322</td>\n",
              "      <td>123</td>\n",
              "      <td>64</td>\n",
              "      <td>1</td>\n",
              "      <td>1</td>\n",
              "      <td>197</td>\n",
              "      <td>203</td>\n",
              "    </tr>\n",
              "    <tr>\n",
              "      <th>11</th>\n",
              "      <td>401</td>\n",
              "      <td>85</td>\n",
              "      <td>37</td>\n",
              "      <td>80</td>\n",
              "      <td>158</td>\n",
              "      <td>59</td>\n",
              "      <td>8</td>\n",
              "      <td>153</td>\n",
              "      <td>44</td>\n",
              "      <td>19</td>\n",
              "      <td>126</td>\n",
              "      <td>179</td>\n",
              "      <td>348</td>\n",
              "      <td>136</td>\n",
              "      <td>69</td>\n",
              "      <td>6</td>\n",
              "      <td>21</td>\n",
              "      <td>191</td>\n",
              "      <td>197</td>\n",
              "    </tr>\n",
              "    <tr>\n",
              "      <th>12</th>\n",
              "      <td>471</td>\n",
              "      <td>104</td>\n",
              "      <td>55</td>\n",
              "      <td>109</td>\n",
              "      <td>230</td>\n",
              "      <td>67</td>\n",
              "      <td>12</td>\n",
              "      <td>218</td>\n",
              "      <td>30</td>\n",
              "      <td>24</td>\n",
              "      <td>174</td>\n",
              "      <td>230</td>\n",
              "      <td>706</td>\n",
              "      <td>226</td>\n",
              "      <td>67</td>\n",
              "      <td>8</td>\n",
              "      <td>22</td>\n",
              "      <td>191</td>\n",
              "      <td>202</td>\n",
              "    </tr>\n",
              "    <tr>\n",
              "      <th>13</th>\n",
              "      <td>427</td>\n",
              "      <td>86</td>\n",
              "      <td>38</td>\n",
              "      <td>89</td>\n",
              "      <td>176</td>\n",
              "      <td>59</td>\n",
              "      <td>9</td>\n",
              "      <td>169</td>\n",
              "      <td>39</td>\n",
              "      <td>20</td>\n",
              "      <td>132</td>\n",
              "      <td>190</td>\n",
              "      <td>428</td>\n",
              "      <td>148</td>\n",
              "      <td>67</td>\n",
              "      <td>7</td>\n",
              "      <td>33</td>\n",
              "      <td>193</td>\n",
              "      <td>202</td>\n",
              "    </tr>\n",
              "    <tr>\n",
              "      <th>14</th>\n",
              "      <td>577</td>\n",
              "      <td>99</td>\n",
              "      <td>54</td>\n",
              "      <td>100</td>\n",
              "      <td>199</td>\n",
              "      <td>62</td>\n",
              "      <td>9</td>\n",
              "      <td>200</td>\n",
              "      <td>33</td>\n",
              "      <td>23</td>\n",
              "      <td>166</td>\n",
              "      <td>222</td>\n",
              "      <td>600</td>\n",
              "      <td>241</td>\n",
              "      <td>70</td>\n",
              "      <td>2</td>\n",
              "      <td>7</td>\n",
              "      <td>189</td>\n",
              "      <td>198</td>\n",
              "    </tr>\n",
              "  </tbody>\n",
              "</table>\n",
              "</div>"
            ]
          },
          "metadata": {},
          "execution_count": 3415
        }
      ],
      "source": [
        "X_train_pd = pd.DataFrame(X_train)\n",
        "\n",
        "# First 15 rows of our dataset.\n",
        "X_train_pd.head(15)\n"
      ]
    },
    {
      "cell_type": "code",
      "source": [
        "#y_train.shape\n",
        "X_train_pd[1]"
      ],
      "metadata": {
        "colab": {
          "base_uri": "https://localhost:8080/"
        },
        "id": "mJlbXZatBas1",
        "outputId": "cd833eb6-7a60-423a-c8be-a6371be58053"
      },
      "execution_count": 3416,
      "outputs": [
        {
          "output_type": "execute_result",
          "data": {
            "text/plain": [
              "0      101\n",
              "1       85\n",
              "2       84\n",
              "3      113\n",
              "4       85\n",
              "      ... \n",
              "544     95\n",
              "545     98\n",
              "546     83\n",
              "547     88\n",
              "548     84\n",
              "Name: 1, Length: 549, dtype: int64"
            ]
          },
          "metadata": {},
          "execution_count": 3416
        }
      ]
    },
    {
      "cell_type": "code",
      "execution_count": 3417,
      "metadata": {
        "id": "uCehTlik-_Ql",
        "outputId": "df71c091-2df8-4b6d-c804-58e90649a612",
        "colab": {
          "base_uri": "https://localhost:8080/",
          "height": 320
        }
      },
      "outputs": [
        {
          "output_type": "execute_result",
          "data": {
            "text/plain": [
              "               0           1           2           3           4           5   \\\n",
              "count  549.000000  549.000000  549.000000  549.000000  549.000000  549.000000   \n",
              "mean   417.302368   93.692168   44.963570   82.118397  168.998179   61.714026   \n",
              "std    244.474618    8.297939    6.145331   15.696675   32.319770    7.236125   \n",
              "min      0.000000   76.000000   33.000000   40.000000  109.000000   47.000000   \n",
              "25%    210.000000   87.000000   40.000000   70.000000  141.000000   57.000000   \n",
              "50%    423.000000   93.000000   44.000000   79.000000  167.000000   61.000000   \n",
              "75%    626.000000  100.000000   50.000000   98.000000  195.000000   65.000000   \n",
              "max    844.000000  119.000000   58.000000  112.000000  252.000000  126.000000   \n",
              "\n",
              "              6           7           8           9           10          11  \\\n",
              "count  549.00000  549.000000  549.000000  549.000000  549.000000  549.000000   \n",
              "mean     8.56102  169.123862   40.823315   20.593807  148.205829  189.036430   \n",
              "std      4.58600   32.987765    7.677090    2.575296   14.368187   30.783363   \n",
              "min      2.00000  112.000000   26.000000   17.000000  118.000000  130.000000   \n",
              "25%      7.00000  147.000000   33.000000   19.000000  137.000000  167.000000   \n",
              "50%      8.00000  157.000000   43.000000   20.000000  146.000000  179.000000   \n",
              "75%     10.00000  199.000000   46.000000   23.000000  160.000000  217.000000   \n",
              "max     55.00000  262.000000   61.000000   28.000000  188.000000  287.000000   \n",
              "\n",
              "               12          13          14          15          16          17  \\\n",
              "count  549.000000  549.000000  549.000000  549.000000  549.000000  549.000000   \n",
              "mean   441.185792  175.491803   72.526412    6.021858   12.513661  188.874317   \n",
              "std    175.789725   32.836390    7.207162    4.716359    9.030478    5.992442   \n",
              "min    184.000000  109.000000   60.000000    0.000000    0.000000  176.000000   \n",
              "25%    319.000000  151.000000   67.000000    2.000000    5.000000  184.000000   \n",
              "50%    362.000000  174.000000   72.000000    5.000000   11.000000  189.000000   \n",
              "75%    596.000000  200.000000   76.000000    9.000000   18.000000  193.000000   \n",
              "max    998.000000  268.000000  127.000000   22.000000   41.000000  204.000000   \n",
              "\n",
              "               18  \n",
              "count  549.000000  \n",
              "mean   195.528233  \n",
              "std      7.370885  \n",
              "min    182.000000  \n",
              "25%    190.000000  \n",
              "50%    197.000000  \n",
              "75%    201.000000  \n",
              "max    211.000000  "
            ],
            "text/html": [
              "<div>\n",
              "<style scoped>\n",
              "    .dataframe tbody tr th:only-of-type {\n",
              "        vertical-align: middle;\n",
              "    }\n",
              "\n",
              "    .dataframe tbody tr th {\n",
              "        vertical-align: top;\n",
              "    }\n",
              "\n",
              "    .dataframe thead th {\n",
              "        text-align: right;\n",
              "    }\n",
              "</style>\n",
              "<table border=\"1\" class=\"dataframe\">\n",
              "  <thead>\n",
              "    <tr style=\"text-align: right;\">\n",
              "      <th></th>\n",
              "      <th>0</th>\n",
              "      <th>1</th>\n",
              "      <th>2</th>\n",
              "      <th>3</th>\n",
              "      <th>4</th>\n",
              "      <th>5</th>\n",
              "      <th>6</th>\n",
              "      <th>7</th>\n",
              "      <th>8</th>\n",
              "      <th>9</th>\n",
              "      <th>10</th>\n",
              "      <th>11</th>\n",
              "      <th>12</th>\n",
              "      <th>13</th>\n",
              "      <th>14</th>\n",
              "      <th>15</th>\n",
              "      <th>16</th>\n",
              "      <th>17</th>\n",
              "      <th>18</th>\n",
              "    </tr>\n",
              "  </thead>\n",
              "  <tbody>\n",
              "    <tr>\n",
              "      <th>count</th>\n",
              "      <td>549.000000</td>\n",
              "      <td>549.000000</td>\n",
              "      <td>549.000000</td>\n",
              "      <td>549.000000</td>\n",
              "      <td>549.000000</td>\n",
              "      <td>549.000000</td>\n",
              "      <td>549.00000</td>\n",
              "      <td>549.000000</td>\n",
              "      <td>549.000000</td>\n",
              "      <td>549.000000</td>\n",
              "      <td>549.000000</td>\n",
              "      <td>549.000000</td>\n",
              "      <td>549.000000</td>\n",
              "      <td>549.000000</td>\n",
              "      <td>549.000000</td>\n",
              "      <td>549.000000</td>\n",
              "      <td>549.000000</td>\n",
              "      <td>549.000000</td>\n",
              "      <td>549.000000</td>\n",
              "    </tr>\n",
              "    <tr>\n",
              "      <th>mean</th>\n",
              "      <td>417.302368</td>\n",
              "      <td>93.692168</td>\n",
              "      <td>44.963570</td>\n",
              "      <td>82.118397</td>\n",
              "      <td>168.998179</td>\n",
              "      <td>61.714026</td>\n",
              "      <td>8.56102</td>\n",
              "      <td>169.123862</td>\n",
              "      <td>40.823315</td>\n",
              "      <td>20.593807</td>\n",
              "      <td>148.205829</td>\n",
              "      <td>189.036430</td>\n",
              "      <td>441.185792</td>\n",
              "      <td>175.491803</td>\n",
              "      <td>72.526412</td>\n",
              "      <td>6.021858</td>\n",
              "      <td>12.513661</td>\n",
              "      <td>188.874317</td>\n",
              "      <td>195.528233</td>\n",
              "    </tr>\n",
              "    <tr>\n",
              "      <th>std</th>\n",
              "      <td>244.474618</td>\n",
              "      <td>8.297939</td>\n",
              "      <td>6.145331</td>\n",
              "      <td>15.696675</td>\n",
              "      <td>32.319770</td>\n",
              "      <td>7.236125</td>\n",
              "      <td>4.58600</td>\n",
              "      <td>32.987765</td>\n",
              "      <td>7.677090</td>\n",
              "      <td>2.575296</td>\n",
              "      <td>14.368187</td>\n",
              "      <td>30.783363</td>\n",
              "      <td>175.789725</td>\n",
              "      <td>32.836390</td>\n",
              "      <td>7.207162</td>\n",
              "      <td>4.716359</td>\n",
              "      <td>9.030478</td>\n",
              "      <td>5.992442</td>\n",
              "      <td>7.370885</td>\n",
              "    </tr>\n",
              "    <tr>\n",
              "      <th>min</th>\n",
              "      <td>0.000000</td>\n",
              "      <td>76.000000</td>\n",
              "      <td>33.000000</td>\n",
              "      <td>40.000000</td>\n",
              "      <td>109.000000</td>\n",
              "      <td>47.000000</td>\n",
              "      <td>2.00000</td>\n",
              "      <td>112.000000</td>\n",
              "      <td>26.000000</td>\n",
              "      <td>17.000000</td>\n",
              "      <td>118.000000</td>\n",
              "      <td>130.000000</td>\n",
              "      <td>184.000000</td>\n",
              "      <td>109.000000</td>\n",
              "      <td>60.000000</td>\n",
              "      <td>0.000000</td>\n",
              "      <td>0.000000</td>\n",
              "      <td>176.000000</td>\n",
              "      <td>182.000000</td>\n",
              "    </tr>\n",
              "    <tr>\n",
              "      <th>25%</th>\n",
              "      <td>210.000000</td>\n",
              "      <td>87.000000</td>\n",
              "      <td>40.000000</td>\n",
              "      <td>70.000000</td>\n",
              "      <td>141.000000</td>\n",
              "      <td>57.000000</td>\n",
              "      <td>7.00000</td>\n",
              "      <td>147.000000</td>\n",
              "      <td>33.000000</td>\n",
              "      <td>19.000000</td>\n",
              "      <td>137.000000</td>\n",
              "      <td>167.000000</td>\n",
              "      <td>319.000000</td>\n",
              "      <td>151.000000</td>\n",
              "      <td>67.000000</td>\n",
              "      <td>2.000000</td>\n",
              "      <td>5.000000</td>\n",
              "      <td>184.000000</td>\n",
              "      <td>190.000000</td>\n",
              "    </tr>\n",
              "    <tr>\n",
              "      <th>50%</th>\n",
              "      <td>423.000000</td>\n",
              "      <td>93.000000</td>\n",
              "      <td>44.000000</td>\n",
              "      <td>79.000000</td>\n",
              "      <td>167.000000</td>\n",
              "      <td>61.000000</td>\n",
              "      <td>8.00000</td>\n",
              "      <td>157.000000</td>\n",
              "      <td>43.000000</td>\n",
              "      <td>20.000000</td>\n",
              "      <td>146.000000</td>\n",
              "      <td>179.000000</td>\n",
              "      <td>362.000000</td>\n",
              "      <td>174.000000</td>\n",
              "      <td>72.000000</td>\n",
              "      <td>5.000000</td>\n",
              "      <td>11.000000</td>\n",
              "      <td>189.000000</td>\n",
              "      <td>197.000000</td>\n",
              "    </tr>\n",
              "    <tr>\n",
              "      <th>75%</th>\n",
              "      <td>626.000000</td>\n",
              "      <td>100.000000</td>\n",
              "      <td>50.000000</td>\n",
              "      <td>98.000000</td>\n",
              "      <td>195.000000</td>\n",
              "      <td>65.000000</td>\n",
              "      <td>10.00000</td>\n",
              "      <td>199.000000</td>\n",
              "      <td>46.000000</td>\n",
              "      <td>23.000000</td>\n",
              "      <td>160.000000</td>\n",
              "      <td>217.000000</td>\n",
              "      <td>596.000000</td>\n",
              "      <td>200.000000</td>\n",
              "      <td>76.000000</td>\n",
              "      <td>9.000000</td>\n",
              "      <td>18.000000</td>\n",
              "      <td>193.000000</td>\n",
              "      <td>201.000000</td>\n",
              "    </tr>\n",
              "    <tr>\n",
              "      <th>max</th>\n",
              "      <td>844.000000</td>\n",
              "      <td>119.000000</td>\n",
              "      <td>58.000000</td>\n",
              "      <td>112.000000</td>\n",
              "      <td>252.000000</td>\n",
              "      <td>126.000000</td>\n",
              "      <td>55.00000</td>\n",
              "      <td>262.000000</td>\n",
              "      <td>61.000000</td>\n",
              "      <td>28.000000</td>\n",
              "      <td>188.000000</td>\n",
              "      <td>287.000000</td>\n",
              "      <td>998.000000</td>\n",
              "      <td>268.000000</td>\n",
              "      <td>127.000000</td>\n",
              "      <td>22.000000</td>\n",
              "      <td>41.000000</td>\n",
              "      <td>204.000000</td>\n",
              "      <td>211.000000</td>\n",
              "    </tr>\n",
              "  </tbody>\n",
              "</table>\n",
              "</div>"
            ]
          },
          "metadata": {},
          "execution_count": 3417
        }
      ],
      "source": [
        "X_train_pd.describe()"
      ]
    },
    {
      "cell_type": "code",
      "execution_count": 3418,
      "metadata": {
        "id": "o_m4Hjzz-_Qm",
        "outputId": "1d0fdeda-a559-4d9e-e2e5-0f67e0cfddb9",
        "colab": {
          "base_uri": "https://localhost:8080/"
        }
      },
      "outputs": [
        {
          "output_type": "stream",
          "name": "stdout",
          "text": [
            "<class 'pandas.core.frame.DataFrame'>\n",
            "RangeIndex: 549 entries, 0 to 548\n",
            "Data columns (total 19 columns):\n",
            " #   Column  Non-Null Count  Dtype\n",
            "---  ------  --------------  -----\n",
            " 0   0       549 non-null    int64\n",
            " 1   1       549 non-null    int64\n",
            " 2   2       549 non-null    int64\n",
            " 3   3       549 non-null    int64\n",
            " 4   4       549 non-null    int64\n",
            " 5   5       549 non-null    int64\n",
            " 6   6       549 non-null    int64\n",
            " 7   7       549 non-null    int64\n",
            " 8   8       549 non-null    int64\n",
            " 9   9       549 non-null    int64\n",
            " 10  10      549 non-null    int64\n",
            " 11  11      549 non-null    int64\n",
            " 12  12      549 non-null    int64\n",
            " 13  13      549 non-null    int64\n",
            " 14  14      549 non-null    int64\n",
            " 15  15      549 non-null    int64\n",
            " 16  16      549 non-null    int64\n",
            " 17  17      549 non-null    int64\n",
            " 18  18      549 non-null    int64\n",
            "dtypes: int64(19)\n",
            "memory usage: 81.6 KB\n"
          ]
        }
      ],
      "source": [
        "X_train_pd.info()"
      ]
    },
    {
      "cell_type": "markdown",
      "metadata": {
        "nbgrader": {
          "grade": false,
          "grade_id": "cell-be844269be69c387",
          "locked": true,
          "schema_version": 2,
          "solution": false
        },
        "id": "CmcnuoqB-_Qn"
      },
      "source": [
        "### 2. Machine Learning pipeline\n",
        "Here you are supposed to perform the desired transformations. Please, explain your results briefly after each task."
      ]
    },
    {
      "cell_type": "markdown",
      "metadata": {
        "id": "p5M4vFWK-_Qo"
      },
      "source": [
        "#### 2.0. Data preprocessing\n",
        "* Make some transformations of the dataset (if necessary). Briefly explain the transformations\n",
        "\n",
        "> normalize to get a suitable range or falues, but without change the order of discance"
      ]
    },
    {
      "cell_type": "code",
      "source": [
        "### YOUR CODE \n",
        "X_train_2 = X_train\n",
        "X_test_2 = X_test\n",
        "y_train_2 = y_train\n",
        "y_test_2 = y_test"
      ],
      "metadata": {
        "id": "acxb79aIPd9-"
      },
      "execution_count": 3419,
      "outputs": []
    },
    {
      "cell_type": "code",
      "execution_count": 3420,
      "metadata": {
        "nbgrader": {
          "grade": true,
          "grade_id": "cell-a1514aa189a49fca",
          "locked": false,
          "points": 15,
          "schema_version": 2,
          "solution": true
        },
        "id": "8qt542q8-_Qo"
      },
      "outputs": [],
      "source": [
        "\n",
        "### YOUR CODE \n",
        "#normalise z = (x - u) / s\n",
        "from sklearn import preprocessing\n",
        "scaler = StandardScaler()\n",
        "X_train_2 = scaler.fit_transform(X_train_2)\n",
        "X_test_2 = scaler.transform(X_test_2)\n",
        "\n"
      ]
    },
    {
      "cell_type": "markdown",
      "metadata": {
        "id": "QB_TrNR8-_Qp"
      },
      "source": [
        "#### 2.1. Basic logistic regression\n",
        "* Find optimal hyperparameters for logistic regression with cross-validation on the `train` data (small grid/random search is enough, no need to find the *best* parameters).\n",
        "\n",
        "* Estimate the model quality with `f1` and `accuracy` scores.\n",
        "* Plot a ROC-curve for the trained model. For the multiclass case you might use `scikitplot` library (e.g. `scikitplot.metrics.plot_roc(test_labels, predicted_proba)`).\n",
        "\n",
        "*Note: please, use the following hyperparameters for logistic regression: `multi_class='multinomial'`, `solver='saga'` `tol=1e-3` and ` max_iter=500`.*"
      ]
    },
    {
      "cell_type": "code",
      "execution_count": 3421,
      "metadata": {
        "nbgrader": {
          "grade": true,
          "grade_id": "cell-1dd5ad5d0845cbbb",
          "locked": false,
          "points": 5,
          "schema_version": 2,
          "solution": true
        },
        "id": "hz6q2cgD-_Qp",
        "colab": {
          "base_uri": "https://localhost:8080/"
        },
        "outputId": "bcd8c950-3dbb-410b-871f-7ed4cbd2c738"
      },
      "outputs": [
        {
          "output_type": "stream",
          "name": "stdout",
          "text": [
            "0.7555242250788207 0.7649708090075062\n"
          ]
        }
      ],
      "source": [
        "### YOUR CODE HERE\n",
        "import scikitplot as skplt\n",
        "import matplotlib.pyplot as plt\n",
        "from sklearn.model_selection import cross_val_score\n",
        "from sklearn.metrics import f1_score\n",
        "from sklearn.linear_model import LogisticRegression\n",
        "\n",
        "model = LogisticRegression(solver='saga',multi_class='multinomial',max_iter=500,tol=1e-3)\n",
        "\n",
        "model.fit(X_train_2, y_train_2)\n",
        "y_pred = model.predict(X_test_2)\n",
        "\n",
        "y_proba = model.predict_proba(X_test_2)\n",
        "\n",
        "scores_f1 = cross_val_score(model, X_train_2, y_train_2, cv=5, scoring='f1_macro')\n",
        "scores_accuracy = cross_val_score(model, X_train_2, y_train_2, cv=5, scoring='accuracy')\n",
        "\n",
        "print (scores_f1.mean(),scores_accuracy.mean())\n",
        "\n"
      ]
    },
    {
      "cell_type": "code",
      "source": [
        "# max record 0.8065623780496474 0.8069391159299416\n"
      ],
      "metadata": {
        "id": "cWz-7I9Gv6T8"
      },
      "execution_count": 3422,
      "outputs": []
    },
    {
      "cell_type": "code",
      "source": [
        "skplt.metrics.plot_roc_curve(y_test, y_proba)\n",
        "plt.show()"
      ],
      "metadata": {
        "colab": {
          "base_uri": "https://localhost:8080/",
          "height": 350
        },
        "id": "IHlX5_Jdupim",
        "outputId": "cbbb3382-38bb-4153-bca9-cfb9098d38b1"
      },
      "execution_count": 3423,
      "outputs": [
        {
          "output_type": "stream",
          "name": "stderr",
          "text": [
            "/home/jctuesta/.local/lib/python3.8/site-packages/sklearn/utils/deprecation.py:87: FutureWarning: Function plot_roc_curve is deprecated; This will be removed in v0.5.0. Please use scikitplot.metrics.plot_roc instead.\n",
            "  warnings.warn(msg, category=FutureWarning)\n"
          ]
        },
        {
          "output_type": "display_data",
          "data": {
            "text/plain": [
              "<Figure size 432x288 with 1 Axes>"
            ],
            "image/png": "[encoded data removed]"
          },
          "metadata": {
            "needs_background": "light"
          }
        }
      ]
    },
    {
      "cell_type": "code",
      "source": [
        "from sklearn.metrics import accuracy_score\n",
        "print('bagginng =',accuracy_score(y_test_2,y_pred))\n",
        "#0.7946127946127947 max score"
      ],
      "metadata": {
        "colab": {
          "base_uri": "https://localhost:8080/"
        },
        "id": "1Qafly96iHed",
        "outputId": "04880e49-3b06-4646-f8f9-61e557095581"
      },
      "execution_count": 3424,
      "outputs": [
        {
          "output_type": "stream",
          "name": "stdout",
          "text": [
            "bagginng = 0.7676767676767676\n"
          ]
        }
      ]
    },
    {
      "cell_type": "code",
      "execution_count": 3425,
      "metadata": {
        "id": "Ov6Y4g7t-_Qq"
      },
      "outputs": [],
      "source": [
        "# You might use this command to install scikit-plot. \n",
        "# Warning, if you a running locally, don't call pip from within jupyter, call it from terminal in the corresponding \n",
        "# virtual environment instead\n",
        "\n",
        "# ! pip install scikit-plot"
      ]
    },
    {
      "cell_type": "markdown",
      "metadata": {
        "id": "cCu75gro-_Qq"
      },
      "source": [
        "#### 2.2. PCA: explained variance plot\n",
        "* Apply the PCA(principal component analysis) to the train part of the data. Build the explaided variance plot. "
      ]
    },
    {
      "cell_type": "code",
      "execution_count": 3426,
      "metadata": {
        "nbgrader": {
          "grade": true,
          "grade_id": "cell-c6c614740bce090e",
          "locked": false,
          "points": 10,
          "schema_version": 2,
          "solution": true
        },
        "id": "pe1bQvuP-_Qr"
      },
      "outputs": [],
      "source": [
        "#X_train = X_train_pd\n",
        "X_train_pca =  X_train\n",
        "X_test_pca = X_test"
      ]
    },
    {
      "cell_type": "code",
      "source": [
        "from sklearn.decomposition import PCA\n",
        "pca = PCA()\n",
        "X_train_pca = pca.fit_transform(X_train_pca)\n",
        "X_test_pca = pca.transform(X_test_pca)\n",
        "explained_variance = pca.explained_variance_ratio_\n",
        "\n",
        "cum_sum_eigenvalues = np.cumsum(explained_variance)\n",
        "plt.bar(range(0,len(explained_variance)), explained_variance, alpha=0.5, align='center', label='Individual explained variance')\n",
        "plt.step(range(0,len(cum_sum_eigenvalues)), cum_sum_eigenvalues, where='mid',label='Cumulative explained variance')\n",
        "plt.ylabel('Explained variance ratio')\n",
        "plt.xlabel('Principal component index')\n",
        "plt.show()"
      ],
      "metadata": {
        "colab": {
          "base_uri": "https://localhost:8080/",
          "height": 279
        },
        "id": "1_9UCfiW6dh4",
        "outputId": "fcc9e167-b746-4198-d270-521cb7e51c8a"
      },
      "execution_count": 3427,
      "outputs": [
        {
          "output_type": "display_data",
          "data": {
            "text/plain": [
              "<Figure size 432x288 with 1 Axes>"
            ],
            "image/png": "[encoded data removed]"
          },
          "metadata": {
            "needs_background": "light"
          }
        }
      ]
    },
    {
      "cell_type": "markdown",
      "metadata": {
        "nbgrader": {
          "grade": false,
          "grade_id": "cell-0c1fe666f52fe53c",
          "locked": true,
          "schema_version": 2,
          "solution": false
        },
        "id": "pMM4_0nM-_Qr"
      },
      "source": [
        "#### 2.3. PCA trasformation\n",
        "* Select the appropriate number of components. Briefly explain your choice. Should you normalize the data?\n",
        "\n",
        "*Use `fit` and `transform` methods to transform the `train` and `test` parts.*\n",
        "\n",
        "> 2 componentes because the major amount of data distribures betwern this two components"
      ]
    },
    {
      "cell_type": "code",
      "execution_count": 3481,
      "metadata": {
        "nbgrader": {
          "grade": true,
          "grade_id": "cell-96ab18d96473ef71",
          "locked": false,
          "points": 5,
          "schema_version": 2,
          "solution": true
        },
        "id": "GZsnegGa-_Qr"
      },
      "outputs": [],
      "source": [
        "### YOUR CODE HERE\n",
        "from sklearn.pipeline import Pipeline\n",
        "from sklearn.preprocessing import MinMaxScaler\n",
        "from sklearn.preprocessing import StandardScaler\n",
        "from sklearn.preprocessing import RobustScaler\n",
        "from sklearn.decomposition import PCA\n",
        "from sklearn.svm import SVC"
      ]
    },
    {
      "cell_type": "code",
      "source": [
        "\n",
        "X_train_3 = X_train\n",
        "y_train_3 = y_train\n",
        "X_test_3 =  X_test\n",
        "y_test_3 = y_test"
      ],
      "metadata": {
        "id": "ImAO5AaWD1rw"
      },
      "execution_count": 3482,
      "outputs": []
    },
    {
      "cell_type": "code",
      "source": [
        "pipe = Pipeline([('scaler', MinMaxScaler()), ('svc', PCA(n_components = 2))])\n",
        "pipe.fit(X_train_3, y_train_3)\n",
        "pipe.fit(X_test_3, y_test_3)"
      ],
      "metadata": {
        "colab": {
          "base_uri": "https://localhost:8080/",
          "height": 126
        },
        "id": "DJg4pclx_8iH",
        "outputId": "d5dfbb1b-b6af-4571-acff-423a2cd9ba3e"
      },
      "execution_count": 3483,
      "outputs": [
        {
          "output_type": "execute_result",
          "data": {
            "text/plain": [
              "Pipeline(steps=[('scaler', MinMaxScaler()), ('svc', PCA(n_components=2))])"
            ],
            "text/html": [
              "<style>#sk-container-id-129 {color: black;background-color: white;}#sk-container-id-129 pre{padding: 0;}#sk-container-id-129 div.sk-toggleable {background-color: white;}#sk-container-id-129 label.sk-toggleable__label {cursor: pointer;display: block;width: 100%;margin-bottom: 0;padding: 0.3em;box-sizing: border-box;text-align: center;}#sk-container-id-129 label.sk-toggleable__label-arrow:before {content: \"▸\";float: left;margin-right: 0.25em;color: #696969;}#sk-container-id-129 label.sk-toggleable__label-arrow:hover:before {color: black;}#sk-container-id-129 div.sk-estimator:hover label.sk-toggleable__label-arrow:before {color: black;}#sk-container-id-129 div.sk-toggleable__content {max-height: 0;max-width: 0;overflow: hidden;text-align: left;background-color: #f0f8ff;}#sk-container-id-129 div.sk-toggleable__content pre {margin: 0.2em;color: black;border-radius: 0.25em;background-color: #f0f8ff;}#sk-container-id-129 input.sk-toggleable__control:checked~div.sk-toggleable__content {max-height: 200px;max-width: 100%;overflow: auto;}#sk-container-id-129 input.sk-toggleable__control:checked~label.sk-toggleable__label-arrow:before {content: \"▾\";}#sk-container-id-129 div.sk-estimator input.sk-toggleable__control:checked~label.sk-toggleable__label {background-color: #d4ebff;}#sk-container-id-129 div.sk-label input.sk-toggleable__control:checked~label.sk-toggleable__label {background-color: #d4ebff;}#sk-container-id-129 input.sk-hidden--visually {border: 0;clip: rect(1px 1px 1px 1px);clip: rect(1px, 1px, 1px, 1px);height: 1px;margin: -1px;overflow: hidden;padding: 0;position: absolute;width: 1px;}#sk-container-id-129 div.sk-estimator {font-family: monospace;background-color: #f0f8ff;border: 1px dotted black;border-radius: 0.25em;box-sizing: border-box;margin-bottom: 0.5em;}#sk-container-id-129 div.sk-estimator:hover {background-color: #d4ebff;}#sk-container-id-129 div.sk-parallel-item::after {content: \"\";width: 100%;border-bottom: 1px solid gray;flex-grow: 1;}#sk-container-id-129 div.sk-label:hover label.sk-toggleable__label {background-color: #d4ebff;}#sk-container-id-129 div.sk-serial::before {content: \"\";position: absolute;border-left: 1px solid gray;box-sizing: border-box;top: 0;bottom: 0;left: 50%;z-index: 0;}#sk-container-id-129 div.sk-serial {display: flex;flex-direction: column;align-items: center;background-color: white;padding-right: 0.2em;padding-left: 0.2em;position: relative;}#sk-container-id-129 div.sk-item {position: relative;z-index: 1;}#sk-container-id-129 div.sk-parallel {display: flex;align-items: stretch;justify-content: center;background-color: white;position: relative;}#sk-container-id-129 div.sk-item::before, #sk-container-id-129 div.sk-parallel-item::before {content: \"\";position: absolute;border-left: 1px solid gray;box-sizing: border-box;top: 0;bottom: 0;left: 50%;z-index: -1;}#sk-container-id-129 div.sk-parallel-item {display: flex;flex-direction: column;z-index: 1;position: relative;background-color: white;}#sk-container-id-129 div.sk-parallel-item:first-child::after {align-self: flex-end;width: 50%;}#sk-container-id-129 div.sk-parallel-item:last-child::after {align-self: flex-start;width: 50%;}#sk-container-id-129 div.sk-parallel-item:only-child::after {width: 0;}#sk-container-id-129 div.sk-dashed-wrapped {border: 1px dashed gray;margin: 0 0.4em 0.5em 0.4em;box-sizing: border-box;padding-bottom: 0.4em;background-color: white;}#sk-container-id-129 div.sk-label label {font-family: monospace;font-weight: bold;display: inline-block;line-height: 1.2em;}#sk-container-id-129 div.sk-label-container {text-align: center;}#sk-container-id-129 div.sk-container {/* jupyter's `normalize.less` sets `[hidden] { display: none; }` but bootstrap.min.css set `[hidden] { display: none !important; }` so we also need the `!important` here to be able to override the default hidden behavior on the sphinx rendered scikit-learn.org. See: https://github.com/scikit-learn/scikit-learn/issues/21755 */display: inline-block !important;position: relative;}#sk-container-id-129 div.sk-text-repr-fallback {display: none;}</style><div id=\"sk-container-id-129\" class=\"sk-top-container\"><div class=\"sk-text-repr-fallback\"><pre>Pipeline(steps=[(&#x27;scaler&#x27;, MinMaxScaler()), (&#x27;svc&#x27;, PCA(n_components=2))])</pre><b>In a Jupyter environment, please rerun this cell to show the HTML representation or trust the notebook. <br />On GitHub, the HTML representation is unable to render, please try loading this page with nbviewer.org.</b></div><div class=\"sk-container\" hidden><div class=\"sk-item sk-dashed-wrapped\"><div class=\"sk-label-container\"><div class=\"sk-label sk-toggleable\"><input class=\"sk-toggleable__control sk-hidden--visually\" id=\"sk-estimator-id-359\" type=\"checkbox\" ><label for=\"sk-estimator-id-359\" class=\"sk-toggleable__label sk-toggleable__label-arrow\">Pipeline</label><div class=\"sk-toggleable__content\"><pre>Pipeline(steps=[(&#x27;scaler&#x27;, MinMaxScaler()), (&#x27;svc&#x27;, PCA(n_components=2))])</pre></div></div></div><div class=\"sk-serial\"><div class=\"sk-item\"><div class=\"sk-estimator sk-toggleable\"><input class=\"sk-toggleable__control sk-hidden--visually\" id=\"sk-estimator-id-360\" type=\"checkbox\" ><label for=\"sk-estimator-id-360\" class=\"sk-toggleable__label sk-toggleable__label-arrow\">MinMaxScaler</label><div class=\"sk-toggleable__content\"><pre>MinMaxScaler()</pre></div></div></div><div class=\"sk-item\"><div class=\"sk-estimator sk-toggleable\"><input class=\"sk-toggleable__control sk-hidden--visually\" id=\"sk-estimator-id-361\" type=\"checkbox\" ><label for=\"sk-estimator-id-361\" class=\"sk-toggleable__label sk-toggleable__label-arrow\">PCA</label><div class=\"sk-toggleable__content\"><pre>PCA(n_components=2)</pre></div></div></div></div></div></div></div>"
            ]
          },
          "metadata": {},
          "execution_count": 3483
        }
      ]
    },
    {
      "cell_type": "code",
      "source": [
        "pipe.score(X_test_3, y_test_3)"
      ],
      "metadata": {
        "colab": {
          "base_uri": "https://localhost:8080/"
        },
        "id": "41Xj4PslBvdi",
        "outputId": "2e773a68-2045-4d40-ce67-17c0e168202a"
      },
      "execution_count": 3488,
      "outputs": [
        {
          "output_type": "execute_result",
          "data": {
            "text/plain": [
              "9.498879177506105"
            ]
          },
          "metadata": {},
          "execution_count": 3488
        }
      ]
    },
    {
      "cell_type": "code",
      "source": [],
      "metadata": {
        "id": "SzEHJ6xvAs9d"
      },
      "execution_count": 3432,
      "outputs": []
    },
    {
      "cell_type": "markdown",
      "metadata": {
        "id": "YhsJF-yN-_Qs"
      },
      "source": [
        "**Note: From this point `sklearn` [Pipeline](https://scikit-learn.org/stable/modules/compose.html) might be useful to perform transformations on the data. Refer to the [docs](https://scikit-learn.org/stable/modules/generated/sklearn.pipeline.Pipeline.html) for more information.**"
      ]
    },
    {
      "cell_type": "markdown",
      "metadata": {
        "nbgrader": {
          "grade": false,
          "grade_id": "cell-d28b58a35c94e988",
          "locked": true,
          "schema_version": 2,
          "solution": false
        },
        "id": "jK-guN8W-_Qs"
      },
      "source": [
        "#### 2.4. Logistic regression on PCA-preprocessed data.\n",
        "* Find optimal hyperparameters for logistic regression with cross-validation on the transformed by PCA `train` data.\n",
        "\n",
        "* Estimate the model quality with `f1` and `accuracy` scores.\n",
        "* Plot a ROC-curve for the trained model. For the multiclass case you might use `scikitplot` library (e.g. `scikitplot.metrics.plot_roc(test_labels, predicted_proba)`).\n",
        "\n",
        "*Note: please, use the following hyperparameters for logistic regression: `multi_class='multinomial'`, `solver='saga'` and `tol=1e-3`*"
      ]
    },
    {
      "cell_type": "code",
      "execution_count": 3433,
      "metadata": {
        "nbgrader": {
          "grade": true,
          "grade_id": "cell-12d53ea45258fa82",
          "locked": false,
          "points": 5,
          "schema_version": 2,
          "solution": true
        },
        "id": "KvrtzDjS-_Qt"
      },
      "outputs": [],
      "source": [
        "### YOUR CODE HERE\n"
      ]
    },
    {
      "cell_type": "code",
      "source": [
        "\n",
        "X_train_4 = X_train\n",
        "y_train_4 = y_train\n",
        "X_test_4 =  X_test\n",
        "y_test_4 = y_test"
      ],
      "metadata": {
        "id": "qFY7UErqHp1H"
      },
      "execution_count": 3434,
      "outputs": []
    },
    {
      "cell_type": "code",
      "source": [
        "#pipe = Pipeline([('scaler', MinMaxScaler()), ('svc', PCA(n_components = 2))])\n",
        "#pipe.fit(X_train_4, y_train_4)\n",
        "#pipe.fit(X_test_4, y_test_4)\n",
        "from sklearn import preprocessing\n",
        "from sklearn.decomposition import PCA\n",
        "from sklearn.preprocessing import MinMaxScaler\n",
        "from sklearn.preprocessing import StandardScaler\n",
        "from sklearn.preprocessing import RobustScaler\n",
        "\n",
        "logistic = linear_model.LogisticRegression(solver='saga',multi_class='multinomial',max_iter=500,tol=1e-4)\n",
        "logistic.fit(X_train_4, y_train_4)\n",
        "pipe = Pipeline([('scaler', StandardScaler()), ('svc', PCA(n_components = 2))])\n",
        "pipe.fit(X_train_4, y_train_4)\n",
        "pipe.fit(X_test_4, y_test_4)\n",
        "\n",
        "\n",
        "\n",
        "\n",
        "scores_f1_2 = cross_val_score(logistic, X_train_4, y_train_4, cv=5, scoring='f1_macro')\n",
        "scores_accuracy_2 = cross_val_score(logistic, X_train_4, y_train_4, cv=5, scoring='accuracy')\n",
        "y_proba_2 = model.predict_proba(X_test_4)\n",
        "y_pred_2 = model.predict(X_test_4)\n"
      ],
      "metadata": {
        "colab": {
          "base_uri": "https://localhost:8080/"
        },
        "id": "hcF-jtrsFcY9",
        "outputId": "c39936c0-69cf-44c0-ecfc-d2d1b8154691"
      },
      "execution_count": 3460,
      "outputs": [
        {
          "output_type": "stream",
          "name": "stderr",
          "text": [
            "/home/jctuesta/.local/lib/python3.8/site-packages/sklearn/linear_model/_sag.py:350: ConvergenceWarning: The max_iter was reached which means the coef_ did not converge\n",
            "  warnings.warn(\n",
            "/home/jctuesta/.local/lib/python3.8/site-packages/sklearn/linear_model/_sag.py:350: ConvergenceWarning: The max_iter was reached which means the coef_ did not converge\n",
            "  warnings.warn(\n",
            "/home/jctuesta/.local/lib/python3.8/site-packages/sklearn/linear_model/_sag.py:350: ConvergenceWarning: The max_iter was reached which means the coef_ did not converge\n",
            "  warnings.warn(\n",
            "/home/jctuesta/.local/lib/python3.8/site-packages/sklearn/linear_model/_sag.py:350: ConvergenceWarning: The max_iter was reached which means the coef_ did not converge\n",
            "  warnings.warn(\n",
            "/home/jctuesta/.local/lib/python3.8/site-packages/sklearn/linear_model/_sag.py:350: ConvergenceWarning: The max_iter was reached which means the coef_ did not converge\n",
            "  warnings.warn(\n",
            "/home/jctuesta/.local/lib/python3.8/site-packages/sklearn/linear_model/_sag.py:350: ConvergenceWarning: The max_iter was reached which means the coef_ did not converge\n",
            "  warnings.warn(\n",
            "/home/jctuesta/.local/lib/python3.8/site-packages/sklearn/linear_model/_sag.py:350: ConvergenceWarning: The max_iter was reached which means the coef_ did not converge\n",
            "  warnings.warn(\n",
            "/home/jctuesta/.local/lib/python3.8/site-packages/sklearn/linear_model/_sag.py:350: ConvergenceWarning: The max_iter was reached which means the coef_ did not converge\n",
            "  warnings.warn(\n",
            "/home/jctuesta/.local/lib/python3.8/site-packages/sklearn/linear_model/_sag.py:350: ConvergenceWarning: The max_iter was reached which means the coef_ did not converge\n",
            "  warnings.warn(\n",
            "/home/jctuesta/.local/lib/python3.8/site-packages/sklearn/linear_model/_sag.py:350: ConvergenceWarning: The max_iter was reached which means the coef_ did not converge\n",
            "  warnings.warn(\n",
            "/home/jctuesta/.local/lib/python3.8/site-packages/sklearn/linear_model/_sag.py:350: ConvergenceWarning: The max_iter was reached which means the coef_ did not converge\n",
            "  warnings.warn(\n"
          ]
        }
      ]
    },
    {
      "cell_type": "code",
      "source": [
        "from sklearn.metrics import accuracy_score\n",
        "print (scores_f1.mean(),scores_accuracy_2.mean())\n",
        "print('pca =',accuracy_score(y_test_4,y_pred_2))\n",
        "\n",
        "\n"
      ],
      "metadata": {
        "colab": {
          "base_uri": "https://localhost:8080/"
        },
        "id": "aE_b68tdSDhn",
        "outputId": "9bab5374-a9d2-4c1d-8892-0470ad2018dc"
      },
      "execution_count": 3461,
      "outputs": [
        {
          "output_type": "stream",
          "name": "stdout",
          "text": [
            "0.7555242250788207 0.7139783152627189\n",
            "pca = 0.24579124579124578\n"
          ]
        }
      ]
    },
    {
      "cell_type": "code",
      "source": [
        "skplt.metrics.plot_roc_curve(y_test_4, y_proba_2)\n",
        "plt.show()"
      ],
      "metadata": {
        "colab": {
          "base_uri": "https://localhost:8080/",
          "height": 350
        },
        "id": "BAg1I1gCIRu3",
        "outputId": "1a65be02-1800-4994-f49a-608317309dbf"
      },
      "execution_count": 3462,
      "outputs": [
        {
          "output_type": "stream",
          "name": "stderr",
          "text": [
            "/home/jctuesta/.local/lib/python3.8/site-packages/sklearn/utils/deprecation.py:87: FutureWarning: Function plot_roc_curve is deprecated; This will be removed in v0.5.0. Please use scikitplot.metrics.plot_roc instead.\n",
            "  warnings.warn(msg, category=FutureWarning)\n"
          ]
        },
        {
          "output_type": "display_data",
          "data": {
            "text/plain": [
              "<Figure size 432x288 with 1 Axes>"
            ],
            "image/png": "[encoded data removed]"
          },
          "metadata": {
            "needs_background": "light"
          }
        }
      ]
    },
    {
      "cell_type": "markdown",
      "metadata": {
        "nbgrader": {
          "grade": false,
          "grade_id": "cell-4fbf16c64076e139",
          "locked": true,
          "schema_version": 2,
          "solution": false
        },
        "id": "4NhjfyLJ-_Qt"
      },
      "source": [
        "#### 2.5. Decision tree\n",
        "* Now train a desicion tree on the same data. Find optimal tree depth (`max_depth`) using cross-validation.\n",
        "\n",
        "* Measure the model quality using the same metrics you used above."
      ]
    },
    {
      "cell_type": "code",
      "source": [
        "X_train_5 = X_train\n",
        "y_train_5 = y_train\n",
        "X_test_5 =  X_test\n",
        "y_test_5 = y_test\n"
      ],
      "metadata": {
        "id": "ebjtgKSxSTx3"
      },
      "execution_count": 3438,
      "outputs": []
    },
    {
      "cell_type": "code",
      "source": [
        "from sklearn import preprocessing\n",
        "pipe = Pipeline([('scaler', MinMaxScaler()), ('svc', PCA(n_components = 2))])\n",
        "pipe.fit(X_train_5, y_train_5)\n",
        "pipe.fit(X_test_5, y_test_5)"
      ],
      "metadata": {
        "colab": {
          "base_uri": "https://localhost:8080/",
          "height": 126
        },
        "id": "pC_FjJYLWeMT",
        "outputId": "3e500ddf-9e08-4a64-e226-2e9fdebc5d30"
      },
      "execution_count": 3439,
      "outputs": [
        {
          "output_type": "execute_result",
          "data": {
            "text/plain": [
              "Pipeline(steps=[('scaler', MinMaxScaler()), ('svc', PCA(n_components=2))])"
            ],
            "text/html": [
              "<style>#sk-container-id-124 {color: black;background-color: white;}#sk-container-id-124 pre{padding: 0;}#sk-container-id-124 div.sk-toggleable {background-color: white;}#sk-container-id-124 label.sk-toggleable__label {cursor: pointer;display: block;width: 100%;margin-bottom: 0;padding: 0.3em;box-sizing: border-box;text-align: center;}#sk-container-id-124 label.sk-toggleable__label-arrow:before {content: \"▸\";float: left;margin-right: 0.25em;color: #696969;}#sk-container-id-124 label.sk-toggleable__label-arrow:hover:before {color: black;}#sk-container-id-124 div.sk-estimator:hover label.sk-toggleable__label-arrow:before {color: black;}#sk-container-id-124 div.sk-toggleable__content {max-height: 0;max-width: 0;overflow: hidden;text-align: left;background-color: #f0f8ff;}#sk-container-id-124 div.sk-toggleable__content pre {margin: 0.2em;color: black;border-radius: 0.25em;background-color: #f0f8ff;}#sk-container-id-124 input.sk-toggleable__control:checked~div.sk-toggleable__content {max-height: 200px;max-width: 100%;overflow: auto;}#sk-container-id-124 input.sk-toggleable__control:checked~label.sk-toggleable__label-arrow:before {content: \"▾\";}#sk-container-id-124 div.sk-estimator input.sk-toggleable__control:checked~label.sk-toggleable__label {background-color: #d4ebff;}#sk-container-id-124 div.sk-label input.sk-toggleable__control:checked~label.sk-toggleable__label {background-color: #d4ebff;}#sk-container-id-124 input.sk-hidden--visually {border: 0;clip: rect(1px 1px 1px 1px);clip: rect(1px, 1px, 1px, 1px);height: 1px;margin: -1px;overflow: hidden;padding: 0;position: absolute;width: 1px;}#sk-container-id-124 div.sk-estimator {font-family: monospace;background-color: #f0f8ff;border: 1px dotted black;border-radius: 0.25em;box-sizing: border-box;margin-bottom: 0.5em;}#sk-container-id-124 div.sk-estimator:hover {background-color: #d4ebff;}#sk-container-id-124 div.sk-parallel-item::after {content: \"\";width: 100%;border-bottom: 1px solid gray;flex-grow: 1;}#sk-container-id-124 div.sk-label:hover label.sk-toggleable__label {background-color: #d4ebff;}#sk-container-id-124 div.sk-serial::before {content: \"\";position: absolute;border-left: 1px solid gray;box-sizing: border-box;top: 0;bottom: 0;left: 50%;z-index: 0;}#sk-container-id-124 div.sk-serial {display: flex;flex-direction: column;align-items: center;background-color: white;padding-right: 0.2em;padding-left: 0.2em;position: relative;}#sk-container-id-124 div.sk-item {position: relative;z-index: 1;}#sk-container-id-124 div.sk-parallel {display: flex;align-items: stretch;justify-content: center;background-color: white;position: relative;}#sk-container-id-124 div.sk-item::before, #sk-container-id-124 div.sk-parallel-item::before {content: \"\";position: absolute;border-left: 1px solid gray;box-sizing: border-box;top: 0;bottom: 0;left: 50%;z-index: -1;}#sk-container-id-124 div.sk-parallel-item {display: flex;flex-direction: column;z-index: 1;position: relative;background-color: white;}#sk-container-id-124 div.sk-parallel-item:first-child::after {align-self: flex-end;width: 50%;}#sk-container-id-124 div.sk-parallel-item:last-child::after {align-self: flex-start;width: 50%;}#sk-container-id-124 div.sk-parallel-item:only-child::after {width: 0;}#sk-container-id-124 div.sk-dashed-wrapped {border: 1px dashed gray;margin: 0 0.4em 0.5em 0.4em;box-sizing: border-box;padding-bottom: 0.4em;background-color: white;}#sk-container-id-124 div.sk-label label {font-family: monospace;font-weight: bold;display: inline-block;line-height: 1.2em;}#sk-container-id-124 div.sk-label-container {text-align: center;}#sk-container-id-124 div.sk-container {/* jupyter's `normalize.less` sets `[hidden] { display: none; }` but bootstrap.min.css set `[hidden] { display: none !important; }` so we also need the `!important` here to be able to override the default hidden behavior on the sphinx rendered scikit-learn.org. See: https://github.com/scikit-learn/scikit-learn/issues/21755 */display: inline-block !important;position: relative;}#sk-container-id-124 div.sk-text-repr-fallback {display: none;}</style><div id=\"sk-container-id-124\" class=\"sk-top-container\"><div class=\"sk-text-repr-fallback\"><pre>Pipeline(steps=[(&#x27;scaler&#x27;, MinMaxScaler()), (&#x27;svc&#x27;, PCA(n_components=2))])</pre><b>In a Jupyter environment, please rerun this cell to show the HTML representation or trust the notebook. <br />On GitHub, the HTML representation is unable to render, please try loading this page with nbviewer.org.</b></div><div class=\"sk-container\" hidden><div class=\"sk-item sk-dashed-wrapped\"><div class=\"sk-label-container\"><div class=\"sk-label sk-toggleable\"><input class=\"sk-toggleable__control sk-hidden--visually\" id=\"sk-estimator-id-345\" type=\"checkbox\" ><label for=\"sk-estimator-id-345\" class=\"sk-toggleable__label sk-toggleable__label-arrow\">Pipeline</label><div class=\"sk-toggleable__content\"><pre>Pipeline(steps=[(&#x27;scaler&#x27;, MinMaxScaler()), (&#x27;svc&#x27;, PCA(n_components=2))])</pre></div></div></div><div class=\"sk-serial\"><div class=\"sk-item\"><div class=\"sk-estimator sk-toggleable\"><input class=\"sk-toggleable__control sk-hidden--visually\" id=\"sk-estimator-id-346\" type=\"checkbox\" ><label for=\"sk-estimator-id-346\" class=\"sk-toggleable__label sk-toggleable__label-arrow\">MinMaxScaler</label><div class=\"sk-toggleable__content\"><pre>MinMaxScaler()</pre></div></div></div><div class=\"sk-item\"><div class=\"sk-estimator sk-toggleable\"><input class=\"sk-toggleable__control sk-hidden--visually\" id=\"sk-estimator-id-347\" type=\"checkbox\" ><label for=\"sk-estimator-id-347\" class=\"sk-toggleable__label sk-toggleable__label-arrow\">PCA</label><div class=\"sk-toggleable__content\"><pre>PCA(n_components=2)</pre></div></div></div></div></div></div></div>"
            ]
          },
          "metadata": {},
          "execution_count": 3439
        }
      ]
    },
    {
      "cell_type": "code",
      "source": [
        "from sklearn.tree import DecisionTreeClassifier\n",
        "from sklearn.model_selection import cross_val_score\n",
        "from sklearn import metrics"
      ],
      "metadata": {
        "id": "94HTHQM-ScVe"
      },
      "execution_count": 3440,
      "outputs": []
    },
    {
      "cell_type": "code",
      "source": [
        "#model_tree = DecisionTreeClassifier(criterion=\"entropy\", max_depth=7)\n",
        "#model_tree = model_tree.fit(X_train_5,y_train_5)\n",
        "#y_pred_tree = model_tree.predict(X_test_5)\n",
        "\n",
        "\n"
      ],
      "metadata": {
        "id": "ll86JdubU3ZX"
      },
      "execution_count": 3441,
      "outputs": []
    },
    {
      "cell_type": "code",
      "source": [
        "\n",
        "accuracy_scores = []\n",
        "for deph in list(range(1,20)):\n",
        "  model_tree = DecisionTreeClassifier(criterion=\"entropy\", max_depth=deph).fit(X_train_5,y_train_5)\n",
        "  y_pred_tree = model_tree.predict(X_test_5)\n",
        "  scores_f1_2 = cross_val_score(model_tree, X_train_5, y_train_5, cv=10, scoring='f1_macro')\n",
        "  scores_accuracy_2 = cross_val_score(model_tree, X_train_5, y_train_5, cv=10, scoring='accuracy')\n",
        "  #print(deph,\"Accuracy:\",deph,metrics.accuracy_score(y_test_5, y_pred_tree))\n",
        "  #print(deph,\"Accuracy:\",metrics.accuracy_score(y_test_5, y_pred_tree))\n",
        "  print (deph, scores_f1_2.mean(), scores_accuracy_2.mean())\n",
        "#dehp 8 max"
      ],
      "metadata": {
        "colab": {
          "base_uri": "https://localhost:8080/"
        },
        "id": "Y3O-n5Q-Y6xu",
        "outputId": "308b32d9-a8da-41d7-ede1-e9af55722fab"
      },
      "execution_count": 3442,
      "outputs": [
        {
          "output_type": "stream",
          "name": "stdout",
          "text": [
            "1 0.27961487005028657 0.41885521885521887\n",
            "2 0.4295162024558114 0.4988215488215488\n",
            "3 0.5789069139129284 0.6283838383838385\n",
            "4 0.628068159140991 0.661010101010101\n",
            "5 0.7001991878773818 0.7267003367003366\n",
            "6 0.6848303511818978 0.6957239057239057\n",
            "7 0.7032110799870868 0.7138047138047139\n",
            "8 0.6800136281369498 0.6939057239057239\n",
            "9 0.7008404246763317 0.6939057239057239\n",
            "10 0.6930627448958626 0.6848148148148148\n",
            "11 0.686498989807131 0.6902356902356903\n",
            "12 0.6996498960534838 0.7122222222222223\n",
            "13 0.6975061156993551 0.713973063973064\n",
            "14 0.7057103034234193 0.6956902356902358\n",
            "15 0.6898780218119853 0.6975757575757576\n",
            "16 0.7152308681833214 0.7010774410774411\n",
            "17 0.7013952623136923 0.7103703703703704\n",
            "18 0.711801719388969 0.7157912457912458\n",
            "19 0.7035560770908681 0.6993265993265994\n"
          ]
        }
      ]
    },
    {
      "cell_type": "code",
      "source": [
        "model_tree = DecisionTreeClassifier(criterion=\"entropy\", max_depth=8).fit(X_train_5,y_train_5)\n",
        "y_pred_tree = model_tree.predict(X_test_5)\n",
        "cross_val_score(model_tree, X_train_5, y_train_5, cv=10,scoring='f1_macro').mean()"
      ],
      "metadata": {
        "colab": {
          "base_uri": "https://localhost:8080/"
        },
        "id": "J1geQBAfw1bS",
        "outputId": "345a7e85-d1e7-4d2d-f34b-5ee13227a771"
      },
      "execution_count": 3443,
      "outputs": [
        {
          "output_type": "execute_result",
          "data": {
            "text/plain": [
              "0.6818632824293189"
            ]
          },
          "metadata": {},
          "execution_count": 3443
        }
      ]
    },
    {
      "cell_type": "markdown",
      "metadata": {
        "nbgrader": {
          "grade": false,
          "grade_id": "cell-9eadd4d8a03ae67a",
          "locked": true,
          "schema_version": 2,
          "solution": false
        },
        "id": "qFfTgYmJ-_Qu"
      },
      "source": [
        "#### 2.6. Bagging.\n",
        "Here starts the ensembling part.\n",
        "\n",
        "First we will use the __Bagging__ approach. Build an ensemble of $N$ algorithms varying N from $N_{min}=2$ to $N_{max}=100$ (with step 5).\n",
        "\n",
        "We will build two ensembles: of logistic regressions and of decision trees.\n",
        "\n",
        "*Comment: each ensemble should be constructed from models of the same family, so logistic regressions should not be mixed up with decision trees.*\n",
        "\n",
        "\n",
        "*Hint 1: To build a __Bagging__ ensebmle varying the ensemble size efficiently you might generate $N_{max}$ subsets of `train` data (of the same size as the original dataset) using bootstrap procedure once. Then you train a new instance of logistic regression/decision tree with optimal hyperparameters you estimated before on each subset (so you train it from scratch). Finally, to get an ensemble of $N$ models you average the $N$ out of $N_{max}$ models predictions.*\n",
        "\n",
        "*Hint 2: sklearn might help you with this taks. Some appropriate function/class might be out there.*\n",
        "\n",
        "* Plot `f1` and `accuracy` scores plots w.r.t. the size of the ensemble.\n",
        "\n",
        "* Briefly analyse the plot. What is the optimal number of algorithms? Explain your answer.\n",
        "\n",
        "* How do you think, are the hyperparameters for the decision trees you found in 2.5 optimal for trees used in ensemble? "
      ]
    },
    {
      "cell_type": "code",
      "execution_count": 3444,
      "metadata": {
        "nbgrader": {
          "grade": true,
          "grade_id": "cell-8fc95a2b206bdae1",
          "locked": false,
          "points": 35,
          "schema_version": 2,
          "solution": true
        },
        "id": "8V88NwYO-_Qu",
        "colab": {
          "base_uri": "https://localhost:8080/"
        },
        "outputId": "c0c2409e-2e1a-4571-8754-91346cbb71fe"
      },
      "outputs": [
        {
          "output_type": "execute_result",
          "data": {
            "text/plain": [
              "(549, 19)"
            ]
          },
          "metadata": {},
          "execution_count": 3444
        }
      ],
      "source": [
        "# YOUR CODE HERE\n",
        "X_train.shape"
      ]
    },
    {
      "cell_type": "code",
      "execution_count": 3445,
      "metadata": {
        "id": "zTufvwlm-_Qu",
        "colab": {
          "base_uri": "https://localhost:8080/",
          "height": 126
        },
        "outputId": "13380db0-4dd3-4475-e0ba-6d2b0542c677"
      },
      "outputs": [
        {
          "output_type": "execute_result",
          "data": {
            "text/plain": [
              "Pipeline(steps=[('scaler', StandardScaler()), ('svc', PCA(n_components=2))])"
            ],
            "text/html": [
              "<style>#sk-container-id-125 {color: black;background-color: white;}#sk-container-id-125 pre{padding: 0;}#sk-container-id-125 div.sk-toggleable {background-color: white;}#sk-container-id-125 label.sk-toggleable__label {cursor: pointer;display: block;width: 100%;margin-bottom: 0;padding: 0.3em;box-sizing: border-box;text-align: center;}#sk-container-id-125 label.sk-toggleable__label-arrow:before {content: \"▸\";float: left;margin-right: 0.25em;color: #696969;}#sk-container-id-125 label.sk-toggleable__label-arrow:hover:before {color: black;}#sk-container-id-125 div.sk-estimator:hover label.sk-toggleable__label-arrow:before {color: black;}#sk-container-id-125 div.sk-toggleable__content {max-height: 0;max-width: 0;overflow: hidden;text-align: left;background-color: #f0f8ff;}#sk-container-id-125 div.sk-toggleable__content pre {margin: 0.2em;color: black;border-radius: 0.25em;background-color: #f0f8ff;}#sk-container-id-125 input.sk-toggleable__control:checked~div.sk-toggleable__content {max-height: 200px;max-width: 100%;overflow: auto;}#sk-container-id-125 input.sk-toggleable__control:checked~label.sk-toggleable__label-arrow:before {content: \"▾\";}#sk-container-id-125 div.sk-estimator input.sk-toggleable__control:checked~label.sk-toggleable__label {background-color: #d4ebff;}#sk-container-id-125 div.sk-label input.sk-toggleable__control:checked~label.sk-toggleable__label {background-color: #d4ebff;}#sk-container-id-125 input.sk-hidden--visually {border: 0;clip: rect(1px 1px 1px 1px);clip: rect(1px, 1px, 1px, 1px);height: 1px;margin: -1px;overflow: hidden;padding: 0;position: absolute;width: 1px;}#sk-container-id-125 div.sk-estimator {font-family: monospace;background-color: #f0f8ff;border: 1px dotted black;border-radius: 0.25em;box-sizing: border-box;margin-bottom: 0.5em;}#sk-container-id-125 div.sk-estimator:hover {background-color: #d4ebff;}#sk-container-id-125 div.sk-parallel-item::after {content: \"\";width: 100%;border-bottom: 1px solid gray;flex-grow: 1;}#sk-container-id-125 div.sk-label:hover label.sk-toggleable__label {background-color: #d4ebff;}#sk-container-id-125 div.sk-serial::before {content: \"\";position: absolute;border-left: 1px solid gray;box-sizing: border-box;top: 0;bottom: 0;left: 50%;z-index: 0;}#sk-container-id-125 div.sk-serial {display: flex;flex-direction: column;align-items: center;background-color: white;padding-right: 0.2em;padding-left: 0.2em;position: relative;}#sk-container-id-125 div.sk-item {position: relative;z-index: 1;}#sk-container-id-125 div.sk-parallel {display: flex;align-items: stretch;justify-content: center;background-color: white;position: relative;}#sk-container-id-125 div.sk-item::before, #sk-container-id-125 div.sk-parallel-item::before {content: \"\";position: absolute;border-left: 1px solid gray;box-sizing: border-box;top: 0;bottom: 0;left: 50%;z-index: -1;}#sk-container-id-125 div.sk-parallel-item {display: flex;flex-direction: column;z-index: 1;position: relative;background-color: white;}#sk-container-id-125 div.sk-parallel-item:first-child::after {align-self: flex-end;width: 50%;}#sk-container-id-125 div.sk-parallel-item:last-child::after {align-self: flex-start;width: 50%;}#sk-container-id-125 div.sk-parallel-item:only-child::after {width: 0;}#sk-container-id-125 div.sk-dashed-wrapped {border: 1px dashed gray;margin: 0 0.4em 0.5em 0.4em;box-sizing: border-box;padding-bottom: 0.4em;background-color: white;}#sk-container-id-125 div.sk-label label {font-family: monospace;font-weight: bold;display: inline-block;line-height: 1.2em;}#sk-container-id-125 div.sk-label-container {text-align: center;}#sk-container-id-125 div.sk-container {/* jupyter's `normalize.less` sets `[hidden] { display: none; }` but bootstrap.min.css set `[hidden] { display: none !important; }` so we also need the `!important` here to be able to override the default hidden behavior on the sphinx rendered scikit-learn.org. See: https://github.com/scikit-learn/scikit-learn/issues/21755 */display: inline-block !important;position: relative;}#sk-container-id-125 div.sk-text-repr-fallback {display: none;}</style><div id=\"sk-container-id-125\" class=\"sk-top-container\"><div class=\"sk-text-repr-fallback\"><pre>Pipeline(steps=[(&#x27;scaler&#x27;, StandardScaler()), (&#x27;svc&#x27;, PCA(n_components=2))])</pre><b>In a Jupyter environment, please rerun this cell to show the HTML representation or trust the notebook. <br />On GitHub, the HTML representation is unable to render, please try loading this page with nbviewer.org.</b></div><div class=\"sk-container\" hidden><div class=\"sk-item sk-dashed-wrapped\"><div class=\"sk-label-container\"><div class=\"sk-label sk-toggleable\"><input class=\"sk-toggleable__control sk-hidden--visually\" id=\"sk-estimator-id-348\" type=\"checkbox\" ><label for=\"sk-estimator-id-348\" class=\"sk-toggleable__label sk-toggleable__label-arrow\">Pipeline</label><div class=\"sk-toggleable__content\"><pre>Pipeline(steps=[(&#x27;scaler&#x27;, StandardScaler()), (&#x27;svc&#x27;, PCA(n_components=2))])</pre></div></div></div><div class=\"sk-serial\"><div class=\"sk-item\"><div class=\"sk-estimator sk-toggleable\"><input class=\"sk-toggleable__control sk-hidden--visually\" id=\"sk-estimator-id-349\" type=\"checkbox\" ><label for=\"sk-estimator-id-349\" class=\"sk-toggleable__label sk-toggleable__label-arrow\">StandardScaler</label><div class=\"sk-toggleable__content\"><pre>StandardScaler()</pre></div></div></div><div class=\"sk-item\"><div class=\"sk-estimator sk-toggleable\"><input class=\"sk-toggleable__control sk-hidden--visually\" id=\"sk-estimator-id-350\" type=\"checkbox\" ><label for=\"sk-estimator-id-350\" class=\"sk-toggleable__label sk-toggleable__label-arrow\">PCA</label><div class=\"sk-toggleable__content\"><pre>PCA(n_components=2)</pre></div></div></div></div></div></div></div>"
            ]
          },
          "metadata": {},
          "execution_count": 3445
        }
      ],
      "source": [
        "from sklearn import preprocessing\n",
        "X_train_6 = X_train\n",
        "y_train_6 = y_train\n",
        "X_test_6 =  X_test\n",
        "y_test_6 = y_test\n",
        "\n",
        "pipe = Pipeline([('scaler', StandardScaler()), ('svc', PCA(n_components = 2))])\n",
        "pipe.fit(X_train_6, y_train_6)\n",
        "pipe.fit(X_test_6, y_test_6)"
      ]
    },
    {
      "cell_type": "code",
      "source": [
        "from sklearn.linear_model import LogisticRegression\n",
        "from sklearn.ensemble import BaggingClassifier\n",
        "from sklearn.metrics import accuracy_score\n",
        "bagging = BaggingClassifier(LogisticRegression(solver='saga',multi_class='multinomial',max_iter=500,tol=1e-3), max_samples=0.5, max_features=0.5)\n",
        "bagging.fit(X_train_6,y_train_6)\n",
        "y_pred_bag = bagging.predict(X_test_6)\n",
        "\n",
        "\n",
        "#model.fit(X_train_2, y_train_2)\n",
        "\n",
        "#y_proba = model.predict_proba(X_test_2)\n",
        "\n",
        "#scores_f1 = cross_val_score(model, X_train_2, y_train_2, cv=5, scoring='f1_macro')\n",
        "#scores_accuracy = cross_val_score(model, X_train_2, y_train_2, cv=5, scoring='accuracy')"
      ],
      "metadata": {
        "colab": {
          "base_uri": "https://localhost:8080/"
        },
        "id": "fQoMXF0kf7gl",
        "outputId": "758e2aa4-4d06-4e23-810a-bc9f3da9dbd9"
      },
      "execution_count": 3463,
      "outputs": [
        {
          "output_type": "stream",
          "name": "stderr",
          "text": [
            "/home/jctuesta/.local/lib/python3.8/site-packages/sklearn/linear_model/_sag.py:350: ConvergenceWarning: The max_iter was reached which means the coef_ did not converge\n",
            "  warnings.warn(\n",
            "/home/jctuesta/.local/lib/python3.8/site-packages/sklearn/linear_model/_sag.py:350: ConvergenceWarning: The max_iter was reached which means the coef_ did not converge\n",
            "  warnings.warn(\n",
            "/home/jctuesta/.local/lib/python3.8/site-packages/sklearn/linear_model/_sag.py:350: ConvergenceWarning: The max_iter was reached which means the coef_ did not converge\n",
            "  warnings.warn(\n",
            "/home/jctuesta/.local/lib/python3.8/site-packages/sklearn/linear_model/_sag.py:350: ConvergenceWarning: The max_iter was reached which means the coef_ did not converge\n",
            "  warnings.warn(\n",
            "/home/jctuesta/.local/lib/python3.8/site-packages/sklearn/linear_model/_sag.py:350: ConvergenceWarning: The max_iter was reached which means the coef_ did not converge\n",
            "  warnings.warn(\n",
            "/home/jctuesta/.local/lib/python3.8/site-packages/sklearn/linear_model/_sag.py:350: ConvergenceWarning: The max_iter was reached which means the coef_ did not converge\n",
            "  warnings.warn(\n",
            "/home/jctuesta/.local/lib/python3.8/site-packages/sklearn/linear_model/_sag.py:350: ConvergenceWarning: The max_iter was reached which means the coef_ did not converge\n",
            "  warnings.warn(\n"
          ]
        }
      ]
    },
    {
      "cell_type": "code",
      "source": [
        "print('bagginng =',accuracy_score(y_test_6,y_pred_bag))\n"
      ],
      "metadata": {
        "colab": {
          "base_uri": "https://localhost:8080/"
        },
        "id": "l4HrixcsgX8J",
        "outputId": "c3f47346-2104-463f-8cb9-f73e705b05c8"
      },
      "execution_count": 3464,
      "outputs": [
        {
          "output_type": "stream",
          "name": "stdout",
          "text": [
            "bagginng = 0.6464646464646465\n"
          ]
        }
      ]
    },
    {
      "cell_type": "markdown",
      "metadata": {
        "nbgrader": {
          "grade": false,
          "grade_id": "cell-241b7691ab44cbfb",
          "locked": true,
          "schema_version": 2,
          "solution": false
        },
        "id": "4XYyiSGT-_Qv"
      },
      "source": [
        "#### 2.7. Random Forest\n",
        "Now we will work with the Random Forest (its `sklearn` implementation).\n",
        "\n",
        "* * Plot `f1` and `accuracy` scores plots w.r.t. the number of trees in Random Forest.\n",
        "\n",
        "* What is the optimal number of trees you've got? Is it different from the optimal number of logistic regressions/decision trees in 2.6? Explain the results briefly."
      ]
    },
    {
      "cell_type": "code",
      "source": [],
      "metadata": {
        "id": "qbZl89hzvyJ3"
      },
      "execution_count": 3447,
      "outputs": []
    },
    {
      "cell_type": "code",
      "execution_count": 3448,
      "metadata": {
        "nbgrader": {
          "grade": true,
          "grade_id": "cell-888755d0f3d91620",
          "locked": false,
          "points": 15,
          "schema_version": 2,
          "solution": true
        },
        "id": "LtRXaJ1_-_Qv"
      },
      "outputs": [],
      "source": [
        "from sklearn.ensemble import RandomForestClassifier\n",
        "\n",
        "# YOUR CODE HERE"
      ]
    },
    {
      "cell_type": "markdown",
      "metadata": {
        "nbgrader": {
          "grade": false,
          "grade_id": "cell-99191c0852538d4d",
          "locked": true,
          "schema_version": 2,
          "solution": false
        },
        "id": "8lrA-XQ--_Qv"
      },
      "source": [
        "#### 2.8. Learning curve\n",
        "Your goal is to estimate, how does the model behaviour change with the increase of the `train` dataset size.\n",
        "\n",
        "* Split the training data into 10 equal (almost) parts. Then train the models from above (Logistic regression, Desicion Tree, Random Forest) with optimal hyperparameters you have selected on 1 part, 2 parts (combined, so the train size in increased by 2 times), 3 parts and so on.\n",
        "\n",
        "* Build a plot of `accuracy` and `f1` scores on `test` part, varying the `train` dataset size (so the axes will be score - dataset size.\n",
        "\n",
        "* Analyse the final plot. Can you make any conlusions using it? "
      ]
    },
    {
      "cell_type": "code",
      "execution_count": 3449,
      "metadata": {
        "nbgrader": {
          "grade": true,
          "grade_id": "cell-e39bc7e7dff61ff9",
          "locked": false,
          "points": 15,
          "schema_version": 2,
          "solution": true
        },
        "id": "fFeHpjhZ-_Qv"
      },
      "outputs": [],
      "source": [
        "# YOUR CODE HERE"
      ]
    }
  ],
  "metadata": {
    "celltoolbar": "Create Assignment",
    "kernelspec": {
      "display_name": "Py3 Research",
      "language": "python",
      "name": "py3_research_kernel"
    },
    "language_info": {
      "codemirror_mode": {
        "name": "ipython",
        "version": 3
      },
      "file_extension": ".py",
      "mimetype": "text/x-python",
      "name": "python",
      "nbconvert_exporter": "python",
      "pygments_lexer": "ipython3",
      "version": "3.9.7"
    },
    "toc": {
      "base_numbering": 1,
      "nav_menu": {},
      "number_sections": false,
      "sideBar": true,
      "skip_h1_title": false,
      "title_cell": "Table of Contents",
      "title_sidebar": "Contents",
      "toc_cell": false,
      "toc_position": {},
      "toc_section_display": true,
      "toc_window_display": false
    },
    "colab": {
      "provenance": []
    }
  },
  "nbformat": 4,
  "nbformat_minor": 0
}