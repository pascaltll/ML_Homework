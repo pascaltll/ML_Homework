{
  "cells": [
    {
      "cell_type": "markdown",
      "metadata": {
        "id": "hHn0pgFT27sB"
      },
      "source": [
        "*Credits: materials from this notebook belong to YSDA [Practical DL](https://github.com/yandexdataschool/Practical_DL) course. Special thanks for making them available online.*"
      ]
    },
    {
      "cell_type": "markdown",
      "metadata": {
        "id": "OaDjZzHw27sI"
      },
      "source": [
        "# Lab assignment №1, part 1\n",
        "\n",
        "This lab assignment consists of several parts. You are supposed to make some transformations, train some models, estimate the quality of the models and explain your results.\n",
        "\n",
        "Several comments:\n",
        "* Don't hesitate to ask questions, it's a good practice.\n",
        "* No private/public sharing, please. The copied assignments will be graded with 0 points.\n",
        "* Blocks of this lab will be graded separately."
      ]
    },
    {
      "cell_type": "markdown",
      "metadata": {
        "id": "dBOV59dL27sJ"
      },
      "source": [
        "## 1. Matrix differentiation"
      ]
    },
    {
      "cell_type": "markdown",
      "metadata": {
        "id": "dkaNXmrh27sK"
      },
      "source": [
        "Since it easy to google every task please please please try to undestand what's going on. The \"just answer\" thing will be not counted, make sure to present derivation of your solution. It is absolutely OK if you found an answer on web then just exercise in $\\LaTeX$ copying it into here."
      ]
    },
    {
      "cell_type": "markdown",
      "metadata": {
        "id": "EnlDptoO27sK"
      },
      "source": [
        "Useful links: \n",
        "[1](http://www.machinelearning.ru/wiki/images/2/2a/Matrix-Gauss.pdf)\n",
        "[2](http://www.atmos.washington.edu/~dennis/MatrixCalculus.pdf)"
      ]
    },
    {
      "cell_type": "markdown",
      "metadata": {
        "id": "9Ic5NKwu27sL"
      },
      "source": [
        "## ex. 1"
      ]
    },
    {
      "cell_type": "markdown",
      "metadata": {
        "id": "KLBYY_6G27sL"
      },
      "source": [
        "$$  \n",
        "y = x^Tx,  \\quad x \\in \\mathbb{R}^N \n",
        "$$"
      ]
    },
    {
      "cell_type": "markdown",
      "metadata": {
        "id": "1jXKCexA27sM"
      },
      "source": [
        "$$\n",
        "\\frac{dy}{dx} = [ \\frac{d \\sum_{n=1}^{N} x_i^{2}}{d x_j} ]  = [2x_j] =   2x^T\n",
        "$$ "
      ]
    },
    {
      "cell_type": "code",
      "execution_count": null,
      "metadata": {
        "collapsed": true,
        "jupyter": {
          "outputs_hidden": true
        },
        "id": "mIZLkoc_27sN"
      },
      "outputs": [],
      "source": []
    },
    {
      "cell_type": "markdown",
      "metadata": {
        "id": "wWrRJJpc27sO"
      },
      "source": [
        "## ex. 2"
      ]
    },
    {
      "cell_type": "markdown",
      "metadata": {
        "id": "JIaG2Ood27sP"
      },
      "source": [
        "$$ y = tr(AB) \\quad A,B \\in \\mathbb{R}^{N \\times N} $$ "
      ]
    },
    {
      "cell_type": "markdown",
      "metadata": {
        "id": "aFwgq3Yh27sP"
      },
      "source": [
        "$$\n",
        "\\frac{dy}{dA}= \\frac{d(tr([c_{ij}]))}{d[a_{ij}]} =\\frac{d(tr([∑_{k=1}^{N}a_{ik}.b_{kj}]))}{d [a_{ij}]} = \\frac{d(∑_{i=1}^{N} ∑_{k=1}^{N}[a_{ik}.b_{ki}])}{d [a_{ij}]} = [\\text{when we have k=j we got a constant }b_{ji} \\text{ anoter case we got zero}] = [b_{ji}]= B^T\n",
        "$$"
      ]
    },
    {
      "cell_type": "markdown",
      "metadata": {
        "id": "hiSWy0-u27sQ"
      },
      "source": [
        "## ex. 3"
      ]
    },
    {
      "cell_type": "markdown",
      "metadata": {
        "id": "BeBhdraV27sR"
      },
      "source": [
        "$$  \n",
        "y = x^TAc , \\quad A\\in \\mathbb{R}^{N \\times N}, x\\in \\mathbb{R}^{N}, c\\in \\mathbb{R}^{N} \n",
        "$$"
      ]
    },
    {
      "cell_type": "markdown",
      "metadata": {
        "id": "tGwwB6sm27sR"
      },
      "source": [
        "$$\n",
        "\\frac{dy}{dx} = \\frac {d( ∑_{k=1}^{N}x_{k}.[Ac]_{k} )}{dx_{i}} = \\frac {d( ∑_{k=1}^{N}x_{k}.∑_{l = 1}^{N}a_{kl}.c_{l} )}{dx_{i}} = [∑_{l = 1}^{N}a_{il}.c_{l}] = Ac\n",
        "$$"
      ]
    },
    {
      "cell_type": "markdown",
      "metadata": {
        "id": "KXvpuD6R27sS"
      },
      "source": [
        "$$\n",
        "\\frac{dy}{dA} =[\\text{cause tr(number) = number}]=\\frac {d( tr(A.c.x^t) )}{da_{ij}} =  (c.x^t)^t   = xc^t\n",
        "$$ "
      ]
    },
    {
      "cell_type": "markdown",
      "metadata": {
        "id": "xOFi02HC27sS"
      },
      "source": [
        "Hint for the latter (one of the ways): use *ex. 2* result and the fact \n",
        "$$\n",
        "tr(ABC) = tr (CAB)\n",
        "$$"
      ]
    },
    {
      "cell_type": "code",
      "execution_count": null,
      "metadata": {
        "collapsed": true,
        "jupyter": {
          "outputs_hidden": true
        },
        "id": "bDHoNwnK27sT"
      },
      "outputs": [],
      "source": []
    },
    {
      "cell_type": "markdown",
      "metadata": {
        "id": "DA4ktVmd27sT"
      },
      "source": [
        "## ex. 4"
      ]
    },
    {
      "cell_type": "markdown",
      "metadata": {
        "id": "VKersykk27sT"
      },
      "source": [
        "Classic matrix factorization example. Given matrix $X$ you need to find $A$, $S$ to approximate $X$. This can be done by simple gradient descent iteratively alternating $A$ and $S$ updates.\n",
        "$$\n",
        "J = || X - AS ||_F^2  , \\quad A\\in \\mathbb{R}^{N \\times R} , \\quad S\\in \\mathbb{R}^{R \\times M}\\\\\n",
        "\\frac{dAB}{dA^T} =\\frac{d(tr([∑_{k=1}^{N}a_{ik}.b_{kj}]))}{d [a_{ji}]} = \n",
        "\\frac{d(∑_{i=1}^{N} ∑_{k=1}^{N}[a_{ik}.b_{ki}])}{d [a_{ji}]}  = [b_{ij}]= B\n",
        "\\\\\n",
        "$$\n",
        "$$\n",
        " \\frac{dJ}{dS} = \\frac{d || X - AS ||_F^2}{dS} = \n",
        " \\\\\\frac {d (tr((X-AS)(X-AS)^T))}{dS} = \n",
        " \\\\\\frac{d(tr(XX^T-ASX^T - XS^TA^T+ ASS^TA^T))}{dS} =\n",
        " \\\\ -(X^TA)^T - A^TX  + \\frac{d(tr(SS^TA^TA))}{dS}) =\n",
        "\\\\ -2A^TX + \\frac{d(tr( \\sum_{r=1}^{R}(\\sum_{m=1}^{M}s_{im}.s_{rm}).(\\sum_{r = 1}^{N}a_{nr}.a_{nj})))}{ds_{ij}}=\n",
        "\\\\-2A^TX + \\frac{d(\\sum_{t=1,{i=j=t}}^{R}( \\sum_{r=1}^{R}(\\sum_{m=1}^{M}s_{tm}.s_{rm}).(\\sum_{n = 1}^{N}a_{nr}.a_{nt})))}{ds_{ij}} =\n",
        "\\\\-2A^TX + [\\sum_{r = 1}^{R}(\\sum_{n}^{N}a_{ni}.a_{nr}).s_{rj}] + [\\sum_{t=1}^{R}(\\sum_{n}^{N}a_{ni}.a_{nt}).s_{tj}] =\n",
        "\\\\ -2A^TX  + 2A^TAS =\n",
        "\\\\ 2A^T(AS - X)\n",
        "$$\n",
        "\n",
        "You may use one of the following approaches:"
      ]
    },
    {
      "cell_type": "markdown",
      "metadata": {
        "id": "z2gSjgbG27sU"
      },
      "source": [
        "#### First approach\n",
        "Using ex.2 and the fact:\n",
        "$$\n",
        "|| X ||_F^2 = tr(XX^T) \n",
        "$$ \n",
        "it is easy to derive gradients (you can find it in one of the refs). "
      ]
    },
    {
      "cell_type": "markdown",
      "metadata": {
        "id": "HYPrugmR27sV"
      },
      "source": [
        "#### Second approach\n",
        "You can use *slightly different techniques* if they suits you. Take a look at this derivation:\n",
        "<img src=\"https://github.com/girafe-ai/ml-course/blob/22f_basic/homeworks/lab01_ml_pipeline/grad.png?raw=1\">\n",
        "(excerpt from [Handbook of blind source separation, Jutten, page 517](https://books.google.ru/books?id=PTbj03bYH6kC&printsec=frontcover&dq=Handbook+of+Blind+Source+Separation&hl=en&sa=X&ved=0ahUKEwi-q_apiJDLAhULvXIKHVXJDWcQ6AEIHDAA#v=onepage&q=Handbook%20of%20Blind%20Source%20Separation&f=false), open for better picture)."
      ]
    },
    {
      "cell_type": "markdown",
      "metadata": {
        "id": "ELlbP06s27sV"
      },
      "source": [
        "#### Third approach\n",
        "And finally we can use chain rule! \n",
        "let $ F = AS $ \n",
        "\n",
        "**Find**\n",
        "$$\n",
        "\\frac{dJ}{dF} = \\frac{d(tr(X-F)(X-F)^T)}{dF} = \\frac{d(tr(XX^T - FX^T -XF^T + FF^T))}{dF} = -X -X -\\frac{d(tr(FF^T))}{dF} = \n",
        "\\\\ -2X + \\frac{d (tr(\\sum_{m}^{M} f_{im}.f_{jm}))}{df_{ij}} =\n",
        "\\\\ -2X + \\frac{d(\\sum_{t}^{N} \\sum_{m}^{M} f_{tm}.f_{tm})}{df_{ij}} = -2X+ [2f_{ij}] = 2(F-X)\n",
        "$$ \n",
        "and \n",
        "$$\n",
        "\\frac{dF}{dS} =\\frac{ASI_{NxN}}{dS} = \\frac{d[\\sum_{n}^{N}\\sum_{r}^{R}a_{nr}.s_{rj}.i_{nn}]}{ds_{ij}} = \\frac{d[\\sum_{n}^{N}a_{ni}.i_{nn}]}{ds_{ij}}= A^TI^T\n",
        "$$ \n",
        "(the shape should be $ NM \\times RM )$.\n",
        "\n",
        "Now it is easy do get desired gradients:\n",
        "$$\n",
        "\\frac{dJ}{dS} =  \\frac{dJ}{dF}.\\frac{dF}{dS} = 2(AS-X).A^T\n",
        "$$ "
      ]
    },
    {
      "cell_type": "markdown",
      "metadata": {
        "collapsed": true,
        "jupyter": {
          "outputs_hidden": true
        },
        "id": "E_FxJL2Q27sW"
      },
      "source": [
        "## 2. kNN questions\n",
        "Here come the questions from the assignment0_01. Please, refer to the assignment0_01 to get the context of the questions."
      ]
    },
    {
      "cell_type": "markdown",
      "metadata": {
        "id": "abOJwiok27sW"
      },
      "source": [
        "### Question 1\n",
        "\n",
        "Notice the structured patterns in the distance matrix, where some rows or columns are visible brighter. (Note that with the default color scheme black indicates low distances while white indicates high distances.)\n",
        "\n",
        "- What in the data is the cause behind the distinctly bright rows?\n",
        "- What causes the columns?\n",
        "\n",
        "*Your Answer:*\n",
        "\n",
        "\n"
      ]
    },
    {
      "cell_type": "markdown",
      "metadata": {
        "id": "vPbnj1jJ27sW"
      },
      "source": [
        "### Question 2\n",
        "\n",
        "We can also use other distance metrics such as L1 distance.\n",
        "For pixel values $p_{ij}^{(k)}$ at location $(i,j)$ of some image $I_k$, \n",
        "\n",
        "the mean $\\mu$ across all pixels over all images is $$\\mu=\\frac{1}{nhw}\\sum_{k=1}^n\\sum_{i=1}^{h}\\sum_{j=1}^{w}p_{ij}^{(k)}$$\n",
        "And the pixel-wise mean $\\mu_{ij}$ across all images is \n",
        "$$\\mu_{ij}=\\frac{1}{n}\\sum_{k=1}^np_{ij}^{(k)}.$$\n",
        "The general standard deviation $\\sigma$ and pixel-wise standard deviation $\\sigma_{ij}$ is defined similarly.\n",
        "\n",
        "Which of the following preprocessing steps will not change the performance of a Nearest Neighbor classifier that uses L1 distance? Select all that apply.\n",
        "1. Subtracting the mean $\\mu$ ($\\tilde{p}_{ij}^{(k)}=p_{ij}^{(k)}-\\mu$.)\n",
        "2. Subtracting the per pixel mean $\\mu_{ij}$  ($\\tilde{p}_{ij}^{(k)}=p_{ij}^{(k)}-\\mu_{ij}$.)\n",
        "3. Subtracting the mean $\\mu$ and dividing by the standard deviation $\\sigma$.\n",
        "4. Subtracting the pixel-wise mean $\\mu_{ij}$ and dividing by the pixel-wise standard deviation $\\sigma_{ij}$.\n",
        "5. Rotating the coordinate axes of the data.\n",
        "\n",
        "*Your Answer:*\n",
        "\n",
        "\n",
        "*Your Explanation:*\n",
        "\n"
      ]
    },
    {
      "cell_type": "markdown",
      "metadata": {
        "id": "d7m2JyeS27sX"
      },
      "source": [
        "## Question 3\n",
        "\n",
        "Which of the following statements about $k$-Nearest Neighbor ($k$-NN) are true in a classification setting, and for all $k$? Select all that apply.\n",
        "1. The decision boundary (hyperplane between classes in feature space) of the k-NN classifier is linear.\n",
        "2. The training error of a 1-NN will always be lower than that of 5-NN.\n",
        "3. The test error of a 1-NN will always be lower than that of a 5-NN.\n",
        "4. The time needed to classify a test example with the k-NN classifier grows with the size of the training set.\n",
        "5. None of the above.\n",
        "\n",
        "*Your Answer:*\n",
        "\n",
        "\n",
        "*Your Explanation:*\n",
        "\n",
        "\n"
      ]
    }
  ],
  "metadata": {
    "kernelspec": {
      "display_name": "mipt",
      "language": "python",
      "name": "mipt"
    },
    "language_info": {
      "codemirror_mode": {
        "name": "ipython",
        "version": 3
      },
      "file_extension": ".py",
      "mimetype": "text/x-python",
      "name": "python",
      "nbconvert_exporter": "python",
      "pygments_lexer": "ipython3",
      "version": "3.9.5"
    },
    "colab": {
      "provenance": []
    }
  },
  "nbformat": 4,
  "nbformat_minor": 0
}