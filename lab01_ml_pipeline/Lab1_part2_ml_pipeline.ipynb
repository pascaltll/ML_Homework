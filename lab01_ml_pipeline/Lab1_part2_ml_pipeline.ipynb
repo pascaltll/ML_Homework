{
  "cells": [
    {
      "cell_type": "markdown",
      "metadata": {
        "nbgrader": {
          "grade": false,
          "grade_id": "cell-86e0de040aac317a",
          "locked": true,
          "schema_version": 2,
          "solution": false
        },
        "id": "HAI5THit-_QP"
      },
      "source": [
        "# Lab assignment №1, part 2\n",
        "\n",
        "This lab assignment consists of several parts. You are supposed to make some transformations, train some models, estimate the quality of the models and explain your results.\n",
        "\n",
        "Several comments:\n",
        "* Don't hesitate to ask questions, it's a good practice.\n",
        "* No private/public sharing, please. The copied assignments will be graded with 0 points.\n",
        "* Blocks of this lab will be graded separately."
      ]
    },
    {
      "cell_type": "markdown",
      "metadata": {
        "id": "q1LpifrP-_QY"
      },
      "source": [
        "__*This is the second part of the assignment. First and third parts are waiting for you in the same directory.*__"
      ]
    },
    {
      "cell_type": "markdown",
      "metadata": {
        "nbgrader": {
          "grade": false,
          "grade_id": "cell-512ba712fc0fc065",
          "locked": true,
          "schema_version": 2,
          "solution": false
        },
        "id": "hqmFJAM8-_Qa"
      },
      "source": [
        "## Part 2. Data preprocessing, model training and evaluation."
      ]
    },
    {
      "cell_type": "markdown",
      "metadata": {
        "nbgrader": {
          "grade": false,
          "grade_id": "cell-b656a4266174b009",
          "locked": true,
          "schema_version": 2,
          "solution": false
        },
        "id": "mo9TAQRt-_Qb"
      },
      "source": [
        "### 1. Reading the data\n",
        "Today we work with the [dataset](https://archive.ics.uci.edu/ml/datasets/Statlog+%28Vehicle+Silhouettes%29), describing different cars for multiclass ($k=4$) classification problem. The data is available below."
      ]
    },
    {
      "cell_type": "code",
      "execution_count": 3184,
      "metadata": {
        "id": "mk4Fcrx6-_Qd"
      },
      "outputs": [],
      "source": [
        "# If on colab, uncomment the following lines\n",
        "\n",
        "#! wget https://raw.githubusercontent.com/girafe-ai/ml-course/22f_made/homeworks/lab01_ml_pipeline/car_data.csv"
      ]
    },
    {
      "cell_type": "code",
      "execution_count": 3185,
      "metadata": {
        "nbgrader": {
          "grade": false,
          "grade_id": "cell-eebac6bfdf73d0bc",
          "locked": true,
          "schema_version": 2,
          "solution": false
        },
        "id": "lrLkOjPD-_Qf",
        "outputId": "221994c7-76f8-4f99-d1a2-e85b3592b690",
        "colab": {
          "base_uri": "https://localhost:8080/"
        }
      },
      "outputs": [
        {
          "output_type": "stream",
          "name": "stdout",
          "text": [
            "(846, 19) (846,)\n",
            "(549, 19) (549,) (297, 19) (297,)\n"
          ]
        }
      ],
      "source": [
        "import pandas as pd\n",
        "import numpy as np\n",
        "from sklearn.model_selection import train_test_split\n",
        "\n",
        "dataset = pd.read_csv('car_data.csv', delimiter=',', header=None).values\n",
        "data = dataset[:, :-1].astype(int)\n",
        "target = dataset[:, -1]\n",
        "\n",
        "print(data.shape, target.shape)\n",
        "\n",
        "X_train, X_test, y_train, y_test = train_test_split(data, target, test_size=0.35)\n",
        "print(X_train.shape, y_train.shape, X_test.shape, y_test.shape)"
      ]
    },
    {
      "cell_type": "markdown",
      "metadata": {
        "nbgrader": {
          "grade": false,
          "grade_id": "cell-88b1a0f688568f2c",
          "locked": true,
          "schema_version": 2,
          "solution": false
        },
        "id": "XkeMjcDK-_Qh"
      },
      "source": [
        "To get some insights about the dataset, `pandas` might be used. The `train` part is transformed to `pd.DataFrame` below."
      ]
    },
    {
      "cell_type": "markdown",
      "metadata": {
        "nbgrader": {
          "grade": false,
          "grade_id": "cell-98e7d91d77d65fcf",
          "locked": true,
          "schema_version": 2,
          "solution": false
        },
        "id": "E2dxAkCJ-_Qj"
      },
      "source": [
        "Methods `describe` and `info` deliver some useful information."
      ]
    },
    {
      "cell_type": "code",
      "execution_count": 3186,
      "metadata": {
        "id": "XI0_P4DT-_Qi",
        "outputId": "06e38165-828a-4f34-d44e-b661dc35f552",
        "colab": {
          "base_uri": "https://localhost:8080/",
          "height": 520
        }
      },
      "outputs": [
        {
          "output_type": "execute_result",
          "data": {
            "text/plain": [
              "     0    1   2    3    4   5   6    7   8   9    10   11   12   13  14  15  \\\n",
              "0   713  107  53  108  211  63  11  219  31  25  168  228  704  198  69  10   \n",
              "1     7   90  43   66  157  65   9  137  48  18  146  162  281  164  67   3   \n",
              "2   547   88  44   70  151  61   8  143  46  18  143  163  311  173  68   7   \n",
              "3   461  106  52  107  211  62   8  200  33  23  161  218  602  200  67   9   \n",
              "4   338   97  45   91  161  63  10  151  45  19  148  166  334  171  65  18   \n",
              "5   206   92  46   79  176  64   8  162  41  20  149  183  396  178  67   2   \n",
              "6   697   92  37   75  184  70   6  154  42  19  131  184  363  127  71   0   \n",
              "7   606   84  37   70  150  61   7  137  49  18  140  156  278  121  64   0   \n",
              "8   255  112  50  110  186  56  11  214  31  24  159  232  676  203  71  18   \n",
              "9   411   78  36   51  116  56   4  120  57  17  124  135  209  135  84   1   \n",
              "10  471  104  55  109  230  67  12  218  30  24  174  230  706  226  67   8   \n",
              "11  787   93  37   70  126  52   9  127  53  18  137  156  238  119  71   2   \n",
              "12  565  101  48   85  191  60  11  175  38  21  153  192  458  187  62   5   \n",
              "13   13   89  42   85  144  58  10  152  44  19  144  173  345  161  72   8   \n",
              "14  702   96  48   83  177  59   8  171  39  21  152  195  438  196  67  15   \n",
              "\n",
              "    16   17   18  \n",
              "0   21  190  203  \n",
              "1    3  193  202  \n",
              "2    8  196  203  \n",
              "3   17  194  201  \n",
              "4   20  197  205  \n",
              "5   10  191  198  \n",
              "6    4  198  202  \n",
              "7   23  196  205  \n",
              "8   27  191  202  \n",
              "9   12  177  184  \n",
              "10  22  191  202  \n",
              "11  13  191  190  \n",
              "12  22  197  210  \n",
              "13  13  187  197  \n",
              "14   0  195  201  "
            ],
            "text/html": [
              "<div>\n",
              "<style scoped>\n",
              "    .dataframe tbody tr th:only-of-type {\n",
              "        vertical-align: middle;\n",
              "    }\n",
              "\n",
              "    .dataframe tbody tr th {\n",
              "        vertical-align: top;\n",
              "    }\n",
              "\n",
              "    .dataframe thead th {\n",
              "        text-align: right;\n",
              "    }\n",
              "</style>\n",
              "<table border=\"1\" class=\"dataframe\">\n",
              "  <thead>\n",
              "    <tr style=\"text-align: right;\">\n",
              "      <th></th>\n",
              "      <th>0</th>\n",
              "      <th>1</th>\n",
              "      <th>2</th>\n",
              "      <th>3</th>\n",
              "      <th>4</th>\n",
              "      <th>5</th>\n",
              "      <th>6</th>\n",
              "      <th>7</th>\n",
              "      <th>8</th>\n",
              "      <th>9</th>\n",
              "      <th>10</th>\n",
              "      <th>11</th>\n",
              "      <th>12</th>\n",
              "      <th>13</th>\n",
              "      <th>14</th>\n",
              "      <th>15</th>\n",
              "      <th>16</th>\n",
              "      <th>17</th>\n",
              "      <th>18</th>\n",
              "    </tr>\n",
              "  </thead>\n",
              "  <tbody>\n",
              "    <tr>\n",
              "      <th>0</th>\n",
              "      <td>713</td>\n",
              "      <td>107</td>\n",
              "      <td>53</td>\n",
              "      <td>108</td>\n",
              "      <td>211</td>\n",
              "      <td>63</td>\n",
              "      <td>11</td>\n",
              "      <td>219</td>\n",
              "      <td>31</td>\n",
              "      <td>25</td>\n",
              "      <td>168</td>\n",
              "      <td>228</td>\n",
              "      <td>704</td>\n",
              "      <td>198</td>\n",
              "      <td>69</td>\n",
              "      <td>10</td>\n",
              "      <td>21</td>\n",
              "      <td>190</td>\n",
              "      <td>203</td>\n",
              "    </tr>\n",
              "    <tr>\n",
              "      <th>1</th>\n",
              "      <td>7</td>\n",
              "      <td>90</td>\n",
              "      <td>43</td>\n",
              "      <td>66</td>\n",
              "      <td>157</td>\n",
              "      <td>65</td>\n",
              "      <td>9</td>\n",
              "      <td>137</td>\n",
              "      <td>48</td>\n",
              "      <td>18</td>\n",
              "      <td>146</td>\n",
              "      <td>162</td>\n",
              "      <td>281</td>\n",
              "      <td>164</td>\n",
              "      <td>67</td>\n",
              "      <td>3</td>\n",
              "      <td>3</td>\n",
              "      <td>193</td>\n",
              "      <td>202</td>\n",
              "    </tr>\n",
              "    <tr>\n",
              "      <th>2</th>\n",
              "      <td>547</td>\n",
              "      <td>88</td>\n",
              "      <td>44</td>\n",
              "      <td>70</td>\n",
              "      <td>151</td>\n",
              "      <td>61</td>\n",
              "      <td>8</td>\n",
              "      <td>143</td>\n",
              "      <td>46</td>\n",
              "      <td>18</td>\n",
              "      <td>143</td>\n",
              "      <td>163</td>\n",
              "      <td>311</td>\n",
              "      <td>173</td>\n",
              "      <td>68</td>\n",
              "      <td>7</td>\n",
              "      <td>8</td>\n",
              "      <td>196</td>\n",
              "      <td>203</td>\n",
              "    </tr>\n",
              "    <tr>\n",
              "      <th>3</th>\n",
              "      <td>461</td>\n",
              "      <td>106</td>\n",
              "      <td>52</td>\n",
              "      <td>107</td>\n",
              "      <td>211</td>\n",
              "      <td>62</td>\n",
              "      <td>8</td>\n",
              "      <td>200</td>\n",
              "      <td>33</td>\n",
              "      <td>23</td>\n",
              "      <td>161</td>\n",
              "      <td>218</td>\n",
              "      <td>602</td>\n",
              "      <td>200</td>\n",
              "      <td>67</td>\n",
              "      <td>9</td>\n",
              "      <td>17</td>\n",
              "      <td>194</td>\n",
              "      <td>201</td>\n",
              "    </tr>\n",
              "    <tr>\n",
              "      <th>4</th>\n",
              "      <td>338</td>\n",
              "      <td>97</td>\n",
              "      <td>45</td>\n",
              "      <td>91</td>\n",
              "      <td>161</td>\n",
              "      <td>63</td>\n",
              "      <td>10</td>\n",
              "      <td>151</td>\n",
              "      <td>45</td>\n",
              "      <td>19</td>\n",
              "      <td>148</td>\n",
              "      <td>166</td>\n",
              "      <td>334</td>\n",
              "      <td>171</td>\n",
              "      <td>65</td>\n",
              "      <td>18</td>\n",
              "      <td>20</td>\n",
              "      <td>197</td>\n",
              "      <td>205</td>\n",
              "    </tr>\n",
              "    <tr>\n",
              "      <th>5</th>\n",
              "      <td>206</td>\n",
              "      <td>92</td>\n",
              "      <td>46</td>\n",
              "      <td>79</td>\n",
              "      <td>176</td>\n",
              "      <td>64</td>\n",
              "      <td>8</td>\n",
              "      <td>162</td>\n",
              "      <td>41</td>\n",
              "      <td>20</td>\n",
              "      <td>149</td>\n",
              "      <td>183</td>\n",
              "      <td>396</td>\n",
              "      <td>178</td>\n",
              "      <td>67</td>\n",
              "      <td>2</td>\n",
              "      <td>10</td>\n",
              "      <td>191</td>\n",
              "      <td>198</td>\n",
              "    </tr>\n",
              "    <tr>\n",
              "      <th>6</th>\n",
              "      <td>697</td>\n",
              "      <td>92</td>\n",
              "      <td>37</td>\n",
              "      <td>75</td>\n",
              "      <td>184</td>\n",
              "      <td>70</td>\n",
              "      <td>6</td>\n",
              "      <td>154</td>\n",
              "      <td>42</td>\n",
              "      <td>19</td>\n",
              "      <td>131</td>\n",
              "      <td>184</td>\n",
              "      <td>363</td>\n",
              "      <td>127</td>\n",
              "      <td>71</td>\n",
              "      <td>0</td>\n",
              "      <td>4</td>\n",
              "      <td>198</td>\n",
              "      <td>202</td>\n",
              "    </tr>\n",
              "    <tr>\n",
              "      <th>7</th>\n",
              "      <td>606</td>\n",
              "      <td>84</td>\n",
              "      <td>37</td>\n",
              "      <td>70</td>\n",
              "      <td>150</td>\n",
              "      <td>61</td>\n",
              "      <td>7</td>\n",
              "      <td>137</td>\n",
              "      <td>49</td>\n",
              "      <td>18</td>\n",
              "      <td>140</td>\n",
              "      <td>156</td>\n",
              "      <td>278</td>\n",
              "      <td>121</td>\n",
              "      <td>64</td>\n",
              "      <td>0</td>\n",
              "      <td>23</td>\n",
              "      <td>196</td>\n",
              "      <td>205</td>\n",
              "    </tr>\n",
              "    <tr>\n",
              "      <th>8</th>\n",
              "      <td>255</td>\n",
              "      <td>112</td>\n",
              "      <td>50</td>\n",
              "      <td>110</td>\n",
              "      <td>186</td>\n",
              "      <td>56</td>\n",
              "      <td>11</td>\n",
              "      <td>214</td>\n",
              "      <td>31</td>\n",
              "      <td>24</td>\n",
              "      <td>159</td>\n",
              "      <td>232</td>\n",
              "      <td>676</td>\n",
              "      <td>203</td>\n",
              "      <td>71</td>\n",
              "      <td>18</td>\n",
              "      <td>27</td>\n",
              "      <td>191</td>\n",
              "      <td>202</td>\n",
              "    </tr>\n",
              "    <tr>\n",
              "      <th>9</th>\n",
              "      <td>411</td>\n",
              "      <td>78</td>\n",
              "      <td>36</td>\n",
              "      <td>51</td>\n",
              "      <td>116</td>\n",
              "      <td>56</td>\n",
              "      <td>4</td>\n",
              "      <td>120</td>\n",
              "      <td>57</td>\n",
              "      <td>17</td>\n",
              "      <td>124</td>\n",
              "      <td>135</td>\n",
              "      <td>209</td>\n",
              "      <td>135</td>\n",
              "      <td>84</td>\n",
              "      <td>1</td>\n",
              "      <td>12</td>\n",
              "      <td>177</td>\n",
              "      <td>184</td>\n",
              "    </tr>\n",
              "    <tr>\n",
              "      <th>10</th>\n",
              "      <td>471</td>\n",
              "      <td>104</td>\n",
              "      <td>55</td>\n",
              "      <td>109</td>\n",
              "      <td>230</td>\n",
              "      <td>67</td>\n",
              "      <td>12</td>\n",
              "      <td>218</td>\n",
              "      <td>30</td>\n",
              "      <td>24</td>\n",
              "      <td>174</td>\n",
              "      <td>230</td>\n",
              "      <td>706</td>\n",
              "      <td>226</td>\n",
              "      <td>67</td>\n",
              "      <td>8</td>\n",
              "      <td>22</td>\n",
              "      <td>191</td>\n",
              "      <td>202</td>\n",
              "    </tr>\n",
              "    <tr>\n",
              "      <th>11</th>\n",
              "      <td>787</td>\n",
              "      <td>93</td>\n",
              "      <td>37</td>\n",
              "      <td>70</td>\n",
              "      <td>126</td>\n",
              "      <td>52</td>\n",
              "      <td>9</td>\n",
              "      <td>127</td>\n",
              "      <td>53</td>\n",
              "      <td>18</td>\n",
              "      <td>137</td>\n",
              "      <td>156</td>\n",
              "      <td>238</td>\n",
              "      <td>119</td>\n",
              "      <td>71</td>\n",
              "      <td>2</td>\n",
              "      <td>13</td>\n",
              "      <td>191</td>\n",
              "      <td>190</td>\n",
              "    </tr>\n",
              "    <tr>\n",
              "      <th>12</th>\n",
              "      <td>565</td>\n",
              "      <td>101</td>\n",
              "      <td>48</td>\n",
              "      <td>85</td>\n",
              "      <td>191</td>\n",
              "      <td>60</td>\n",
              "      <td>11</td>\n",
              "      <td>175</td>\n",
              "      <td>38</td>\n",
              "      <td>21</td>\n",
              "      <td>153</td>\n",
              "      <td>192</td>\n",
              "      <td>458</td>\n",
              "      <td>187</td>\n",
              "      <td>62</td>\n",
              "      <td>5</td>\n",
              "      <td>22</td>\n",
              "      <td>197</td>\n",
              "      <td>210</td>\n",
              "    </tr>\n",
              "    <tr>\n",
              "      <th>13</th>\n",
              "      <td>13</td>\n",
              "      <td>89</td>\n",
              "      <td>42</td>\n",
              "      <td>85</td>\n",
              "      <td>144</td>\n",
              "      <td>58</td>\n",
              "      <td>10</td>\n",
              "      <td>152</td>\n",
              "      <td>44</td>\n",
              "      <td>19</td>\n",
              "      <td>144</td>\n",
              "      <td>173</td>\n",
              "      <td>345</td>\n",
              "      <td>161</td>\n",
              "      <td>72</td>\n",
              "      <td>8</td>\n",
              "      <td>13</td>\n",
              "      <td>187</td>\n",
              "      <td>197</td>\n",
              "    </tr>\n",
              "    <tr>\n",
              "      <th>14</th>\n",
              "      <td>702</td>\n",
              "      <td>96</td>\n",
              "      <td>48</td>\n",
              "      <td>83</td>\n",
              "      <td>177</td>\n",
              "      <td>59</td>\n",
              "      <td>8</td>\n",
              "      <td>171</td>\n",
              "      <td>39</td>\n",
              "      <td>21</td>\n",
              "      <td>152</td>\n",
              "      <td>195</td>\n",
              "      <td>438</td>\n",
              "      <td>196</td>\n",
              "      <td>67</td>\n",
              "      <td>15</td>\n",
              "      <td>0</td>\n",
              "      <td>195</td>\n",
              "      <td>201</td>\n",
              "    </tr>\n",
              "  </tbody>\n",
              "</table>\n",
              "</div>"
            ]
          },
          "metadata": {},
          "execution_count": 3186
        }
      ],
      "source": [
        "X_train_pd = pd.DataFrame(X_train)\n",
        "\n",
        "# First 15 rows of our dataset.\n",
        "X_train_pd.head(15)\n"
      ]
    },
    {
      "cell_type": "code",
      "source": [
        "#y_train.shape\n",
        "X_train_pd[1]"
      ],
      "metadata": {
        "colab": {
          "base_uri": "https://localhost:8080/"
        },
        "id": "mJlbXZatBas1",
        "outputId": "b27ce821-7159-40ae-c047-121306cdc0cf"
      },
      "execution_count": 3187,
      "outputs": [
        {
          "output_type": "execute_result",
          "data": {
            "text/plain": [
              "0      107\n",
              "1       90\n",
              "2       88\n",
              "3      106\n",
              "4       97\n",
              "      ... \n",
              "544     98\n",
              "545     96\n",
              "546     88\n",
              "547    101\n",
              "548    101\n",
              "Name: 1, Length: 549, dtype: int64"
            ]
          },
          "metadata": {},
          "execution_count": 3187
        }
      ]
    },
    {
      "cell_type": "code",
      "execution_count": 3188,
      "metadata": {
        "id": "uCehTlik-_Ql",
        "outputId": "38d5a490-f614-43b7-a1cc-adb0daffe2fa",
        "colab": {
          "base_uri": "https://localhost:8080/",
          "height": 320
        }
      },
      "outputs": [
        {
          "output_type": "execute_result",
          "data": {
            "text/plain": [
              "               0           1           2           3           4           5   \\\n",
              "count  549.000000  549.000000  549.000000  549.000000  549.000000  549.000000   \n",
              "mean   423.504554   93.504554   44.697632   81.938069  167.914390   61.438980   \n",
              "std    239.680251    8.081162    6.166457   15.601790   33.291375    7.413394   \n",
              "min      0.000000   73.000000   33.000000   40.000000  110.000000   47.000000   \n",
              "25%    230.000000   87.000000   40.000000   70.000000  140.000000   57.000000   \n",
              "50%    426.000000   92.000000   44.000000   79.000000  165.000000   61.000000   \n",
              "75%    625.000000   99.000000   49.000000   98.000000  194.000000   65.000000   \n",
              "max    842.000000  119.000000   59.000000  110.000000  333.000000  138.000000   \n",
              "\n",
              "               6           7           8           9          10          11  \\\n",
              "count  549.000000  549.000000  549.000000  549.000000  549.00000  549.000000   \n",
              "mean     8.468124  167.839709   41.092896   20.495446  147.73224  187.624772   \n",
              "std      4.099291   32.094918    7.606454    2.488381   14.46930   30.370423   \n",
              "min      3.000000  112.000000   26.000000   17.000000  118.00000  130.000000   \n",
              "25%      7.000000  147.000000   34.000000   19.000000  137.00000  168.000000   \n",
              "50%      8.000000  156.000000   43.000000   20.000000  146.00000  178.000000   \n",
              "75%     10.000000  195.000000   46.000000   22.000000  159.00000  215.000000   \n",
              "max     52.000000  260.000000   61.000000   28.000000  186.00000  320.000000   \n",
              "\n",
              "               12          13          14          15          16          17  \\\n",
              "count  549.000000  549.000000  549.000000  549.000000  549.000000  549.000000   \n",
              "mean   433.821494  173.921676   72.306011    6.491803   12.746812  189.025501   \n",
              "std    169.903185   32.204174    7.610810    4.845649    8.836079    6.167912   \n",
              "min    184.000000  109.000000   59.000000    0.000000    0.000000  176.000000   \n",
              "25%    320.000000  149.000000   67.000000    3.000000    6.000000  185.000000   \n",
              "50%    362.000000  173.000000   71.000000    6.000000   11.000000  189.000000   \n",
              "75%    573.000000  197.000000   75.000000   10.000000   19.000000  193.000000   \n",
              "max    982.000000  268.000000  135.000000   22.000000   40.000000  204.000000   \n",
              "\n",
              "               18  \n",
              "count  549.000000  \n",
              "mean   195.785064  \n",
              "std      7.409138  \n",
              "min    181.000000  \n",
              "25%    191.000000  \n",
              "50%    197.000000  \n",
              "75%    201.000000  \n",
              "max    211.000000  "
            ],
            "text/html": [
              "<div>\n",
              "<style scoped>\n",
              "    .dataframe tbody tr th:only-of-type {\n",
              "        vertical-align: middle;\n",
              "    }\n",
              "\n",
              "    .dataframe tbody tr th {\n",
              "        vertical-align: top;\n",
              "    }\n",
              "\n",
              "    .dataframe thead th {\n",
              "        text-align: right;\n",
              "    }\n",
              "</style>\n",
              "<table border=\"1\" class=\"dataframe\">\n",
              "  <thead>\n",
              "    <tr style=\"text-align: right;\">\n",
              "      <th></th>\n",
              "      <th>0</th>\n",
              "      <th>1</th>\n",
              "      <th>2</th>\n",
              "      <th>3</th>\n",
              "      <th>4</th>\n",
              "      <th>5</th>\n",
              "      <th>6</th>\n",
              "      <th>7</th>\n",
              "      <th>8</th>\n",
              "      <th>9</th>\n",
              "      <th>10</th>\n",
              "      <th>11</th>\n",
              "      <th>12</th>\n",
              "      <th>13</th>\n",
              "      <th>14</th>\n",
              "      <th>15</th>\n",
              "      <th>16</th>\n",
              "      <th>17</th>\n",
              "      <th>18</th>\n",
              "    </tr>\n",
              "  </thead>\n",
              "  <tbody>\n",
              "    <tr>\n",
              "      <th>count</th>\n",
              "      <td>549.000000</td>\n",
              "      <td>549.000000</td>\n",
              "      <td>549.000000</td>\n",
              "      <td>549.000000</td>\n",
              "      <td>549.000000</td>\n",
              "      <td>549.000000</td>\n",
              "      <td>549.000000</td>\n",
              "      <td>549.000000</td>\n",
              "      <td>549.000000</td>\n",
              "      <td>549.000000</td>\n",
              "      <td>549.00000</td>\n",
              "      <td>549.000000</td>\n",
              "      <td>549.000000</td>\n",
              "      <td>549.000000</td>\n",
              "      <td>549.000000</td>\n",
              "      <td>549.000000</td>\n",
              "      <td>549.000000</td>\n",
              "      <td>549.000000</td>\n",
              "      <td>549.000000</td>\n",
              "    </tr>\n",
              "    <tr>\n",
              "      <th>mean</th>\n",
              "      <td>423.504554</td>\n",
              "      <td>93.504554</td>\n",
              "      <td>44.697632</td>\n",
              "      <td>81.938069</td>\n",
              "      <td>167.914390</td>\n",
              "      <td>61.438980</td>\n",
              "      <td>8.468124</td>\n",
              "      <td>167.839709</td>\n",
              "      <td>41.092896</td>\n",
              "      <td>20.495446</td>\n",
              "      <td>147.73224</td>\n",
              "      <td>187.624772</td>\n",
              "      <td>433.821494</td>\n",
              "      <td>173.921676</td>\n",
              "      <td>72.306011</td>\n",
              "      <td>6.491803</td>\n",
              "      <td>12.746812</td>\n",
              "      <td>189.025501</td>\n",
              "      <td>195.785064</td>\n",
              "    </tr>\n",
              "    <tr>\n",
              "      <th>std</th>\n",
              "      <td>239.680251</td>\n",
              "      <td>8.081162</td>\n",
              "      <td>6.166457</td>\n",
              "      <td>15.601790</td>\n",
              "      <td>33.291375</td>\n",
              "      <td>7.413394</td>\n",
              "      <td>4.099291</td>\n",
              "      <td>32.094918</td>\n",
              "      <td>7.606454</td>\n",
              "      <td>2.488381</td>\n",
              "      <td>14.46930</td>\n",
              "      <td>30.370423</td>\n",
              "      <td>169.903185</td>\n",
              "      <td>32.204174</td>\n",
              "      <td>7.610810</td>\n",
              "      <td>4.845649</td>\n",
              "      <td>8.836079</td>\n",
              "      <td>6.167912</td>\n",
              "      <td>7.409138</td>\n",
              "    </tr>\n",
              "    <tr>\n",
              "      <th>min</th>\n",
              "      <td>0.000000</td>\n",
              "      <td>73.000000</td>\n",
              "      <td>33.000000</td>\n",
              "      <td>40.000000</td>\n",
              "      <td>110.000000</td>\n",
              "      <td>47.000000</td>\n",
              "      <td>3.000000</td>\n",
              "      <td>112.000000</td>\n",
              "      <td>26.000000</td>\n",
              "      <td>17.000000</td>\n",
              "      <td>118.00000</td>\n",
              "      <td>130.000000</td>\n",
              "      <td>184.000000</td>\n",
              "      <td>109.000000</td>\n",
              "      <td>59.000000</td>\n",
              "      <td>0.000000</td>\n",
              "      <td>0.000000</td>\n",
              "      <td>176.000000</td>\n",
              "      <td>181.000000</td>\n",
              "    </tr>\n",
              "    <tr>\n",
              "      <th>25%</th>\n",
              "      <td>230.000000</td>\n",
              "      <td>87.000000</td>\n",
              "      <td>40.000000</td>\n",
              "      <td>70.000000</td>\n",
              "      <td>140.000000</td>\n",
              "      <td>57.000000</td>\n",
              "      <td>7.000000</td>\n",
              "      <td>147.000000</td>\n",
              "      <td>34.000000</td>\n",
              "      <td>19.000000</td>\n",
              "      <td>137.00000</td>\n",
              "      <td>168.000000</td>\n",
              "      <td>320.000000</td>\n",
              "      <td>149.000000</td>\n",
              "      <td>67.000000</td>\n",
              "      <td>3.000000</td>\n",
              "      <td>6.000000</td>\n",
              "      <td>185.000000</td>\n",
              "      <td>191.000000</td>\n",
              "    </tr>\n",
              "    <tr>\n",
              "      <th>50%</th>\n",
              "      <td>426.000000</td>\n",
              "      <td>92.000000</td>\n",
              "      <td>44.000000</td>\n",
              "      <td>79.000000</td>\n",
              "      <td>165.000000</td>\n",
              "      <td>61.000000</td>\n",
              "      <td>8.000000</td>\n",
              "      <td>156.000000</td>\n",
              "      <td>43.000000</td>\n",
              "      <td>20.000000</td>\n",
              "      <td>146.00000</td>\n",
              "      <td>178.000000</td>\n",
              "      <td>362.000000</td>\n",
              "      <td>173.000000</td>\n",
              "      <td>71.000000</td>\n",
              "      <td>6.000000</td>\n",
              "      <td>11.000000</td>\n",
              "      <td>189.000000</td>\n",
              "      <td>197.000000</td>\n",
              "    </tr>\n",
              "    <tr>\n",
              "      <th>75%</th>\n",
              "      <td>625.000000</td>\n",
              "      <td>99.000000</td>\n",
              "      <td>49.000000</td>\n",
              "      <td>98.000000</td>\n",
              "      <td>194.000000</td>\n",
              "      <td>65.000000</td>\n",
              "      <td>10.000000</td>\n",
              "      <td>195.000000</td>\n",
              "      <td>46.000000</td>\n",
              "      <td>22.000000</td>\n",
              "      <td>159.00000</td>\n",
              "      <td>215.000000</td>\n",
              "      <td>573.000000</td>\n",
              "      <td>197.000000</td>\n",
              "      <td>75.000000</td>\n",
              "      <td>10.000000</td>\n",
              "      <td>19.000000</td>\n",
              "      <td>193.000000</td>\n",
              "      <td>201.000000</td>\n",
              "    </tr>\n",
              "    <tr>\n",
              "      <th>max</th>\n",
              "      <td>842.000000</td>\n",
              "      <td>119.000000</td>\n",
              "      <td>59.000000</td>\n",
              "      <td>110.000000</td>\n",
              "      <td>333.000000</td>\n",
              "      <td>138.000000</td>\n",
              "      <td>52.000000</td>\n",
              "      <td>260.000000</td>\n",
              "      <td>61.000000</td>\n",
              "      <td>28.000000</td>\n",
              "      <td>186.00000</td>\n",
              "      <td>320.000000</td>\n",
              "      <td>982.000000</td>\n",
              "      <td>268.000000</td>\n",
              "      <td>135.000000</td>\n",
              "      <td>22.000000</td>\n",
              "      <td>40.000000</td>\n",
              "      <td>204.000000</td>\n",
              "      <td>211.000000</td>\n",
              "    </tr>\n",
              "  </tbody>\n",
              "</table>\n",
              "</div>"
            ]
          },
          "metadata": {},
          "execution_count": 3188
        }
      ],
      "source": [
        "X_train_pd.describe()"
      ]
    },
    {
      "cell_type": "code",
      "execution_count": 3189,
      "metadata": {
        "id": "o_m4Hjzz-_Qm",
        "outputId": "b4897cc5-cced-4738-e6bb-9d3e0adc40b9",
        "colab": {
          "base_uri": "https://localhost:8080/"
        }
      },
      "outputs": [
        {
          "output_type": "stream",
          "name": "stdout",
          "text": [
            "<class 'pandas.core.frame.DataFrame'>\n",
            "RangeIndex: 549 entries, 0 to 548\n",
            "Data columns (total 19 columns):\n",
            " #   Column  Non-Null Count  Dtype\n",
            "---  ------  --------------  -----\n",
            " 0   0       549 non-null    int64\n",
            " 1   1       549 non-null    int64\n",
            " 2   2       549 non-null    int64\n",
            " 3   3       549 non-null    int64\n",
            " 4   4       549 non-null    int64\n",
            " 5   5       549 non-null    int64\n",
            " 6   6       549 non-null    int64\n",
            " 7   7       549 non-null    int64\n",
            " 8   8       549 non-null    int64\n",
            " 9   9       549 non-null    int64\n",
            " 10  10      549 non-null    int64\n",
            " 11  11      549 non-null    int64\n",
            " 12  12      549 non-null    int64\n",
            " 13  13      549 non-null    int64\n",
            " 14  14      549 non-null    int64\n",
            " 15  15      549 non-null    int64\n",
            " 16  16      549 non-null    int64\n",
            " 17  17      549 non-null    int64\n",
            " 18  18      549 non-null    int64\n",
            "dtypes: int64(19)\n",
            "memory usage: 81.6 KB\n"
          ]
        }
      ],
      "source": [
        "X_train_pd.info()"
      ]
    },
    {
      "cell_type": "markdown",
      "metadata": {
        "nbgrader": {
          "grade": false,
          "grade_id": "cell-be844269be69c387",
          "locked": true,
          "schema_version": 2,
          "solution": false
        },
        "id": "CmcnuoqB-_Qn"
      },
      "source": [
        "### 2. Machine Learning pipeline\n",
        "Here you are supposed to perform the desired transformations. Please, explain your results briefly after each task."
      ]
    },
    {
      "cell_type": "markdown",
      "metadata": {
        "id": "p5M4vFWK-_Qo"
      },
      "source": [
        "#### 2.0. Data preprocessing\n",
        "* Make some transformations of the dataset (if necessary). Briefly explain the transformations"
      ]
    },
    {
      "cell_type": "code",
      "source": [
        "### YOUR CODE \n",
        "X_train_2 = X_train\n",
        "X_test_2 = X_test\n",
        "y_train_2 = y_train\n",
        "y_test_2 = y_test"
      ],
      "metadata": {
        "id": "acxb79aIPd9-"
      },
      "execution_count": 3190,
      "outputs": []
    },
    {
      "cell_type": "code",
      "execution_count": 3191,
      "metadata": {
        "nbgrader": {
          "grade": true,
          "grade_id": "cell-a1514aa189a49fca",
          "locked": false,
          "points": 15,
          "schema_version": 2,
          "solution": true
        },
        "id": "8qt542q8-_Qo"
      },
      "outputs": [],
      "source": [
        "\n",
        "### YOUR CODE \n",
        "#normalise z = (x - u) / s\n",
        "from sklearn import preprocessing\n",
        "scaler = StandardScaler()\n",
        "X_train_2 = scaler.fit_transform(X_train_2)\n",
        "# note that the test set using the fitted scaler in train dataset to transform in the test set\n",
        "X_test_2 = scaler.transform(X_test_2)\n",
        "\n"
      ]
    },
    {
      "cell_type": "markdown",
      "metadata": {
        "id": "QB_TrNR8-_Qp"
      },
      "source": [
        "#### 2.1. Basic logistic regression\n",
        "* Find optimal hyperparameters for logistic regression with cross-validation on the `train` data (small grid/random search is enough, no need to find the *best* parameters).\n",
        "\n",
        "* Estimate the model quality with `f1` and `accuracy` scores.\n",
        "* Plot a ROC-curve for the trained model. For the multiclass case you might use `scikitplot` library (e.g. `scikitplot.metrics.plot_roc(test_labels, predicted_proba)`).\n",
        "\n",
        "*Note: please, use the following hyperparameters for logistic regression: `multi_class='multinomial'`, `solver='saga'` `tol=1e-3` and ` max_iter=500`.*"
      ]
    },
    {
      "cell_type": "code",
      "execution_count": 3192,
      "metadata": {
        "nbgrader": {
          "grade": true,
          "grade_id": "cell-1dd5ad5d0845cbbb",
          "locked": false,
          "points": 5,
          "schema_version": 2,
          "solution": true
        },
        "id": "hz6q2cgD-_Qp",
        "colab": {
          "base_uri": "https://localhost:8080/"
        },
        "outputId": "08b61414-a264-43c2-cabe-e769c9056848"
      },
      "outputs": [
        {
          "output_type": "stream",
          "name": "stdout",
          "text": [
            "0.7749735673628211 0.7742452043369475\n"
          ]
        }
      ],
      "source": [
        "### YOUR CODE HERE\n",
        "import scikitplot as skplt\n",
        "import matplotlib.pyplot as plt\n",
        "from sklearn.model_selection import cross_val_score\n",
        "from sklearn.metrics import f1_score\n",
        "from sklearn.linear_model import LogisticRegression\n",
        "\n",
        "model = LogisticRegression(solver='saga',multi_class='multinomial',max_iter=500,tol=1e-3)\n",
        "\n",
        "model.fit(X_train_2, y_train_2)\n",
        "\n",
        "y_proba = model.predict_proba(X_test_2)\n",
        "\n",
        "scores_f1 = cross_val_score(model, X_train_2, y_train_2, cv=5, scoring='f1_macro')\n",
        "scores_accuracy = cross_val_score(model, X_train_2, y_train_2, cv=5, scoring='accuracy')\n",
        "\n",
        "print (scores_f1.mean(),scores_accuracy.mean())\n",
        "\n"
      ]
    },
    {
      "cell_type": "code",
      "source": [
        "# max record 0.8065623780496474 0.8069391159299416\n"
      ],
      "metadata": {
        "id": "cWz-7I9Gv6T8"
      },
      "execution_count": 3193,
      "outputs": []
    },
    {
      "cell_type": "code",
      "source": [
        "skplt.metrics.plot_roc_curve(y_test, y_proba)\n",
        "plt.show()"
      ],
      "metadata": {
        "colab": {
          "base_uri": "https://localhost:8080/",
          "height": 350
        },
        "id": "IHlX5_Jdupim",
        "outputId": "d00b16e2-7596-4ece-8e5f-4bb44d707b64"
      },
      "execution_count": 3194,
      "outputs": [
        {
          "output_type": "stream",
          "name": "stderr",
          "text": [
            "/home/jctuesta/.local/lib/python3.8/site-packages/sklearn/utils/deprecation.py:87: FutureWarning: Function plot_roc_curve is deprecated; This will be removed in v0.5.0. Please use scikitplot.metrics.plot_roc instead.\n",
            "  warnings.warn(msg, category=FutureWarning)\n"
          ]
        },
        {
          "output_type": "display_data",
          "data": {
            "text/plain": [
              "<Figure size 432x288 with 1 Axes>"
            ],
            "image/png": "[encoded data removed]"
          },
          "metadata": {
            "needs_background": "light"
          }
        }
      ]
    },
    {
      "cell_type": "code",
      "source": [
        "from sklearn.metrics import accuracy_score\n",
        "print(\"Accuracy\", accuracy_score(y_test, y_pred))\n",
        "#0.7946127946127947 max score"
      ],
      "metadata": {
        "colab": {
          "base_uri": "https://localhost:8080/"
        },
        "id": "1Qafly96iHed",
        "outputId": "7f331fc7-9d6c-4dfb-f93d-515ea0011735"
      },
      "execution_count": 3195,
      "outputs": [
        {
          "output_type": "stream",
          "name": "stdout",
          "text": [
            "Accuracy 0.31986531986531985\n"
          ]
        }
      ]
    },
    {
      "cell_type": "code",
      "execution_count": 3196,
      "metadata": {
        "id": "Ov6Y4g7t-_Qq"
      },
      "outputs": [],
      "source": [
        "# You might use this command to install scikit-plot. \n",
        "# Warning, if you a running locally, don't call pip from within jupyter, call it from terminal in the corresponding \n",
        "# virtual environment instead\n",
        "\n",
        "# ! pip install scikit-plot"
      ]
    },
    {
      "cell_type": "markdown",
      "metadata": {
        "id": "cCu75gro-_Qq"
      },
      "source": [
        "#### 2.2. PCA: explained variance plot\n",
        "* Apply the PCA(principal component analysis) to the train part of the data. Build the explaided variance plot. "
      ]
    },
    {
      "cell_type": "code",
      "execution_count": 3197,
      "metadata": {
        "nbgrader": {
          "grade": true,
          "grade_id": "cell-c6c614740bce090e",
          "locked": false,
          "points": 10,
          "schema_version": 2,
          "solution": true
        },
        "id": "pe1bQvuP-_Qr"
      },
      "outputs": [],
      "source": [
        "#X_train = X_train_pd\n",
        "X_train_pca =  X_train\n",
        "X_test_pca = X_test"
      ]
    },
    {
      "cell_type": "code",
      "source": [
        "from sklearn.decomposition import PCA\n",
        "pca = PCA()\n",
        "X_train_pca = pca.fit_transform(X_train_pca)\n",
        "X_test_pca = pca.transform(X_test_pca)\n",
        "explained_variance = pca.explained_variance_ratio_\n",
        "\n",
        "cum_sum_eigenvalues = np.cumsum(explained_variance)\n",
        "plt.bar(range(0,len(explained_variance)), explained_variance, alpha=0.5, align='center', label='Individual explained variance')\n",
        "plt.step(range(0,len(cum_sum_eigenvalues)), cum_sum_eigenvalues, where='mid',label='Cumulative explained variance')\n",
        "plt.ylabel('Explained variance ratio')\n",
        "plt.xlabel('Principal component index')\n",
        "plt.show()"
      ],
      "metadata": {
        "colab": {
          "base_uri": "https://localhost:8080/",
          "height": 279
        },
        "id": "1_9UCfiW6dh4",
        "outputId": "678647ef-4dea-469b-cb28-471c6dab33b3"
      },
      "execution_count": 3198,
      "outputs": [
        {
          "output_type": "display_data",
          "data": {
            "text/plain": [
              "<Figure size 432x288 with 1 Axes>"
            ],
            "image/png": "[encoded data removed]"
          },
          "metadata": {
            "needs_background": "light"
          }
        }
      ]
    },
    {
      "cell_type": "markdown",
      "metadata": {
        "nbgrader": {
          "grade": false,
          "grade_id": "cell-0c1fe666f52fe53c",
          "locked": true,
          "schema_version": 2,
          "solution": false
        },
        "id": "pMM4_0nM-_Qr"
      },
      "source": [
        "#### 2.3. PCA trasformation\n",
        "* Select the appropriate number of components. Briefly explain your choice. Should you normalize the data?\n",
        "\n",
        "*Use `fit` and `transform` methods to transform the `train` and `test` parts.*"
      ]
    },
    {
      "cell_type": "code",
      "execution_count": 3199,
      "metadata": {
        "nbgrader": {
          "grade": true,
          "grade_id": "cell-96ab18d96473ef71",
          "locked": false,
          "points": 5,
          "schema_version": 2,
          "solution": true
        },
        "id": "GZsnegGa-_Qr"
      },
      "outputs": [],
      "source": [
        "### YOUR CODE HERE\n",
        "from sklearn.pipeline import Pipeline\n",
        "from sklearn.preprocessing import MinMaxScaler\n",
        "from sklearn.preprocessing import StandardScaler\n",
        "from sklearn.preprocessing import RobustScaler\n",
        "from sklearn.decomposition import PCA\n",
        "from sklearn.svm import SVC"
      ]
    },
    {
      "cell_type": "code",
      "source": [
        "\n",
        "X_train_3 = X_train\n",
        "y_train_3 = y_train\n",
        "X_test_3 =  X_test\n",
        "y_test_3 = y_test"
      ],
      "metadata": {
        "id": "ImAO5AaWD1rw"
      },
      "execution_count": 3200,
      "outputs": []
    },
    {
      "cell_type": "code",
      "source": [
        "pipe = Pipeline([('scaler', MinMaxScaler()), ('svc', PCA(n_components = 2))])\n",
        "pipe.fit(X_train_3, y_train_3)\n",
        "pipe.fit(X_test_3, y_test_3)"
      ],
      "metadata": {
        "colab": {
          "base_uri": "https://localhost:8080/",
          "height": 126
        },
        "id": "DJg4pclx_8iH",
        "outputId": "bcdf45d0-8661-4a21-f675-b3883cb33d9d"
      },
      "execution_count": 3201,
      "outputs": [
        {
          "output_type": "execute_result",
          "data": {
            "text/plain": [
              "Pipeline(steps=[('scaler', MinMaxScaler()), ('svc', PCA(n_components=2))])"
            ],
            "text/html": [
              "<style>#sk-container-id-108 {color: black;background-color: white;}#sk-container-id-108 pre{padding: 0;}#sk-container-id-108 div.sk-toggleable {background-color: white;}#sk-container-id-108 label.sk-toggleable__label {cursor: pointer;display: block;width: 100%;margin-bottom: 0;padding: 0.3em;box-sizing: border-box;text-align: center;}#sk-container-id-108 label.sk-toggleable__label-arrow:before {content: \"▸\";float: left;margin-right: 0.25em;color: #696969;}#sk-container-id-108 label.sk-toggleable__label-arrow:hover:before {color: black;}#sk-container-id-108 div.sk-estimator:hover label.sk-toggleable__label-arrow:before {color: black;}#sk-container-id-108 div.sk-toggleable__content {max-height: 0;max-width: 0;overflow: hidden;text-align: left;background-color: #f0f8ff;}#sk-container-id-108 div.sk-toggleable__content pre {margin: 0.2em;color: black;border-radius: 0.25em;background-color: #f0f8ff;}#sk-container-id-108 input.sk-toggleable__control:checked~div.sk-toggleable__content {max-height: 200px;max-width: 100%;overflow: auto;}#sk-container-id-108 input.sk-toggleable__control:checked~label.sk-toggleable__label-arrow:before {content: \"▾\";}#sk-container-id-108 div.sk-estimator input.sk-toggleable__control:checked~label.sk-toggleable__label {background-color: #d4ebff;}#sk-container-id-108 div.sk-label input.sk-toggleable__control:checked~label.sk-toggleable__label {background-color: #d4ebff;}#sk-container-id-108 input.sk-hidden--visually {border: 0;clip: rect(1px 1px 1px 1px);clip: rect(1px, 1px, 1px, 1px);height: 1px;margin: -1px;overflow: hidden;padding: 0;position: absolute;width: 1px;}#sk-container-id-108 div.sk-estimator {font-family: monospace;background-color: #f0f8ff;border: 1px dotted black;border-radius: 0.25em;box-sizing: border-box;margin-bottom: 0.5em;}#sk-container-id-108 div.sk-estimator:hover {background-color: #d4ebff;}#sk-container-id-108 div.sk-parallel-item::after {content: \"\";width: 100%;border-bottom: 1px solid gray;flex-grow: 1;}#sk-container-id-108 div.sk-label:hover label.sk-toggleable__label {background-color: #d4ebff;}#sk-container-id-108 div.sk-serial::before {content: \"\";position: absolute;border-left: 1px solid gray;box-sizing: border-box;top: 0;bottom: 0;left: 50%;z-index: 0;}#sk-container-id-108 div.sk-serial {display: flex;flex-direction: column;align-items: center;background-color: white;padding-right: 0.2em;padding-left: 0.2em;position: relative;}#sk-container-id-108 div.sk-item {position: relative;z-index: 1;}#sk-container-id-108 div.sk-parallel {display: flex;align-items: stretch;justify-content: center;background-color: white;position: relative;}#sk-container-id-108 div.sk-item::before, #sk-container-id-108 div.sk-parallel-item::before {content: \"\";position: absolute;border-left: 1px solid gray;box-sizing: border-box;top: 0;bottom: 0;left: 50%;z-index: -1;}#sk-container-id-108 div.sk-parallel-item {display: flex;flex-direction: column;z-index: 1;position: relative;background-color: white;}#sk-container-id-108 div.sk-parallel-item:first-child::after {align-self: flex-end;width: 50%;}#sk-container-id-108 div.sk-parallel-item:last-child::after {align-self: flex-start;width: 50%;}#sk-container-id-108 div.sk-parallel-item:only-child::after {width: 0;}#sk-container-id-108 div.sk-dashed-wrapped {border: 1px dashed gray;margin: 0 0.4em 0.5em 0.4em;box-sizing: border-box;padding-bottom: 0.4em;background-color: white;}#sk-container-id-108 div.sk-label label {font-family: monospace;font-weight: bold;display: inline-block;line-height: 1.2em;}#sk-container-id-108 div.sk-label-container {text-align: center;}#sk-container-id-108 div.sk-container {/* jupyter's `normalize.less` sets `[hidden] { display: none; }` but bootstrap.min.css set `[hidden] { display: none !important; }` so we also need the `!important` here to be able to override the default hidden behavior on the sphinx rendered scikit-learn.org. See: https://github.com/scikit-learn/scikit-learn/issues/21755 */display: inline-block !important;position: relative;}#sk-container-id-108 div.sk-text-repr-fallback {display: none;}</style><div id=\"sk-container-id-108\" class=\"sk-top-container\"><div class=\"sk-text-repr-fallback\"><pre>Pipeline(steps=[(&#x27;scaler&#x27;, MinMaxScaler()), (&#x27;svc&#x27;, PCA(n_components=2))])</pre><b>In a Jupyter environment, please rerun this cell to show the HTML representation or trust the notebook. <br />On GitHub, the HTML representation is unable to render, please try loading this page with nbviewer.org.</b></div><div class=\"sk-container\" hidden><div class=\"sk-item sk-dashed-wrapped\"><div class=\"sk-label-container\"><div class=\"sk-label sk-toggleable\"><input class=\"sk-toggleable__control sk-hidden--visually\" id=\"sk-estimator-id-297\" type=\"checkbox\" ><label for=\"sk-estimator-id-297\" class=\"sk-toggleable__label sk-toggleable__label-arrow\">Pipeline</label><div class=\"sk-toggleable__content\"><pre>Pipeline(steps=[(&#x27;scaler&#x27;, MinMaxScaler()), (&#x27;svc&#x27;, PCA(n_components=2))])</pre></div></div></div><div class=\"sk-serial\"><div class=\"sk-item\"><div class=\"sk-estimator sk-toggleable\"><input class=\"sk-toggleable__control sk-hidden--visually\" id=\"sk-estimator-id-298\" type=\"checkbox\" ><label for=\"sk-estimator-id-298\" class=\"sk-toggleable__label sk-toggleable__label-arrow\">MinMaxScaler</label><div class=\"sk-toggleable__content\"><pre>MinMaxScaler()</pre></div></div></div><div class=\"sk-item\"><div class=\"sk-estimator sk-toggleable\"><input class=\"sk-toggleable__control sk-hidden--visually\" id=\"sk-estimator-id-299\" type=\"checkbox\" ><label for=\"sk-estimator-id-299\" class=\"sk-toggleable__label sk-toggleable__label-arrow\">PCA</label><div class=\"sk-toggleable__content\"><pre>PCA(n_components=2)</pre></div></div></div></div></div></div></div>"
            ]
          },
          "metadata": {},
          "execution_count": 3201
        }
      ]
    },
    {
      "cell_type": "code",
      "source": [
        "pipe.score(X_test_3, y_test_3)"
      ],
      "metadata": {
        "colab": {
          "base_uri": "https://localhost:8080/"
        },
        "id": "41Xj4PslBvdi",
        "outputId": "f6f39997-5916-4896-d299-10635f6958bb"
      },
      "execution_count": 3202,
      "outputs": [
        {
          "output_type": "execute_result",
          "data": {
            "text/plain": [
              "9.35723089463727"
            ]
          },
          "metadata": {},
          "execution_count": 3202
        }
      ]
    },
    {
      "cell_type": "code",
      "source": [
        "pca.n_components_"
      ],
      "metadata": {
        "colab": {
          "base_uri": "https://localhost:8080/"
        },
        "id": "JnJBdBpIBWiM",
        "outputId": "f06bc637-9937-45f4-ab3e-c6c526b1b25e"
      },
      "execution_count": 3203,
      "outputs": [
        {
          "output_type": "execute_result",
          "data": {
            "text/plain": [
              "19"
            ]
          },
          "metadata": {},
          "execution_count": 3203
        }
      ]
    },
    {
      "cell_type": "code",
      "source": [],
      "metadata": {
        "id": "SzEHJ6xvAs9d"
      },
      "execution_count": 3203,
      "outputs": []
    },
    {
      "cell_type": "markdown",
      "metadata": {
        "id": "YhsJF-yN-_Qs"
      },
      "source": [
        "**Note: From this point `sklearn` [Pipeline](https://scikit-learn.org/stable/modules/compose.html) might be useful to perform transformations on the data. Refer to the [docs](https://scikit-learn.org/stable/modules/generated/sklearn.pipeline.Pipeline.html) for more information.**"
      ]
    },
    {
      "cell_type": "markdown",
      "metadata": {
        "nbgrader": {
          "grade": false,
          "grade_id": "cell-d28b58a35c94e988",
          "locked": true,
          "schema_version": 2,
          "solution": false
        },
        "id": "jK-guN8W-_Qs"
      },
      "source": [
        "#### 2.4. Logistic regression on PCA-preprocessed data.\n",
        "* Find optimal hyperparameters for logistic regression with cross-validation on the transformed by PCA `train` data.\n",
        "\n",
        "* Estimate the model quality with `f1` and `accuracy` scores.\n",
        "* Plot a ROC-curve for the trained model. For the multiclass case you might use `scikitplot` library (e.g. `scikitplot.metrics.plot_roc(test_labels, predicted_proba)`).\n",
        "\n",
        "*Note: please, use the following hyperparameters for logistic regression: `multi_class='multinomial'`, `solver='saga'` and `tol=1e-3`*"
      ]
    },
    {
      "cell_type": "code",
      "execution_count": 3204,
      "metadata": {
        "nbgrader": {
          "grade": true,
          "grade_id": "cell-12d53ea45258fa82",
          "locked": false,
          "points": 5,
          "schema_version": 2,
          "solution": true
        },
        "id": "KvrtzDjS-_Qt"
      },
      "outputs": [],
      "source": [
        "### YOUR CODE HERE\n"
      ]
    },
    {
      "cell_type": "code",
      "source": [
        "\n",
        "X_train_4 = X_train\n",
        "y_train_4 = y_train\n",
        "X_test_4 =  X_test\n",
        "y_test_4 = y_test"
      ],
      "metadata": {
        "id": "qFY7UErqHp1H"
      },
      "execution_count": 3205,
      "outputs": []
    },
    {
      "cell_type": "code",
      "source": [
        "#pipe = Pipeline([('scaler', MinMaxScaler()), ('svc', PCA(n_components = 2))])\n",
        "#pipe.fit(X_train_4, y_train_4)\n",
        "#pipe.fit(X_test_4, y_test_4)\n",
        "from sklearn import preprocessing\n",
        "from sklearn.decomposition import PCA\n",
        "from sklearn.preprocessing import MinMaxScaler\n",
        "from sklearn.preprocessing import StandardScaler\n",
        "from sklearn.preprocessing import RobustScaler\n",
        "pipe = Pipeline([('scaler', StandardScaler()), ('svc', PCA(n_components = 2))])\n",
        "pipe.fit(X_train_4, y_train_4)\n",
        "pipe.fit(X_test_4, y_test_4)\n",
        "\n",
        "logistic = linear_model.LogisticRegression(solver='saga',multi_class='multinomial',max_iter=500,tol=1e-4)\n",
        "\n",
        "logistic.fit(X_train_4, y_train_4)\n",
        "\n",
        "\n",
        "\n",
        "scores_f1_2 = cross_val_score(logistic, X_train_4, y_train_4, cv=5, scoring='f1_macro')\n",
        "scores_accuracy_2 = cross_val_score(logistic, X_train_4, y_train_4, cv=5, scoring='accuracy')\n",
        "y_proba_2 = model.predict_proba(X_test_4)\n",
        "\n"
      ],
      "metadata": {
        "colab": {
          "base_uri": "https://localhost:8080/"
        },
        "id": "hcF-jtrsFcY9",
        "outputId": "e36a6227-adce-4378-8f62-545d54ffbcd3"
      },
      "execution_count": 3206,
      "outputs": [
        {
          "output_type": "stream",
          "name": "stderr",
          "text": [
            "/home/jctuesta/.local/lib/python3.8/site-packages/sklearn/linear_model/_sag.py:350: ConvergenceWarning: The max_iter was reached which means the coef_ did not converge\n",
            "  warnings.warn(\n",
            "/home/jctuesta/.local/lib/python3.8/site-packages/sklearn/linear_model/_sag.py:350: ConvergenceWarning: The max_iter was reached which means the coef_ did not converge\n",
            "  warnings.warn(\n",
            "/home/jctuesta/.local/lib/python3.8/site-packages/sklearn/linear_model/_sag.py:350: ConvergenceWarning: The max_iter was reached which means the coef_ did not converge\n",
            "  warnings.warn(\n",
            "/home/jctuesta/.local/lib/python3.8/site-packages/sklearn/linear_model/_sag.py:350: ConvergenceWarning: The max_iter was reached which means the coef_ did not converge\n",
            "  warnings.warn(\n",
            "/home/jctuesta/.local/lib/python3.8/site-packages/sklearn/linear_model/_sag.py:350: ConvergenceWarning: The max_iter was reached which means the coef_ did not converge\n",
            "  warnings.warn(\n",
            "/home/jctuesta/.local/lib/python3.8/site-packages/sklearn/linear_model/_sag.py:350: ConvergenceWarning: The max_iter was reached which means the coef_ did not converge\n",
            "  warnings.warn(\n",
            "/home/jctuesta/.local/lib/python3.8/site-packages/sklearn/linear_model/_sag.py:350: ConvergenceWarning: The max_iter was reached which means the coef_ did not converge\n",
            "  warnings.warn(\n",
            "/home/jctuesta/.local/lib/python3.8/site-packages/sklearn/linear_model/_sag.py:350: ConvergenceWarning: The max_iter was reached which means the coef_ did not converge\n",
            "  warnings.warn(\n",
            "/home/jctuesta/.local/lib/python3.8/site-packages/sklearn/linear_model/_sag.py:350: ConvergenceWarning: The max_iter was reached which means the coef_ did not converge\n",
            "  warnings.warn(\n",
            "/home/jctuesta/.local/lib/python3.8/site-packages/sklearn/linear_model/_sag.py:350: ConvergenceWarning: The max_iter was reached which means the coef_ did not converge\n",
            "  warnings.warn(\n",
            "/home/jctuesta/.local/lib/python3.8/site-packages/sklearn/linear_model/_sag.py:350: ConvergenceWarning: The max_iter was reached which means the coef_ did not converge\n",
            "  warnings.warn(\n"
          ]
        }
      ]
    },
    {
      "cell_type": "code",
      "source": [
        "from sklearn.metrics import accuracy_score\n",
        "print (scores_f1.mean(),scores_accuracy_2.mean())\n"
      ],
      "metadata": {
        "colab": {
          "base_uri": "https://localhost:8080/"
        },
        "id": "aE_b68tdSDhn",
        "outputId": "ab32ce3c-36e5-4fdc-f094-594e50cc9dea"
      },
      "execution_count": 3207,
      "outputs": [
        {
          "output_type": "stream",
          "name": "stdout",
          "text": [
            "0.7749735673628211 0.6830859049207673\n"
          ]
        }
      ]
    },
    {
      "cell_type": "code",
      "source": [
        "skplt.metrics.plot_roc_curve(y_test_4, y_proba_2)\n",
        "plt.show()"
      ],
      "metadata": {
        "colab": {
          "base_uri": "https://localhost:8080/",
          "height": 350
        },
        "id": "BAg1I1gCIRu3",
        "outputId": "40856b22-e8cf-4ed5-d59d-556f7fc8f68c"
      },
      "execution_count": 3208,
      "outputs": [
        {
          "output_type": "stream",
          "name": "stderr",
          "text": [
            "/home/jctuesta/.local/lib/python3.8/site-packages/sklearn/utils/deprecation.py:87: FutureWarning: Function plot_roc_curve is deprecated; This will be removed in v0.5.0. Please use scikitplot.metrics.plot_roc instead.\n",
            "  warnings.warn(msg, category=FutureWarning)\n"
          ]
        },
        {
          "output_type": "display_data",
          "data": {
            "text/plain": [
              "<Figure size 432x288 with 1 Axes>"
            ],
            "image/png": "[encoded data removed]"
          },
          "metadata": {
            "needs_background": "light"
          }
        }
      ]
    },
    {
      "cell_type": "markdown",
      "metadata": {
        "nbgrader": {
          "grade": false,
          "grade_id": "cell-4fbf16c64076e139",
          "locked": true,
          "schema_version": 2,
          "solution": false
        },
        "id": "4NhjfyLJ-_Qt"
      },
      "source": [
        "#### 2.5. Decision tree\n",
        "* Now train a desicion tree on the same data. Find optimal tree depth (`max_depth`) using cross-validation.\n",
        "\n",
        "* Measure the model quality using the same metrics you used above."
      ]
    },
    {
      "cell_type": "code",
      "source": [
        "X_train_5 = X_train\n",
        "y_train_5 = y_train\n",
        "X_test_5 =  X_test\n",
        "y_test_5 = y_test\n"
      ],
      "metadata": {
        "id": "ebjtgKSxSTx3"
      },
      "execution_count": 3209,
      "outputs": []
    },
    {
      "cell_type": "code",
      "source": [
        "from sklearn import preprocessing\n",
        "pipe = Pipeline([('scaler', MinMaxScaler()), ('svc', PCA(n_components = 2))])\n",
        "pipe.fit(X_train_5, y_train_5)\n",
        "pipe.fit(X_test_5, y_test_5)"
      ],
      "metadata": {
        "colab": {
          "base_uri": "https://localhost:8080/",
          "height": 126
        },
        "id": "pC_FjJYLWeMT",
        "outputId": "8f6a8bf2-19bd-47be-8c77-3c57d75e71b5"
      },
      "execution_count": 3210,
      "outputs": [
        {
          "output_type": "execute_result",
          "data": {
            "text/plain": [
              "Pipeline(steps=[('scaler', MinMaxScaler()), ('svc', PCA(n_components=2))])"
            ],
            "text/html": [
              "<style>#sk-container-id-109 {color: black;background-color: white;}#sk-container-id-109 pre{padding: 0;}#sk-container-id-109 div.sk-toggleable {background-color: white;}#sk-container-id-109 label.sk-toggleable__label {cursor: pointer;display: block;width: 100%;margin-bottom: 0;padding: 0.3em;box-sizing: border-box;text-align: center;}#sk-container-id-109 label.sk-toggleable__label-arrow:before {content: \"▸\";float: left;margin-right: 0.25em;color: #696969;}#sk-container-id-109 label.sk-toggleable__label-arrow:hover:before {color: black;}#sk-container-id-109 div.sk-estimator:hover label.sk-toggleable__label-arrow:before {color: black;}#sk-container-id-109 div.sk-toggleable__content {max-height: 0;max-width: 0;overflow: hidden;text-align: left;background-color: #f0f8ff;}#sk-container-id-109 div.sk-toggleable__content pre {margin: 0.2em;color: black;border-radius: 0.25em;background-color: #f0f8ff;}#sk-container-id-109 input.sk-toggleable__control:checked~div.sk-toggleable__content {max-height: 200px;max-width: 100%;overflow: auto;}#sk-container-id-109 input.sk-toggleable__control:checked~label.sk-toggleable__label-arrow:before {content: \"▾\";}#sk-container-id-109 div.sk-estimator input.sk-toggleable__control:checked~label.sk-toggleable__label {background-color: #d4ebff;}#sk-container-id-109 div.sk-label input.sk-toggleable__control:checked~label.sk-toggleable__label {background-color: #d4ebff;}#sk-container-id-109 input.sk-hidden--visually {border: 0;clip: rect(1px 1px 1px 1px);clip: rect(1px, 1px, 1px, 1px);height: 1px;margin: -1px;overflow: hidden;padding: 0;position: absolute;width: 1px;}#sk-container-id-109 div.sk-estimator {font-family: monospace;background-color: #f0f8ff;border: 1px dotted black;border-radius: 0.25em;box-sizing: border-box;margin-bottom: 0.5em;}#sk-container-id-109 div.sk-estimator:hover {background-color: #d4ebff;}#sk-container-id-109 div.sk-parallel-item::after {content: \"\";width: 100%;border-bottom: 1px solid gray;flex-grow: 1;}#sk-container-id-109 div.sk-label:hover label.sk-toggleable__label {background-color: #d4ebff;}#sk-container-id-109 div.sk-serial::before {content: \"\";position: absolute;border-left: 1px solid gray;box-sizing: border-box;top: 0;bottom: 0;left: 50%;z-index: 0;}#sk-container-id-109 div.sk-serial {display: flex;flex-direction: column;align-items: center;background-color: white;padding-right: 0.2em;padding-left: 0.2em;position: relative;}#sk-container-id-109 div.sk-item {position: relative;z-index: 1;}#sk-container-id-109 div.sk-parallel {display: flex;align-items: stretch;justify-content: center;background-color: white;position: relative;}#sk-container-id-109 div.sk-item::before, #sk-container-id-109 div.sk-parallel-item::before {content: \"\";position: absolute;border-left: 1px solid gray;box-sizing: border-box;top: 0;bottom: 0;left: 50%;z-index: -1;}#sk-container-id-109 div.sk-parallel-item {display: flex;flex-direction: column;z-index: 1;position: relative;background-color: white;}#sk-container-id-109 div.sk-parallel-item:first-child::after {align-self: flex-end;width: 50%;}#sk-container-id-109 div.sk-parallel-item:last-child::after {align-self: flex-start;width: 50%;}#sk-container-id-109 div.sk-parallel-item:only-child::after {width: 0;}#sk-container-id-109 div.sk-dashed-wrapped {border: 1px dashed gray;margin: 0 0.4em 0.5em 0.4em;box-sizing: border-box;padding-bottom: 0.4em;background-color: white;}#sk-container-id-109 div.sk-label label {font-family: monospace;font-weight: bold;display: inline-block;line-height: 1.2em;}#sk-container-id-109 div.sk-label-container {text-align: center;}#sk-container-id-109 div.sk-container {/* jupyter's `normalize.less` sets `[hidden] { display: none; }` but bootstrap.min.css set `[hidden] { display: none !important; }` so we also need the `!important` here to be able to override the default hidden behavior on the sphinx rendered scikit-learn.org. See: https://github.com/scikit-learn/scikit-learn/issues/21755 */display: inline-block !important;position: relative;}#sk-container-id-109 div.sk-text-repr-fallback {display: none;}</style><div id=\"sk-container-id-109\" class=\"sk-top-container\"><div class=\"sk-text-repr-fallback\"><pre>Pipeline(steps=[(&#x27;scaler&#x27;, MinMaxScaler()), (&#x27;svc&#x27;, PCA(n_components=2))])</pre><b>In a Jupyter environment, please rerun this cell to show the HTML representation or trust the notebook. <br />On GitHub, the HTML representation is unable to render, please try loading this page with nbviewer.org.</b></div><div class=\"sk-container\" hidden><div class=\"sk-item sk-dashed-wrapped\"><div class=\"sk-label-container\"><div class=\"sk-label sk-toggleable\"><input class=\"sk-toggleable__control sk-hidden--visually\" id=\"sk-estimator-id-300\" type=\"checkbox\" ><label for=\"sk-estimator-id-300\" class=\"sk-toggleable__label sk-toggleable__label-arrow\">Pipeline</label><div class=\"sk-toggleable__content\"><pre>Pipeline(steps=[(&#x27;scaler&#x27;, MinMaxScaler()), (&#x27;svc&#x27;, PCA(n_components=2))])</pre></div></div></div><div class=\"sk-serial\"><div class=\"sk-item\"><div class=\"sk-estimator sk-toggleable\"><input class=\"sk-toggleable__control sk-hidden--visually\" id=\"sk-estimator-id-301\" type=\"checkbox\" ><label for=\"sk-estimator-id-301\" class=\"sk-toggleable__label sk-toggleable__label-arrow\">MinMaxScaler</label><div class=\"sk-toggleable__content\"><pre>MinMaxScaler()</pre></div></div></div><div class=\"sk-item\"><div class=\"sk-estimator sk-toggleable\"><input class=\"sk-toggleable__control sk-hidden--visually\" id=\"sk-estimator-id-302\" type=\"checkbox\" ><label for=\"sk-estimator-id-302\" class=\"sk-toggleable__label sk-toggleable__label-arrow\">PCA</label><div class=\"sk-toggleable__content\"><pre>PCA(n_components=2)</pre></div></div></div></div></div></div></div>"
            ]
          },
          "metadata": {},
          "execution_count": 3210
        }
      ]
    },
    {
      "cell_type": "code",
      "source": [
        "from sklearn.tree import DecisionTreeClassifier\n",
        "from sklearn.model_selection import cross_val_score\n",
        "from sklearn import metrics"
      ],
      "metadata": {
        "id": "94HTHQM-ScVe"
      },
      "execution_count": 3211,
      "outputs": []
    },
    {
      "cell_type": "code",
      "source": [
        "#model_tree = DecisionTreeClassifier(criterion=\"entropy\", max_depth=7)\n",
        "#model_tree = model_tree.fit(X_train_5,y_train_5)\n",
        "#y_pred_tree = model_tree.predict(X_test_5)\n",
        "\n",
        "\n"
      ],
      "metadata": {
        "id": "ll86JdubU3ZX"
      },
      "execution_count": 3212,
      "outputs": []
    },
    {
      "cell_type": "code",
      "source": [
        "\n",
        "accuracy_scores = []\n",
        "for deph in list(range(1,20)):\n",
        "  model_tree = DecisionTreeClassifier(criterion=\"entropy\", max_depth=deph).fit(X_train_5,y_train_5)\n",
        "  y_pred_tree = model_tree.predict(X_test_5)\n",
        "  scores_f1_2 = cross_val_score(model_tree, X_train_5, y_train_5, cv=10, scoring='f1_macro')\n",
        "  scores_accuracy_2 = cross_val_score(model_tree, X_train_5, y_train_5, cv=10, scoring='accuracy')\n",
        "  #print(deph,\"Accuracy:\",deph,metrics.accuracy_score(y_test_5, y_pred_tree))\n",
        "  #print(deph,\"Accuracy:\",metrics.accuracy_score(y_test_5, y_pred_tree))\n",
        "  print (deph, scores_f1_2.mean(), scores_accuracy_2.mean())\n",
        "#dehp 8 max"
      ],
      "metadata": {
        "colab": {
          "base_uri": "https://localhost:8080/"
        },
        "id": "Y3O-n5Q-Y6xu",
        "outputId": "40a37e4a-ff28-43ce-e3cf-c2d7b1122225"
      },
      "execution_count": 3221,
      "outputs": [
        {
          "output_type": "stream",
          "name": "stdout",
          "text": [
            "1 0.27949213454786426 0.419023569023569\n",
            "2 0.4341691080501643 0.499057239057239\n",
            "3 0.5851695268359733 0.6340067340067341\n",
            "4 0.6486424018418491 0.6793265993265994\n",
            "5 0.6722772114715003 0.6939057239057239\n",
            "6 0.6642752227997865 0.673939393939394\n",
            "7 0.7071098153502873 0.7103367003367003\n",
            "8 0.713949126834572 0.7230976430976431\n",
            "9 0.7107607759664349 0.7102356902356903\n",
            "10 0.7295871618074066 0.7266329966329965\n",
            "11 0.7260240046351142 0.7103030303030303\n",
            "12 0.7142183602566848 0.7103367003367004\n",
            "13 0.7105715039620778 0.6866329966329967\n",
            "14 0.7362005994386024 0.7266666666666668\n",
            "15 0.7146203103348936 0.734074074074074\n",
            "16 0.7338513800705125 0.7120875420875421\n",
            "17 0.7294925017585827 0.7230976430976431\n",
            "18 0.7412244711666773 0.7048148148148148\n",
            "19 0.720448908232865 0.713939393939394\n"
          ]
        }
      ]
    },
    {
      "cell_type": "code",
      "source": [
        "model_tree = DecisionTreeClassifier(criterion=\"entropy\", max_depth=8).fit(X_train_5,y_train_5)\n",
        "y_pred_tree = model_tree.predict(X_test_5)\n",
        "cross_val_score(model_tree, X_train_5, y_train_5, cv=10,scoring='f1_macro').mean()"
      ],
      "metadata": {
        "colab": {
          "base_uri": "https://localhost:8080/"
        },
        "id": "J1geQBAfw1bS",
        "outputId": "c494a5df-72d2-42c6-f6dd-c93bf174bbdb"
      },
      "execution_count": 3222,
      "outputs": [
        {
          "output_type": "execute_result",
          "data": {
            "text/plain": [
              "0.7131863412340305"
            ]
          },
          "metadata": {},
          "execution_count": 3222
        }
      ]
    },
    {
      "cell_type": "markdown",
      "metadata": {
        "nbgrader": {
          "grade": false,
          "grade_id": "cell-9eadd4d8a03ae67a",
          "locked": true,
          "schema_version": 2,
          "solution": false
        },
        "id": "qFfTgYmJ-_Qu"
      },
      "source": [
        "#### 2.6. Bagging.\n",
        "Here starts the ensembling part.\n",
        "\n",
        "First we will use the __Bagging__ approach. Build an ensemble of $N$ algorithms varying N from $N_{min}=2$ to $N_{max}=100$ (with step 5).\n",
        "\n",
        "We will build two ensembles: of logistic regressions and of decision trees.\n",
        "\n",
        "*Comment: each ensemble should be constructed from models of the same family, so logistic regressions should not be mixed up with decision trees.*\n",
        "\n",
        "\n",
        "*Hint 1: To build a __Bagging__ ensebmle varying the ensemble size efficiently you might generate $N_{max}$ subsets of `train` data (of the same size as the original dataset) using bootstrap procedure once. Then you train a new instance of logistic regression/decision tree with optimal hyperparameters you estimated before on each subset (so you train it from scratch). Finally, to get an ensemble of $N$ models you average the $N$ out of $N_{max}$ models predictions.*\n",
        "\n",
        "*Hint 2: sklearn might help you with this taks. Some appropriate function/class might be out there.*\n",
        "\n",
        "* Plot `f1` and `accuracy` scores plots w.r.t. the size of the ensemble.\n",
        "\n",
        "* Briefly analyse the plot. What is the optimal number of algorithms? Explain your answer.\n",
        "\n",
        "* How do you think, are the hyperparameters for the decision trees you found in 2.5 optimal for trees used in ensemble? "
      ]
    },
    {
      "cell_type": "code",
      "execution_count": 3217,
      "metadata": {
        "nbgrader": {
          "grade": true,
          "grade_id": "cell-8fc95a2b206bdae1",
          "locked": false,
          "points": 35,
          "schema_version": 2,
          "solution": true
        },
        "id": "8V88NwYO-_Qu"
      },
      "outputs": [],
      "source": [
        "# YOUR CODE HERE"
      ]
    },
    {
      "cell_type": "code",
      "execution_count": 3217,
      "metadata": {
        "id": "zTufvwlm-_Qu"
      },
      "outputs": [],
      "source": []
    },
    {
      "cell_type": "markdown",
      "metadata": {
        "nbgrader": {
          "grade": false,
          "grade_id": "cell-241b7691ab44cbfb",
          "locked": true,
          "schema_version": 2,
          "solution": false
        },
        "id": "4XYyiSGT-_Qv"
      },
      "source": [
        "#### 2.7. Random Forest\n",
        "Now we will work with the Random Forest (its `sklearn` implementation).\n",
        "\n",
        "* * Plot `f1` and `accuracy` scores plots w.r.t. the number of trees in Random Forest.\n",
        "\n",
        "* What is the optimal number of trees you've got? Is it different from the optimal number of logistic regressions/decision trees in 2.6? Explain the results briefly."
      ]
    },
    {
      "cell_type": "code",
      "source": [],
      "metadata": {
        "id": "qbZl89hzvyJ3"
      },
      "execution_count": null,
      "outputs": []
    },
    {
      "cell_type": "code",
      "execution_count": 3218,
      "metadata": {
        "nbgrader": {
          "grade": true,
          "grade_id": "cell-888755d0f3d91620",
          "locked": false,
          "points": 15,
          "schema_version": 2,
          "solution": true
        },
        "id": "LtRXaJ1_-_Qv"
      },
      "outputs": [],
      "source": [
        "from sklearn.ensemble import RandomForestClassifier\n",
        "\n",
        "# YOUR CODE HERE"
      ]
    },
    {
      "cell_type": "markdown",
      "metadata": {
        "nbgrader": {
          "grade": false,
          "grade_id": "cell-99191c0852538d4d",
          "locked": true,
          "schema_version": 2,
          "solution": false
        },
        "id": "8lrA-XQ--_Qv"
      },
      "source": [
        "#### 2.8. Learning curve\n",
        "Your goal is to estimate, how does the model behaviour change with the increase of the `train` dataset size.\n",
        "\n",
        "* Split the training data into 10 equal (almost) parts. Then train the models from above (Logistic regression, Desicion Tree, Random Forest) with optimal hyperparameters you have selected on 1 part, 2 parts (combined, so the train size in increased by 2 times), 3 parts and so on.\n",
        "\n",
        "* Build a plot of `accuracy` and `f1` scores on `test` part, varying the `train` dataset size (so the axes will be score - dataset size.\n",
        "\n",
        "* Analyse the final plot. Can you make any conlusions using it? "
      ]
    },
    {
      "cell_type": "code",
      "execution_count": 3219,
      "metadata": {
        "nbgrader": {
          "grade": true,
          "grade_id": "cell-e39bc7e7dff61ff9",
          "locked": false,
          "points": 15,
          "schema_version": 2,
          "solution": true
        },
        "id": "fFeHpjhZ-_Qv"
      },
      "outputs": [],
      "source": [
        "# YOUR CODE HERE"
      ]
    }
  ],
  "metadata": {
    "celltoolbar": "Create Assignment",
    "kernelspec": {
      "display_name": "Py3 Research",
      "language": "python",
      "name": "py3_research_kernel"
    },
    "language_info": {
      "codemirror_mode": {
        "name": "ipython",
        "version": 3
      },
      "file_extension": ".py",
      "mimetype": "text/x-python",
      "name": "python",
      "nbconvert_exporter": "python",
      "pygments_lexer": "ipython3",
      "version": "3.9.7"
    },
    "toc": {
      "base_numbering": 1,
      "nav_menu": {},
      "number_sections": false,
      "sideBar": true,
      "skip_h1_title": false,
      "title_cell": "Table of Contents",
      "title_sidebar": "Contents",
      "toc_cell": false,
      "toc_position": {},
      "toc_section_display": true,
      "toc_window_display": false
    },
    "colab": {
      "provenance": []
    }
  },
  "nbformat": 4,
  "nbformat_minor": 0
}